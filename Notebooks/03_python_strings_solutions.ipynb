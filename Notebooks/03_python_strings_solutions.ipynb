{
 "cells": [
  {
   "cell_type": "markdown",
   "metadata": {},
   "source": [
    "# **Python Strings - Exercises**"
   ]
  },
  {
   "cell_type": "code",
   "execution_count": 4,
   "metadata": {},
   "outputs": [
    {
     "name": "stdout",
     "output_type": "stream",
     "text": [
      "Input string: Krishnagopal Halder\n",
      "The length of the string is: 19\n"
     ]
    }
   ],
   "source": [
    "# Find the length of a given string without using the len() function\n",
    "\n",
    "len_of_string = 0\n",
    "\n",
    "str_input = input(\"Enter your string: \")\n",
    "\n",
    "for i in str_input:\n",
    "    len_of_string += 1\n",
    "\n",
    "print(\"Input string:\", str_input)\n",
    "print(\"The length of the string is:\", len_of_string)"
   ]
  },
  {
   "cell_type": "code",
   "execution_count": 5,
   "metadata": {},
   "outputs": [
    {
     "name": "stdout",
     "output_type": "stream",
     "text": [
      "Email:  halder29uday@gmail.com\n",
      "Username: halder29uday\n"
     ]
    }
   ],
   "source": [
    "# Extract username from a given email. \n",
    "# Eg if the email is halder23krishnagopal@gmail.com \n",
    "# then the username should be halder23krishnagopal\n",
    "\n",
    "email = input(\"Enter your email: \")\n",
    "\n",
    "username = email.split(\"@\")[0]\n",
    "\n",
    "print(\"Email: \", email)\n",
    "print(\"Username:\", username)"
   ]
  },
  {
   "cell_type": "code",
   "execution_count": 7,
   "metadata": {},
   "outputs": [
    {
     "name": "stdout",
     "output_type": "stream",
     "text": [
      "Input string:  Hello, how are you?\n",
      "The frequency of e in the string is 2\n"
     ]
    }
   ],
   "source": [
    "# Count the frequency of a particular character in a provided string. \n",
    "# Eg 'hello how are you' is the string, the frequency of h in this string is 2.\n",
    "\n",
    "input_string = input(\"Enter your string: \")\n",
    "input_character = input(\"Enter the character: \")\n",
    "\n",
    "char_frequency = input_string.count(input_character)\n",
    "\n",
    "print(\"Input string: \", input_string)\n",
    "print(\"The frequency of\", input_character, \"in the string is\", char_frequency)"
   ]
  },
  {
   "cell_type": "code",
   "execution_count": 10,
   "metadata": {},
   "outputs": [
    {
     "name": "stdout",
     "output_type": "stream",
     "text": [
      "Input string:  Hi, how are you?\n",
      "Character to be removed:  y\n",
      "New string: Hi, how are ou?\n"
     ]
    }
   ],
   "source": [
    "# Write a program which can remove a particular character from a string.\n",
    "\n",
    "input_string = input(\"Enter your string: \")\n",
    "char_to_be_removed = input(\"Enter the character to be removed: \")\n",
    "new_string = \"\"\n",
    "\n",
    "for i in input_string:\n",
    "    if i == char_to_be_removed:\n",
    "        continue\n",
    "    new_string = new_string + i\n",
    "\n",
    "print(\"Input string: \", input_string)\n",
    "print(\"Character to be removed: \", char_to_be_removed)\n",
    "print(\"New string:\", new_string)"
   ]
  },
  {
   "cell_type": "code",
   "execution_count": 14,
   "metadata": {},
   "outputs": [
    {
     "name": "stdout",
     "output_type": "stream",
     "text": [
      "Input string:  malayalam\n",
      "Reversed string:  malayalam\n",
      "The string is palindrome.\n"
     ]
    }
   ],
   "source": [
    "# Write a program that can check whether a given string is palindrome or not.\n",
    "# abba\n",
    "# malayalam\n",
    "\n",
    "input_string = input(\"Enter your string: \")\n",
    "\n",
    "reversed_string = input_string[::-1]\n",
    "\n",
    "print(\"Input string: \", input_string)\n",
    "print(\"Reversed string: \", reversed_string)\n",
    "\n",
    "if input_string == reversed_string:\n",
    "    print(\"The string is palindrome.\")\n",
    "\n",
    "else:\n",
    "    print(\"The string is not a palindrome.\")"
   ]
  },
  {
   "cell_type": "code",
   "execution_count": 18,
   "metadata": {},
   "outputs": [
    {
     "data": {
      "text/plain": [
       "str"
      ]
     },
     "execution_count": 18,
     "metadata": {},
     "output_type": "execute_result"
    }
   ],
   "source": [
    "type(words)"
   ]
  },
  {
   "cell_type": "code",
   "execution_count": 20,
   "metadata": {},
   "outputs": [
    {
     "data": {
      "text/plain": [
       "['Hello', 'how', 'are']"
      ]
     },
     "execution_count": 20,
     "metadata": {},
     "output_type": "execute_result"
    }
   ],
   "source": [
    "words"
   ]
  },
  {
   "cell_type": "code",
   "execution_count": 21,
   "metadata": {},
   "outputs": [
    {
     "name": "stdout",
     "output_type": "stream",
     "text": [
      "Input string:  Hello how are you?\n",
      "Words: ['Hello', 'how', 'are', 'you?']\n",
      "The number of words in the string: 4\n"
     ]
    }
   ],
   "source": [
    "# Write a program to count the number of words in a string without split()\n",
    "\n",
    "input_string = input(\"Enter your string: \")\n",
    "\n",
    "words = list()\n",
    "number_of_words = 0\n",
    "word = \"\"\n",
    "\n",
    "for i in input_string:\n",
    "    if i != \" \":\n",
    "        word = word + i\n",
    "\n",
    "    else:\n",
    "        words.append(word)\n",
    "        word = \"\"\n",
    "words.append(word)\n",
    "\n",
    "print(\"Input string: \", input_string)\n",
    "print(\"Words:\", words)\n",
    "print(\"The number of words in the string:\", len(words))"
   ]
  },
  {
   "cell_type": "code",
   "execution_count": 25,
   "metadata": {},
   "outputs": [
    {
     "name": "stdout",
     "output_type": "stream",
     "text": [
      "Input string:  krishnagopal halder\n",
      "String in title case:  Krishnagopal Halder\n"
     ]
    }
   ],
   "source": [
    "# Write a python program to convert a string to title case without using the title()\n",
    "\n",
    "input_string = input(\"Enter your string: \")\n",
    "title_words = []\n",
    "\n",
    "for word in input_string.split(\" \"):\n",
    "    new_word = word[0].upper() + word[1:].lower()\n",
    "    title_words.append(new_word)\n",
    "\n",
    "print(\"Input string: \", input_string)\n",
    "print(\"String in title case: \", \" \".join(title_words))"
   ]
  },
  {
   "cell_type": "code",
   "execution_count": 26,
   "metadata": {},
   "outputs": [
    {
     "name": "stdout",
     "output_type": "stream",
     "text": [
      "Input integer: 345\n",
      "Datatype: <class 'str'>\n"
     ]
    }
   ],
   "source": [
    "# Write a program that can convert an integer to string.\n",
    "\n",
    "input_int = input(\"Enter your integer: \")\n",
    "\n",
    "print(\"Input integer:\", int(input_int))\n",
    "print(\"Datatype:\", type(input_int))"
   ]
  }
 ],
 "metadata": {
  "kernelspec": {
   "display_name": "py310",
   "language": "python",
   "name": "python3"
  },
  "language_info": {
   "codemirror_mode": {
    "name": "ipython",
    "version": 3
   },
   "file_extension": ".py",
   "mimetype": "text/x-python",
   "name": "python",
   "nbconvert_exporter": "python",
   "pygments_lexer": "ipython3",
   "version": "3.10.14"
  }
 },
 "nbformat": 4,
 "nbformat_minor": 2
}
