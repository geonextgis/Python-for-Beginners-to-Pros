{
 "cells": [
  {
   "cell_type": "markdown",
   "metadata": {},
   "source": [
    "# **Time Complexity**\n",
    "Time complexity is a computational concept that describes the amount of time an algorithm takes to complete as a function of the length of the input. It provides an upper bound on the time an algorithm will take to run and is typically expressed using Big O notation, which describes the worst-case scenario."
   ]
  },
  {
   "cell_type": "markdown",
   "metadata": {},
   "source": [
    "## **What is Efficiency in Programming?**\n",
    "\n",
    "Efficiency in programming refers to how effectively an algorithm or code performs in terms of resource usage. This includes both time efficiency (how fast the code runs) and space efficiency (how much memory the code uses). Efficient code performs its intended task using the least amount of computational resources possible, balancing both time and space constraints.\n",
    "\n",
    "Key aspects of efficiency in programming include:\n",
    "\n",
    "1. **Time Efficiency**:\n",
    "   - **Execution Time**: How quickly an algorithm completes its task. This is often evaluated using time complexity analysis (e.g., Big O notation).\n",
    "   - **Response Time**: How long it takes for a system or application to respond to a user action or request.\n",
    "\n",
    "2. **Space Efficiency**:\n",
    "   - **Memory Usage**: The amount of memory an algorithm or program uses during execution. This is often evaluated using space complexity analysis.\n",
    "   - **Data Structures**: Choosing the most appropriate data structures can significantly impact memory usage and access times.\n",
    "  \n",
    "Efficient programming is crucial for creating high-performance applications, especially in environments with limited resources or where performance is critical, such as real-time systems, large-scale data processing, and high-frequency trading systems."
   ]
  },
  {
   "cell_type": "markdown",
   "metadata": {
    "vscode": {
     "languageId": "plaintext"
    }
   },
   "source": [
    "## **Techniques to Measure Time Complexity**\n",
    "Measuring time efficiency involves various techniques to evaluate how quickly an algorithm or program executes. Here are some common techniques:\n",
    "\n",
    "### 1. **Measuring Time to Execute**\n",
    "Manually measure the execution time of a code block using built-in functions. Measuring time to execute is a common approach to evaluating the performance of an algorithm or piece of code. However, this method has several limitations and potential problems:\n",
    "\n",
    "1. **System Dependence**\n",
    "   - **Hardware Variability**: Execution time can vary significantly across different hardware configurations (e.g., different CPUs, memory speeds).\n",
    "   - **Operating System Variability**: Different operating systems or even different states of the same OS can affect performance due to background processes and system load.\n",
    "\n",
    "2. **Environment Variability**\n",
    "   - **Background Processes**: Other running applications or processes can consume CPU time and memory, leading to inconsistent measurements.\n",
    "   - **Network Latency**: For programs that depend on network resources, network latency and bandwidth fluctuations can affect execution time.\n",
    "\n",
    "3. **Measurement Overhead**\n",
    "   - **Timing Overhead**: The act of measuring execution time itself can introduce overhead, especially for very short code segments, making the measurement less accurate.\n",
    "   - **Profiling Overhead**: Using profiling tools can add significant overhead, distorting the actual performance characteristics of the code."
   ]
  },
  {
   "cell_type": "code",
   "execution_count": 2,
   "metadata": {},
   "outputs": [
    {
     "name": "stdout",
     "output_type": "stream",
     "text": [
      "0\n",
      "1\n",
      "2\n",
      "3\n",
      "4\n",
      "5\n",
      "6\n",
      "7\n",
      "8\n",
      "9\n",
      "10\n",
      "11\n",
      "12\n",
      "13\n",
      "14\n",
      "15\n",
      "16\n",
      "17\n",
      "18\n",
      "19\n",
      "20\n",
      "21\n",
      "22\n",
      "23\n",
      "24\n",
      "25\n",
      "26\n",
      "27\n",
      "28\n",
      "29\n",
      "30\n",
      "31\n",
      "32\n",
      "33\n",
      "34\n",
      "35\n",
      "36\n",
      "37\n",
      "38\n",
      "39\n",
      "40\n",
      "41\n",
      "42\n",
      "43\n",
      "44\n",
      "45\n",
      "46\n",
      "47\n",
      "48\n",
      "49\n",
      "50\n",
      "51\n",
      "52\n",
      "53\n",
      "54\n",
      "55\n",
      "56\n",
      "57\n",
      "58\n",
      "59\n",
      "60\n",
      "61\n",
      "62\n",
      "63\n",
      "64\n",
      "65\n",
      "66\n",
      "67\n",
      "68\n",
      "69\n",
      "70\n",
      "71\n",
      "72\n",
      "73\n",
      "74\n",
      "75\n",
      "76\n",
      "77\n",
      "78\n",
      "79\n",
      "80\n",
      "81\n",
      "82\n",
      "83\n",
      "84\n",
      "85\n",
      "86\n",
      "87\n",
      "88\n",
      "89\n",
      "90\n",
      "91\n",
      "92\n",
      "93\n",
      "94\n",
      "95\n",
      "96\n",
      "97\n",
      "98\n",
      "99\n",
      "Time taken: 0.0010001659393310547 seconds.\n"
     ]
    }
   ],
   "source": [
    "import time\n",
    "\n",
    "start = time.time()\n",
    "\n",
    "for i in range(100):\n",
    "    print(i)\n",
    "\n",
    "end = time.time()\n",
    "\n",
    "print(\"Time taken:\", end-start, \"seconds.\")"
   ]
  },
  {
   "cell_type": "markdown",
   "metadata": {},
   "source": [
    "### 2. **Counting Operations Involved**\n",
    "\n",
    "Manually count the number of key operations (e.g., comparisons, assignments) in the code to estimate its time complexity.\n",
    "\n",
    "- **Advantages:**\n",
    "\n",
    "  1. **Hardware Independence**: Provides a measure of algorithm efficiency that is not affected by the underlying hardware or system   environment.\n",
    "   \n",
    "  2. **Theoretical Insight**: Offers a clear understanding of the algorithm's behavior and complexity, helping to predict performance for different input sizes.\n",
    "   \n",
    "  3. **Granularity**: Allows for detailed analysis of specific parts of the algorithm, identifying potential bottlenecks and areas for optimization.\n",
    "   \n",
    "  4. **Predictability**: Enables consistent and repeatable results, as the operation count is deterministic for a given input.\n",
    "\n",
    "- **Disadvantages:**\n",
    "\n",
    "  1. **Complexity in Implementation**: Manually counting operations can be tedious and error-prone, especially for complex algorithms.\n",
    "\n",
    "  2. **Simplification Assumptions**: Often focuses on a single type of operation (e.g., comparisons, swaps), which may oversimplify the actual performance characteristics.\n",
    "\n",
    "  3. **Ignoring Constant Factors**: Does not account for constant time operations or overheads, which can be significant in practical scenarios.\n",
    "   \n",
    "  4. **No Direct Execution Time**: Provides an abstract measure of complexity but does not translate directly to actual execution time, which is also influenced by factors like memory access patterns and cache performance."
   ]
  },
  {
   "cell_type": "code",
   "execution_count": 7,
   "metadata": {},
   "outputs": [],
   "source": [
    "# Function to convert Celsius (°C) value to its Fahrenheit (°F)\n",
    "def cel_to_farh(c):\n",
    "    return c * 9/5 + 32 # total 3 operations\n",
    "\n",
    "\n",
    "# Function to compute sum of digits in all numbers from 1 to n\n",
    "def mysum(n):\n",
    "    sum = 0 # 1st operation\n",
    "    for i in range(n+1): # 3n operations\n",
    "        sum += i\n",
    "    return sum # total 1 + 3n operations"
   ]
  },
  {
   "cell_type": "markdown",
   "metadata": {},
   "source": [
    "### 3. **Orders of Growth**\n",
    "\n",
    "Orders of growth are used to describe the asymptotic behavior of an algorithm's time or space complexity as the input size increases. This concept helps in comparing the efficiency of different algorithms, particularly for large input sizes. \n",
    "\n",
    "**Goals:** <br> The goals of understanding and analyzing orders of growth in algorithm design and analysis are fundamental to creating efficient and scalable software. Here are the key goals:\n",
    "1. Want to evaluate program's efficiency when the input is very big.\n",
    "2. Want to express the growth of program's run time as input size grows.\n",
    "3. Want to put an upper bound on growth - as tight as possible.\n",
    "4. Do not need to be precise: \"order of\" not \"exact\" growth.\n",
    "5. We will look at the largest factors in run time (which section of the program will take the longest to run?)\n",
    "6. Thus, generally we want tight upper bound on growth, as function of the size input, in worst case."
   ]
  },
  {
   "cell_type": "markdown",
   "metadata": {},
   "source": [
    "#### **Exact Steps vs O()**\n",
    "- Computes factorial\n",
    "- Number of steps\n",
    "- Worst case asymptotic complexity:\n",
    "  - ignore additive constants\n",
    "  - ignore multiplicative constants"
   ]
  },
  {
   "cell_type": "code",
   "execution_count": 4,
   "metadata": {},
   "outputs": [],
   "source": [
    "# Write a function to calculate the factorial of any given number\n",
    "def factorial(n):\n",
    "    \"\"\"assuming n is an integer >= 0\"\"\"\n",
    "    result = 1 # 1 operation\n",
    "    while n > 1: # 1 operation\n",
    "        result *= n # 2 operations\n",
    "        n -= 1 # 2 operations\n",
    "    return result # 1 operation\n",
    "\n",
    "# Total operations: 5n + 2"
   ]
  },
  {
   "cell_type": "code",
   "execution_count": null,
   "metadata": {},
   "outputs": [],
   "source": []
  }
 ],
 "metadata": {
  "kernelspec": {
   "display_name": "py310",
   "language": "python",
   "name": "python3"
  },
  "language_info": {
   "codemirror_mode": {
    "name": "ipython",
    "version": 3
   },
   "file_extension": ".py",
   "mimetype": "text/x-python",
   "name": "python",
   "nbconvert_exporter": "python",
   "pygments_lexer": "ipython3",
   "version": "3.10.14"
  }
 },
 "nbformat": 4,
 "nbformat_minor": 2
}
