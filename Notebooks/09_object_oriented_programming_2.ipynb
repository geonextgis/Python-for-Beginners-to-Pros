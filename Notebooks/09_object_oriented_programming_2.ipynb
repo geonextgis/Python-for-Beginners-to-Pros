{
 "cells": [
  {
   "cell_type": "markdown",
   "metadata": {},
   "source": [
    "# **Object Oriented Programming (Part 2)**"
   ]
  },
  {
   "cell_type": "markdown",
   "metadata": {
    "vscode": {
     "languageId": "plaintext"
    }
   },
   "source": [
    "## **Problem Statement:** Write OOP classes to handle the following scenarios:\n",
    "- A user can create and view 2D coordinates\n",
    "- A user can find out the distance between 2 coordinates\n",
    "- A user can find the distance of a coordinate from origin\n",
    "- A user can check if a point lies on a given line\n",
    "- A user can find the distance between a given 2D point and a given line"
   ]
  },
  {
   "cell_type": "code",
   "execution_count": null,
   "metadata": {},
   "outputs": [],
   "source": [
    "# Write classes for coordinate geometry\n",
    "class Point:\n",
    "\n",
    "    # parameterized constructor\n",
    "    def __init__(self, x, y):\n",
    "        self.x_coord = x\n",
    "        self.y_coord = y\n",
    "\n",
    "    # print representation using magic methods\n",
    "    def __str__(self):\n",
    "        return \"<{}, {}>\".format(self.x_coord, self.y_coord)\n",
    "    \n",
    "    # method to calculate euclidean distance\n",
    "    def euclidean_distance(self, other):\n",
    "        return ((self.x_coord - other.x_coord)**2 + (self.y_coord - other.y_coord)**2)**0.5\n",
    "    \n",
    "    # method to distance from origin\n",
    "    def distance_from_origin(self):\n",
    "        # return (self.x_coord**2 + self.y_coord*82)**5 # alternative\n",
    "        return self.euclidean_distance(Point(0, 0))\n",
    "    \n",
    "class Line:\n",
    "\n",
    "    # parameterized constructor\n",
    "    def __init__(self, A, B, C):\n",
    "        self.A = A\n",
    "        self.B = B\n",
    "        self.C = C\n",
    "\n",
    "    # print representation using magic methods\n",
    "    def __str__(self):\n",
    "        return f\"{self.A}x + {self.B}y + {self.C} = 0\"\n",
    "    \n",
    "    # method to check a point fall on a line\n",
    "    def point_on_line(line, point):\n",
    "        if line.A*point.x_coord + line.B*point.y_coord + line.C == 0:\n",
    "            return True # point falls on the line\n",
    "        else:\n",
    "            return False # point doesn't fall on the line\n",
    "    \n",
    "    # method to calculate shortest distance between a line and a point\n",
    "    def shortest_distance(line, point):\n",
    "        return abs(line.A*point.x_coord + line.B*point.y_coord + line.C) / (line.A**2 + line.B**2)**0.5\n",
    "    \n",
    "    # method to check whether two line segments intersect each other\n",
    "    def is_intersected(line1, line2):\n",
    "        if ((line1.A / line2.A) != (line1.B / line2.B)) or ((line1.A / line2.A) == (line1.B / line2.B) == (line1.C / line2.C)):\n",
    "            return True # lines are intersecting each other\n",
    "        else:\n",
    "            return False # lines are not intersecting each other"
   ]
  },
  {
   "cell_type": "code",
   "execution_count": 40,
   "metadata": {},
   "outputs": [
    {
     "name": "stdout",
     "output_type": "stream",
     "text": [
      "First point object: <0, 0>\n",
      "Second point object: <1, 1>\n",
      "First line object: 1x + 1y + -2 = 0\n",
      "Euclidean distance between point1 and point2 1.4142135623730951\n",
      "Distance of the point2 from the origin 1.4142135623730951\n",
      "point2 falls on the line1?: True\n",
      "Shortest distance between line1 and point1 is: 1.414213562373095\n",
      "Line2 is intersecting Line3: True\n"
     ]
    }
   ],
   "source": [
    "# Create two Point objects\n",
    "point1 = Point(0, 0)\n",
    "point2 = Point(1, 1)\n",
    "\n",
    "# Create three Line objects\n",
    "line1 = Line(1, 1, -2)\n",
    "line2 = Line(2, 1, 1)\n",
    "line3 = Line(1, 1, -4)\n",
    "\n",
    "print(\"First point object:\", point1)\n",
    "print(\"Second point object:\", point2)\n",
    "print(\"First line object:\", line1)\n",
    "\n",
    "print(\"Euclidean distance between point1 and point2\", point1.euclidean_distance(point2))\n",
    "print(\"Distance of the point2 from the origin\", point2.distance_from_origin())\n",
    "print(\"point2 falls on the line1?:\", line1.point_on_line(point2))\n",
    "print(\"Shortest distance between line1 and point1 is:\", line1.shortest_distance(point1))\n",
    "print(\"Line2 is intersecting Line3:\", line2.is_intersected(line3))"
   ]
  }
 ],
 "metadata": {
  "kernelspec": {
   "display_name": "py310",
   "language": "python",
   "name": "python3"
  },
  "language_info": {
   "codemirror_mode": {
    "name": "ipython",
    "version": 3
   },
   "file_extension": ".py",
   "mimetype": "text/x-python",
   "name": "python",
   "nbconvert_exporter": "python",
   "pygments_lexer": "ipython3",
   "version": "3.10.14"
  }
 },
 "nbformat": 4,
 "nbformat_minor": 2
}
