{
 "cells": [
  {
   "cell_type": "markdown",
   "metadata": {},
   "source": [
    "# **Object Oriented Programming (Part 2)**"
   ]
  },
  {
   "cell_type": "markdown",
   "metadata": {
    "vscode": {
     "languageId": "plaintext"
    }
   },
   "source": [
    "## **Problem Statement:** Write OOP classes to handle the following scenarios:\n",
    "- A user can create and view 2D coordinates\n",
    "- A user can find out the distance between 2 coordinates\n",
    "- A user can find the distance of a coordinate from origin\n",
    "- A user can check if a point lies on a given line\n",
    "- A user can find the distance between a given 2D point and a given line"
   ]
  },
  {
   "cell_type": "code",
   "execution_count": 3,
   "metadata": {},
   "outputs": [],
   "source": [
    "# Write classes for coordinate geometry\n",
    "class Point:\n",
    "\n",
    "    # parameterized constructor\n",
    "    def __init__(self, x, y):\n",
    "        self.x_coord = x\n",
    "        self.y_coord = y\n",
    "\n",
    "    # print representation using magic methods\n",
    "    def __str__(self):\n",
    "        return \"<{}, {}>\".format(self.x_coord, self.y_coord)\n",
    "    \n",
    "    # method to calculate euclidean distance\n",
    "    def euclidean_distance(self, other):\n",
    "        return ((self.x_coord - other.x_coord)**2 + (self.y_coord - other.y_coord)**2)**0.5\n",
    "    \n",
    "    # method to distance from origin\n",
    "    def distance_from_origin(self):\n",
    "        # return (self.x_coord**2 + self.y_coord*82)**5 # alternative\n",
    "        return self.euclidean_distance(Point(0, 0))\n",
    "    \n",
    "class Line:\n",
    "\n",
    "    # parameterized constructor\n",
    "    def __init__(self, A, B, C):\n",
    "        self.A = A\n",
    "        self.B = B\n",
    "        self.C = C\n",
    "\n",
    "    # print representation using magic methods\n",
    "    def __str__(self):\n",
    "        return f\"{self.A}x + {self.B}y + {self.C} = 0\"\n",
    "    \n",
    "    # method to check a point fall on a line\n",
    "    def point_on_line(line, point):\n",
    "        if line.A*point.x_coord + line.B*point.y_coord + line.C == 0:\n",
    "            return True # point falls on the line\n",
    "        else:\n",
    "            return False # point doesn't fall on the line\n",
    "    \n",
    "    # method to calculate shortest distance between a line and a point\n",
    "    def shortest_distance(line, point):\n",
    "        return abs(line.A*point.x_coord + line.B*point.y_coord + line.C) / (line.A**2 + line.B**2)**0.5\n",
    "    \n",
    "    # method to check whether two line segments intersect each other\n",
    "    def is_intersected(line1, line2):\n",
    "        if ((line1.A / line2.A) != (line1.B / line2.B)) or ((line1.A / line2.A) == (line1.B / line2.B) == (line1.C / line2.C)):\n",
    "            return True # lines are intersecting each other\n",
    "        else:\n",
    "            return False # lines are not intersecting each other"
   ]
  },
  {
   "cell_type": "code",
   "execution_count": 4,
   "metadata": {},
   "outputs": [
    {
     "name": "stdout",
     "output_type": "stream",
     "text": [
      "First point object: <0, 0>\n",
      "Second point object: <1, 1>\n",
      "First line object: 1x + 1y + -2 = 0\n",
      "Euclidean distance between point1 and point2 1.4142135623730951\n",
      "Distance of the point2 from the origin 1.4142135623730951\n",
      "point2 falls on the line1?: True\n",
      "Shortest distance between line1 and point1 is: 1.414213562373095\n",
      "Line2 is intersecting Line3: True\n"
     ]
    }
   ],
   "source": [
    "# Create two Point objects\n",
    "point1 = Point(0, 0)\n",
    "point2 = Point(1, 1)\n",
    "\n",
    "# Create three Line objects\n",
    "line1 = Line(1, 1, -2)\n",
    "line2 = Line(2, 1, 1)\n",
    "line3 = Line(1, 1, -4)\n",
    "\n",
    "print(\"First point object:\", point1)\n",
    "print(\"Second point object:\", point2)\n",
    "print(\"First line object:\", line1)\n",
    "\n",
    "print(\"Euclidean distance between point1 and point2\", point1.euclidean_distance(point2))\n",
    "print(\"Distance of the point2 from the origin\", point2.distance_from_origin())\n",
    "print(\"point2 falls on the line1?:\", line1.point_on_line(point2))\n",
    "print(\"Shortest distance between line1 and point1 is:\", line1.shortest_distance(point1))\n",
    "print(\"Line2 is intersecting Line3:\", line2.is_intersected(line3))"
   ]
  },
  {
   "cell_type": "markdown",
   "metadata": {},
   "source": [
    "## **How Object access Attributes**\n",
    "In Python, objects access attributes using the dot notation (`object.attribute`)."
   ]
  },
  {
   "cell_type": "code",
   "execution_count": 5,
   "metadata": {},
   "outputs": [],
   "source": [
    "# Create a Person class\n",
    "class Person:\n",
    "\n",
    "    def __init__(self, name, country):\n",
    "        self.name = name\n",
    "        self.country = country\n",
    "\n",
    "    def greet(self):\n",
    "        if self.country == \"india\":\n",
    "            print(\"Namaste\", self.name)\n",
    "        else:\n",
    "            print(\"Hello\", self.name)"
   ]
  },
  {
   "cell_type": "code",
   "execution_count": 6,
   "metadata": {},
   "outputs": [
    {
     "name": "stdout",
     "output_type": "stream",
     "text": [
      "Name: Krishnagopal\n",
      "Country: India\n",
      "Hello Krishnagopal\n"
     ]
    }
   ],
   "source": [
    "# Create a Person object\n",
    "person1 = Person(\"Krishnagopal\", \"India\")\n",
    "\n",
    "# accessing the attributes\n",
    "print(\"Name:\", person1.name)\n",
    "print(\"Country:\", person1.country)\n",
    "\n",
    "# accessing the methods\n",
    "person1.greet()"
   ]
  },
  {
   "cell_type": "markdown",
   "metadata": {},
   "source": [
    "## **Attribute Creation from Outside of the Class**"
   ]
  },
  {
   "cell_type": "code",
   "execution_count": 7,
   "metadata": {},
   "outputs": [
    {
     "data": {
      "text/plain": [
       "'male'"
      ]
     },
     "execution_count": 7,
     "metadata": {},
     "output_type": "execute_result"
    }
   ],
   "source": [
    "# Create a new attribute to the object outside of the class\n",
    "person1.gender = \"male\"\n",
    "person1.gender"
   ]
  },
  {
   "cell_type": "markdown",
   "metadata": {},
   "source": [
    "## **Reference Variables**\n",
    "A **reference variable** in Python is a variable that refers to (or \"points to\") an object in memory. Python variables do not hold the actual data directly but instead hold a reference (memory address) to the object where the data is stored.\n",
    "\n",
    "- Reference variables hold the objects\n",
    "- We can create objects without reference variable as well\n",
    "- An object can have multiple reference variables\n",
    "- Assigning a new reference variable to an existing object does not create a new object"
   ]
  },
  {
   "cell_type": "code",
   "execution_count": 8,
   "metadata": {},
   "outputs": [
    {
     "data": {
      "text/plain": [
       "<__main__.Person at 0x24a13caa320>"
      ]
     },
     "execution_count": 8,
     "metadata": {},
     "output_type": "execute_result"
    }
   ],
   "source": [
    "# Object without a reference\n",
    "class Person:\n",
    "\n",
    "    def __init__(self, name, gender):\n",
    "        self.name = name\n",
    "        self.gender = gender\n",
    "\n",
    "Person(\"krishnagopal\", \"male\")"
   ]
  },
  {
   "cell_type": "code",
   "execution_count": 9,
   "metadata": {},
   "outputs": [
    {
     "name": "stdout",
     "output_type": "stream",
     "text": [
      "2517183022320\n",
      "2517183022320\n"
     ]
    }
   ],
   "source": [
    "p = Person(\"krishnagopal\", \"male\")\n",
    "q = p\n",
    "\n",
    "# multiple reference\n",
    "print(id(p))\n",
    "print(id(q))"
   ]
  },
  {
   "cell_type": "code",
   "execution_count": 10,
   "metadata": {},
   "outputs": [
    {
     "name": "stdout",
     "output_type": "stream",
     "text": [
      "krishnagopal\n",
      "krishnagopal\n",
      "ankit\n",
      "ankit\n"
     ]
    }
   ],
   "source": [
    "print(p.name)\n",
    "print(q.name)\n",
    "q.name = \"ankit\"\n",
    "print(q.name)\n",
    "print(p.name)"
   ]
  },
  {
   "cell_type": "markdown",
   "metadata": {},
   "source": [
    "## **Pass by Reference**\n",
    "In programming, pass by reference refers to passing the memory address of a variable (a reference) to a function. This means that if the function modifies the parameter, it directly affects the original variable since both refer to the same memory location."
   ]
  },
  {
   "cell_type": "code",
   "execution_count": 11,
   "metadata": {},
   "outputs": [
    {
     "name": "stdout",
     "output_type": "stream",
     "text": [
      "Hi! my name is krishnagopal and I am a male.\n",
      "ankit\n",
      "male\n"
     ]
    }
   ],
   "source": [
    "class Person:\n",
    "\n",
    "    def __init__(self, name, gender):\n",
    "        self.name = name\n",
    "        self.gender = gender\n",
    "    \n",
    "# outside the class -> function\n",
    "def greet(person):\n",
    "    print(f\"Hi! my name is {person.name} and I am a {person.gender}.\")\n",
    "    p1 = Person(\"ankit\", \"male\")\n",
    "    return p1\n",
    "\n",
    "p = Person(\"krishnagopal\", \"male\")\n",
    "x = greet(p)\n",
    "print(x.name)\n",
    "print(x.gender)"
   ]
  },
  {
   "cell_type": "markdown",
   "metadata": {},
   "source": [
    "## **Mutability of an Object**\n",
    "\n",
    "In Python, **mutability** refers to whether an object's value can be changed after it has been created. Objects in Python fall into two categories based on their mutability:\n",
    "\n",
    "1. **Mutable Objects**: Can be changed after creation.\n",
    "2. **Immutable Objects**: Cannot be changed after creation.\n",
    "\n",
    "To determine whether an object is mutable or immutable, you can check the memory address of the object using `id()`. If the address changes after modification, the object is immutable."
   ]
  },
  {
   "cell_type": "code",
   "execution_count": 12,
   "metadata": {},
   "outputs": [
    {
     "name": "stdout",
     "output_type": "stream",
     "text": [
      "2517183025104\n",
      "2517183025104\n"
     ]
    }
   ],
   "source": [
    "class Person:\n",
    "\n",
    "    def __init__(self, name, gender):\n",
    "        self.name = name\n",
    "        self.gender = gender\n",
    "\n",
    "# outside of the class -> function\n",
    "def greet(person):\n",
    "    person.name = \"ankit\"\n",
    "    return person\n",
    "\n",
    "p = Person(\"krishnagopal\", \"male\")\n",
    "print(id(p))\n",
    "p1 = greet(p)\n",
    "print(id(p1))"
   ]
  },
  {
   "cell_type": "markdown",
   "metadata": {},
   "source": [
    "## **Instance Variable**\n",
    "An instance variable is a variable that is tied to a specific instance of a class. Each object (or instance) of a class can have its own unique values for these variables. These variables store the state or attributes of the object."
   ]
  },
  {
   "cell_type": "code",
   "execution_count": 13,
   "metadata": {},
   "outputs": [],
   "source": [
    "# instance variable -> name, country\n",
    "class Person:\n",
    "\n",
    "    def __init__(self, name, gender):\n",
    "        self.name = name\n",
    "        self.gender = gender\n",
    "\n",
    "p1 = Person(\"ankit\", \"india\")\n",
    "p2 = Person(\"krishnagopal\", \"germany\")"
   ]
  },
  {
   "cell_type": "code",
   "execution_count": 14,
   "metadata": {},
   "outputs": [
    {
     "name": "stdout",
     "output_type": "stream",
     "text": [
      "ankit\n",
      "krishnagopal\n"
     ]
    }
   ],
   "source": [
    "print(p1.name)\n",
    "print(p2.name)"
   ]
  },
  {
   "cell_type": "markdown",
   "metadata": {},
   "source": [
    "## **Encapsulation**\n",
    "\n",
    "Encapsulation in Python is a fundamental concept in object-oriented programming (OOP) that refers to bundling data (attributes) and the methods (functions) that operate on the data into a single unit, typically a class. Encapsulation helps in restricting direct access to certain components of an object, thereby maintaining the integrity of the data and promoting modular, secure code design.\n",
    "\n",
    "\n",
    "**Key Aspects of Encapsulation:**\n",
    "1. **Data Hiding**:\n",
    "   - Encapsulation provides a way to hide the internal state of an object and protect it from unintended interference and misuse.\n",
    "   - Access to the object's internal state is controlled through public methods (getters and setters).\n",
    "\n",
    "2. **Access Modifiers**:\n",
    "   - **Public**: Members (attributes or methods) with no underscores are accessible from anywhere.\n",
    "   - **Protected**: Members prefixed with a single underscore (`_attribute`) indicate that they are intended to be used within the class or subclasses (not enforced by Python but a convention).\n",
    "   - **Private**: Members prefixed with a double underscore (`__attribute`) are name-mangled to prevent direct access outside the class.\n",
    "\n",
    "**Advantages of Encapsulation:**\n",
    "- **Improves Security**: Protects sensitive data from being accessed or modified accidentally.\n",
    "- **Enhances Code Modularity**: Changes to the internal implementation of a class can be made without affecting the external code.\n",
    "- **Promotes Maintainability**: Encapsulation simplifies debugging and updating of code.\n",
    "- **Encourages Abstraction**: Focuses on what an object does rather than how it does it.\n",
    "\n",
    "Encapsulation is an essential part of designing robust and scalable systems in Python."
   ]
  },
  {
   "cell_type": "code",
   "execution_count": 15,
   "metadata": {},
   "outputs": [],
   "source": [
    "# Create an ATM class\n",
    "class ATM:\n",
    "\n",
    "    def __init__(self):\n",
    "        self.pin = \"\"\n",
    "        self.__balance = 0\n",
    "        self.menu()\n",
    "\n",
    "    def get_balance(self):\n",
    "        return self.__balance\n",
    "    \n",
    "    def set_balance(self, new_balance):\n",
    "        if type(new_balance) == int:\n",
    "            self.__balance = new_balance\n",
    "\n",
    "        else:\n",
    "            print(\"Only integer is supported\")\n",
    "\n",
    "    def menu(self):\n",
    "        user_input = input(\n",
    "            \"\"\"\n",
    "            Hi how can I help you?\n",
    "            1. Press 1 to create pin\n",
    "            2. Press 2 to change pin\n",
    "            3. Press 3 to check balance\n",
    "            4. Press 4 to withdraw\n",
    "            5. Anything else to exit\n",
    "            \"\"\")\n",
    "\n",
    "        if user_input == \"1\":\n",
    "            self.create_pin()\n",
    "\n",
    "        elif user_input == \"2\":\n",
    "            self.change_pin()\n",
    "\n",
    "        elif user_input == \"3\":\n",
    "            self.check_balance()\n",
    "\n",
    "        elif user_input == \"4\":\n",
    "            self.withdraw()\n",
    "\n",
    "        else:\n",
    "            pass\n",
    "\n",
    "    def create_pin(self):\n",
    "        user_pin = input(\"Enter your PIN: \")\n",
    "        self.pin = user_pin\n",
    "\n",
    "        user_balance = input(\"Enter your balance: \")\n",
    "        self.__balance = user_balance\n",
    "\n",
    "        print(\"PIN created successfully\")\n",
    "\n",
    "    def change_pin(self):\n",
    "        old_pin = input(\"Enter old PIN:\")\n",
    "\n",
    "        if old_pin == self.pin:\n",
    "            # Let user change the PIN\n",
    "            new_pin = input(\"Enter new PIN:\")\n",
    "            self.pin = new_pin\n",
    "            print(\"PIN change successfully.\")\n",
    "            self.menu()\n",
    "\n",
    "        else:\n",
    "            print(\"You entered incorrect PIN.\")\n",
    "            self.menu()\n",
    "\n",
    "    def check_balance(self):\n",
    "        user_pin = input(\"Enter your PIN:\")\n",
    "        if user_pin == self.pin:\n",
    "            print(\"Your balance is \", self.__balance)\n",
    "\n",
    "        else:\n",
    "            print(\"You entered incorrect PIN.\")\n",
    "\n",
    "    def withdraw(self):\n",
    "        user_pin = input(\"Enter your PIN:\")\n",
    "        if user_pin == self.pin:\n",
    "            amount = int(input(\"Enter the amount\"))\n",
    "            if amount <= self.__balance:\n",
    "                self.__balance = self.__balance - amount\n",
    "                print(\"Withdrawl successfull. New balance is \", self.__balance)\n",
    "\n",
    "            else:\n",
    "                print(\"Your account has insufficient balance.\")\n",
    "\n",
    "        else:\n",
    "            print(\"You entered incorrect PIN.\")\n",
    "\n",
    "        self.menu()"
   ]
  },
  {
   "cell_type": "code",
   "execution_count": 19,
   "metadata": {},
   "outputs": [],
   "source": [
    "# atm_obj = ATM()\n",
    "# atm_obj.get_balance()"
   ]
  },
  {
   "cell_type": "code",
   "execution_count": 20,
   "metadata": {},
   "outputs": [],
   "source": [
    "# atm_obj.set_balance(1000)\n",
    "# atm_obj.get_balance()"
   ]
  },
  {
   "cell_type": "code",
   "execution_count": 21,
   "metadata": {},
   "outputs": [],
   "source": [
    "# atm_obj.withdraw()"
   ]
  },
  {
   "cell_type": "markdown",
   "metadata": {},
   "source": [
    "## **Collection of Objects**\n",
    "\n",
    "In Python, objects can be organized into collections like lists, sets, or dictionaries, enabling efficient storage and manipulation of related data. For example, by creating a list of objects from a class, we can store multiple instances and process them collectively. This allows operations like iteration, filtering, or accessing specific attributes for all objects in the collection. This approach is particularly useful for managing and performing batch operations on similar data entities."
   ]
  },
  {
   "cell_type": "code",
   "execution_count": 24,
   "metadata": {},
   "outputs": [
    {
     "name": "stdout",
     "output_type": "stream",
     "text": [
      "krishnagopal\n",
      "abir\n",
      "dipak\n"
     ]
    }
   ],
   "source": [
    "# List of objects\n",
    "class Person:\n",
    "\n",
    "    def __init__(self, name, gender):\n",
    "        self.name = name\n",
    "        self.gender = gender\n",
    "\n",
    "p1 = Person(\"krishnagopal\", \"male\")\n",
    "p2 = Person(\"abir\", \"male\")\n",
    "p3 = Person(\"dipak\", \"male\")\n",
    "\n",
    "L = [p1, p2, p3]\n",
    "\n",
    "for i in L:\n",
    "    print(i.name)"
   ]
  },
  {
   "cell_type": "code",
   "execution_count": 30,
   "metadata": {},
   "outputs": [
    {
     "name": "stdout",
     "output_type": "stream",
     "text": [
      "person1 : krishnagopal , male\n",
      "person2 : abir , male\n",
      "person3 : dipak , male\n"
     ]
    }
   ],
   "source": [
    "D = {\"person1\": p1, \"person2\": p2, \"person3\": p3}\n",
    "\n",
    "for key, value in D.items():\n",
    "    print(key, \":\", value.name, \",\", value.gender)"
   ]
  },
  {
   "cell_type": "markdown",
   "metadata": {},
   "source": [
    "## **Static Variables**\n",
    "A **static variable** in Python refers to a variable that is shared among all instances of a class. It belongs to the class rather than any specific instance, meaning its value is the same across all objects of that class unless explicitly modified. Static variables are defined at the class level, outside of any instance methods.\n",
    "\n",
    "**Characteristics of Static Variables:**\n",
    "1. **Class-Level Scope**:\n",
    "   - Static variables are declared inside the class but outside any instance methods or constructors.\n",
    "   - They are shared across all instances of the class.\n",
    "\n",
    "2. **Shared State**:\n",
    "   - All instances of the class share the same static variable, and any changes to it are reflected across all instances.\n",
    "\n",
    "3. **Access**:\n",
    "   - Can be accessed using the class name (`ClassName.variable`) or an instance (`object.variable`), though the former is preferred for clarity.\n",
    "\n",
    "**Key Points to Remember:**\n",
    "1. **Static vs Instance Variables**:\n",
    "   - **Static variables** are shared across all objects of a class.\n",
    "   - **Instance variables** are unique to each object and defined within methods using `self`.\n",
    "\n",
    "2. **Use Cases**:\n",
    "   - Storing values that should remain consistent across all instances, like configuration settings or counters.\n",
    "   - Tracking shared state or data across all instances."
   ]
  },
  {
   "cell_type": "code",
   "execution_count": null,
   "metadata": {},
   "outputs": [],
   "source": [
    "# Write a class for ATM\n",
    "class ATM:\n",
    "\n",
    "    __counter = 1\n",
    "\n",
    "    def __init__(self):\n",
    "        self.__pin = \"\"\n",
    "        self.__balance = 0\n",
    "        self.cid = 0\n",
    "        self.cid = ATM.__counter\n",
    "        ATM.__counter = ATM.__counter + 1\n",
    "\n",
    "        self.menu()\n",
    "\n",
    "    # utility functions\n",
    "    @staticmethod\n",
    "    def get_counter():\n",
    "        return ATM.__counter\n",
    "    \n",
    "    def __str__(self):\n",
    "        print(\"ATM_instance\")\n",
    "\n",
    "    def get_pin(self):\n",
    "        return self.__pin\n",
    "        \n",
    "    def get_balance(self):\n",
    "        return self.__balance\n",
    "    \n",
    "    def set_balance(self, new_balance):\n",
    "        self.__balance = new_balance\n",
    "        return self.__balance\n",
    "    \n",
    "    def get_cid(self):\n",
    "        return self.cid\n",
    "    \n",
    "\n",
    "    def menu(self):\n",
    "        user_input = input(\n",
    "            \"\"\"\n",
    "            Hi how can I help you?\n",
    "            1. Press 1 to create pin\n",
    "            2. Press 2 to change pin\n",
    "            3. Press 3 to check balance\n",
    "            4. Press 4 to withdraw\n",
    "            5. Anything else to exit\n",
    "            \"\"\")\n",
    "\n",
    "        if user_input == \"1\":\n",
    "            self.create_pin()\n",
    "\n",
    "        elif user_input == \"2\":\n",
    "            self.change_pin()\n",
    "\n",
    "        elif user_input == \"3\":\n",
    "            self.check_balance()\n",
    "\n",
    "        elif user_input == \"4\":\n",
    "            self.withdraw()\n",
    "\n",
    "        else:\n",
    "            pass\n",
    "\n",
    "    def create_pin(self):\n",
    "        user_pin = int(input(\"Enter your PIN: \"))\n",
    "        self.__pin = user_pin\n",
    "        print(\"PIN created successfully!\")\n",
    "\n",
    "        user_balance = int(input(\"Enter your balance: \"))\n",
    "        self.__balance = user_balance\n",
    "        print(\"Balance stored successfully!\")\n",
    "\n",
    "        self.menu()\n",
    "\n",
    "\n",
    "    def change_pin(self):\n",
    "        new_pin = int(input(\"Enter old PIN: \"))\n",
    "        if new_pin == self.__pin:\n",
    "            self.__pin = new_pin\n",
    "            print(\"PIN changed successfully!\")\n",
    "\n",
    "        else:\n",
    "            print(\"You entered the wrong PIN.\")\n",
    "\n",
    "        self.menu()\n",
    "\n",
    "    def check_balance(self):\n",
    "        user_pin = int(input(\"Enter old PIN: \"))\n",
    "        if user_pin == self.__pin:\n",
    "            print(\"Your account balance is:\", self.__balance)\n",
    "\n",
    "        else:\n",
    "            print(\"You entered the wrong PIN.\")\n",
    "\n",
    "        self.menu()\n",
    "\n",
    "    def withdrawl(self):\n",
    "        user_pin = int(input(\"Enter old PIN: \"))\n",
    "        if user_pin == self.__pin:\n",
    "            amount = int(input(\"Enter the amount: \"))\n",
    "            self.__balance = self.__balance - amount\n",
    "            print(\"Your new balance is:\", self.__balance)\n",
    "\n",
    "        else:\n",
    "            print(\"You entered the wrong PIN.\")\n",
    "\n",
    "        self.menu()"
   ]
  },
  {
   "cell_type": "code",
   "execution_count": 63,
   "metadata": {},
   "outputs": [
    {
     "name": "stdout",
     "output_type": "stream",
     "text": [
      "PIN created successfully!\n",
      "Balance stored successfully!\n",
      "Counter ID of the object: 1\n"
     ]
    }
   ],
   "source": [
    "# Create an ATM object\n",
    "p1 = ATM()\n",
    "\n",
    "# Print the counter id\n",
    "print(\"Counter ID of the object:\", p1.get_cid())"
   ]
  },
  {
   "cell_type": "code",
   "execution_count": 64,
   "metadata": {},
   "outputs": [
    {
     "name": "stdout",
     "output_type": "stream",
     "text": [
      "PIN created successfully!\n",
      "Balance stored successfully!\n",
      "Counter ID of the object: 2\n"
     ]
    }
   ],
   "source": [
    "# Create another ATM object\n",
    "p2 = ATM()\n",
    "\n",
    "# Print the counter id\n",
    "print(\"Counter ID of the object:\", p2.get_cid())"
   ]
  },
  {
   "cell_type": "code",
   "execution_count": null,
   "metadata": {},
   "outputs": [
    {
     "data": {
      "text/plain": [
       "3"
      ]
     },
     "execution_count": 65,
     "metadata": {},
     "output_type": "execute_result"
    }
   ],
   "source": [
    "# Call the static method with the class name\n",
    "ATM.get_counter()"
   ]
  }
 ],
 "metadata": {
  "kernelspec": {
   "display_name": "py310",
   "language": "python",
   "name": "python3"
  },
  "language_info": {
   "codemirror_mode": {
    "name": "ipython",
    "version": 3
   },
   "file_extension": ".py",
   "mimetype": "text/x-python",
   "name": "python",
   "nbconvert_exporter": "python",
   "pygments_lexer": "ipython3",
   "version": "3.10.14"
  }
 },
 "nbformat": 4,
 "nbformat_minor": 2
}
