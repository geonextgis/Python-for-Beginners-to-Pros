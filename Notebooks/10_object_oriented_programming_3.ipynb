{
 "cells": [
  {
   "cell_type": "markdown",
   "metadata": {},
   "source": [
    "# **Object Oriented Programming (Part 3)**"
   ]
  },
  {
   "cell_type": "markdown",
   "metadata": {},
   "source": [
    "## **Class Relationship**\n",
    "\n",
    "In Python, class relationships refer to how classes are related to one another and how they interact in an object-oriented programming context. Here are two primary types of relationships:\n",
    "\n",
    "1. **Aggregation**: Represents a **\"has-a\"** relationship where the contained object can exist independently of the container.  \n",
    "\n",
    "2. **Inheritance**: Represents an **\"is-a\"** relationship where a child class inherits properties and behaviors from a parent class."
   ]
  },
  {
   "cell_type": "markdown",
   "metadata": {},
   "source": [
    "### **Aggregation (Has-a relationship)**\n",
    "\n",
    "<img src=\"https://media.geeksforgeeks.org/wp-content/uploads/20220520133409/UMLDiagram.jpg\" width=\"60%\">"
   ]
  },
  {
   "cell_type": "code",
   "execution_count": 5,
   "metadata": {},
   "outputs": [
    {
     "name": "stdout",
     "output_type": "stream",
     "text": [
      "Roorkee, Haridwar-247667, India\n",
      "Mumbai, Maharashtra-400001, India\n"
     ]
    }
   ],
   "source": [
    "# Example\n",
    "class Customer:\n",
    "    def __init__(self, name, gender, address):\n",
    "        self.name = name\n",
    "        self.gender = gender\n",
    "        self.address = address\n",
    "\n",
    "    def print_address(self):\n",
    "        print(f\"{self.address.get_city()}, {self.address.state}-{self.address.pin}, {self.address.country}\")\n",
    "\n",
    "    def edit_profile(self, new_name, new_city, new_pin, new_state):\n",
    "        self.name = new_name\n",
    "        self.address.edit_addresss(new_city, new_pin, new_state)\n",
    "\n",
    "class Address:\n",
    "    def __init__(self, city, pin, state, country):\n",
    "        self.__city = city # what about private attribute\n",
    "        self.pin = pin\n",
    "        self.state = state\n",
    "        self.country = country\n",
    "\n",
    "    def get_city(self):\n",
    "        return self.__city\n",
    "    \n",
    "    def edit_addresss(self, new_city, new_pin, new_state):\n",
    "        self.__city = new_city\n",
    "        self.pin = new_pin\n",
    "        self.state = new_state\n",
    "\n",
    "address1 = Address(city=\"Roorkee\", pin=247667, state=\"Haridwar\", country=\"India\")\n",
    "customer1 = Customer(name=\"Krishnagopal Halde\", gender=\"Male\", address=address1)\n",
    "customer1.print_address()\n",
    "\n",
    "customer1.edit_profile(\"Akshat Goel\", \"Mumbai\", 400001, \"Maharashtra\")\n",
    "customer1.print_address()"
   ]
  },
  {
   "cell_type": "markdown",
   "metadata": {},
   "source": [
    "**Brief Explanation of Aggregation in the Example:**\n",
    "\n",
    "- **Aggregation** is demonstrated by the `Customer` class **\"having an\" Address** as part of its attributes (`address`).\n",
    "- The `Customer` object does not directly define or manage the properties of the `Address`. Instead, it uses an independent `Address` object.\n",
    "- Changes to the `Address` (via `edit_addresss`) affect the `Customer` object because the `Customer` holds a reference to the `Address` object.\n",
    "\n",
    "**Key Points:**\n",
    "1. **Independent `Address` Object:**  \n",
    "   The `Address` object (`address1`) exists separately and is passed to the `Customer` constructor.\n",
    "\n",
    "2. **Interaction with `Address`:**  \n",
    "   - The `Customer` uses methods like `get_city()` and `edit_addresss()` from the `Address` class to retrieve and modify its data.\n",
    "   - Modifications to the `Address` reflect automatically in the `Customer` as they share the same object.\n",
    "\n",
    "3. **Workflow:**  \n",
    "   - Initially, the address is set to `\"Roorkee, Haridwar-247667, India\"`.\n",
    "   - After calling `edit_profile`, the `Address` object is updated to `\"Mumbai, Maharashtra-400001, India\"`, and `Customer` reflects this change.\n"
   ]
  },
  {
   "cell_type": "markdown",
   "metadata": {},
   "source": [
    "### **Inheritence**\n",
    "\n",
    "Inheritance is a fundamental concept of object-oriented programming (OOP) that allows one class (the child or derived class) to acquire the properties and behaviors of another class (the parent or base class). This enables code reuse, hierarchy creation, and easy extension of existing functionality.\n",
    "\n",
    "<img src=\"https://miro.medium.com/v2/resize:fit:1400/0*5bscj-Hxw0AKkrzj.png\" width=\"40%\">\n",
    "\n",
    "**Key Features of Inheritance:**\n",
    "\n",
    "1. **Code Reusability:**  \n",
    "   Common features can be defined in the parent class and reused in child classes.\n",
    "   \n",
    "2. **Hierarchy:**  \n",
    "   Inheritance establishes a \"is-a\" relationship between classes, e.g., a `Dog` \"is-a\" type of `Animal`.\n",
    "\n",
    "3. **Customization:**  \n",
    "   Child classes can override or extend the methods and attributes of the parent class.\n",
    "\n",
    "4. **Multiple and Multilevel Inheritance:**  \n",
    "   Python supports:\n",
    "   - **Single Inheritance:** One parent, one child.\n",
    "   - **Multiple Inheritance:** One child class inherits from multiple parent classes.\n",
    "   - **Multilevel Inheritance:** A child class inherits from another child class.\n",
    "\n",
    "**Benefits of Inheritance**\n",
    "- Simplifies code by reducing redundancy.\n",
    "- Promotes modularity and maintainability.\n",
    "- Enables polymorphism, allowing dynamic method overriding.\n",
    "\n",
    "**Limitations**\n",
    "- Overuse of inheritance can make code harder to debug and maintain.\n",
    "- Alternatives like composition might be more suitable in certain scenarios."
   ]
  },
  {
   "cell_type": "code",
   "execution_count": 6,
   "metadata": {},
   "outputs": [
    {
     "name": "stdout",
     "output_type": "stream",
     "text": [
      "User's name: Krishnagopal Halder\n",
      "User's gender: Male\n",
      "login successfull!\n",
      "Student's name: Krishnagopal Halder\n",
      "Student's gender: Male\n"
     ]
    }
   ],
   "source": [
    "# Example\n",
    "# Parent class\n",
    "class User:\n",
    "\n",
    "    def __init__(self, name, gender):\n",
    "        self.name = name\n",
    "        self.gender = gender\n",
    "\n",
    "    def login(self):\n",
    "        print(\"login successfull!\")\n",
    "\n",
    "# Child class\n",
    "class Student(User):\n",
    "\n",
    "    def enroll(self):\n",
    "        print(\"Enroll in the course.\")\n",
    "\n",
    "user1 = User(\"Krishnagopal Halder\", \"Male\")\n",
    "print(\"User's name:\", user1.name)\n",
    "print(\"User's gender:\", user1.gender)\n",
    "\n",
    "student1 = Student(\"Krishnagopal Halder\", \"Male\")\n",
    "student1.login()\n",
    "print(\"Student's name:\", student1.name)\n",
    "print(\"Student's gender:\", student1.gender)"
   ]
  },
  {
   "cell_type": "markdown",
   "metadata": {},
   "source": [
    "#### **Class Diagram**\n",
    "<img src=\"https://www.researchgate.net/publication/349182437/figure/fig2/AS:989911003967490@1613024583970/Class-diagram-and-inheritance.png\" width=\"40%\">"
   ]
  },
  {
   "cell_type": "markdown",
   "metadata": {},
   "source": [
    "#### **What Gets Inherited?**\n",
    "\n",
    "When a child class inherits from a parent class, the following components are inherited:\n",
    "\n",
    "1. **Constructor**: The `__init__` method (constructor) of the parent class is inherited by the child class.\n",
    "     - **Behavior:** \n",
    "       - If the child class does not define its own constructor, it will use the parent class's constructor.\n",
    "       - If the child class defines its own constructor, it **overrides** the parent class's constructor.\n",
    "  \n",
    "2. **Non Private Attributes**: Attributes of the parent class that are not marked as private (e.g., no double underscores like `__attr`) are inherited by the child class.\n",
    "    - **Behavior:** These attributes can be accessed and modified in the child class.\n",
    "  \n",
    "3. **Non Private Methods**: Methods of the parent class that are not private (i.e., without double underscores like `__method`) are inherited by the child class.\n",
    "   - **Behavior:**\n",
    "     - The child class can call these methods directly.\n",
    "     - The child class can **override** these methods by redefining them.\n"
   ]
  },
  {
   "cell_type": "code",
   "execution_count": 7,
   "metadata": {},
   "outputs": [
    {
     "name": "stdout",
     "output_type": "stream",
     "text": [
      "Buying a phone\n"
     ]
    }
   ],
   "source": [
    "# Constructor example 1 ( If the child class does not define its own constructor)\n",
    "# Parent class\n",
    "class Phone:\n",
    "    def __init__(self, price, brand, camera):\n",
    "        self.price = price\n",
    "        self.brand = brand\n",
    "        self.camera = camera\n",
    "\n",
    "    def buy(self):\n",
    "        print(\"Buying a phone\")\n",
    "\n",
    "# Child class\n",
    "class Smartphone(Phone):\n",
    "    pass\n",
    "\n",
    "smartphone = Smartphone(50000, \"Apple\", 48)\n",
    "smartphone.buy()"
   ]
  },
  {
   "cell_type": "code",
   "execution_count": 8,
   "metadata": {},
   "outputs": [
    {
     "name": "stdout",
     "output_type": "stream",
     "text": [
      "Inside Smartphone constructor\n"
     ]
    }
   ],
   "source": [
    "# Constructor example 2 ( If the child class defines its own constructor)\n",
    "# Parent class\n",
    "class Phone:\n",
    "    def __init__(self, price, brand, camera):\n",
    "        self.price = price\n",
    "        self.brand = brand\n",
    "        self.camera = camera\n",
    "\n",
    "class Smartphone(Phone):\n",
    "    def __init__(self, os, ram):\n",
    "        self.os = os\n",
    "        self.ram = ram\n",
    "        print(\"Inside Smartphone constructor\")\n",
    "\n",
    "smartphone = Smartphone(\"Android\", 8)\n",
    "# smartphone.brand # will throw error"
   ]
  },
  {
   "cell_type": "code",
   "execution_count": null,
   "metadata": {},
   "outputs": [
    {
     "name": "stdout",
     "output_type": "stream",
     "text": [
      "Inside phone constructor\n",
      "Apple\n",
      "50000\n"
     ]
    }
   ],
   "source": [
    "# Example 3 (Child can't access private members of the class)\n",
    "\n",
    "class Phone:\n",
    "    def __init__(self, price, brand, camera):\n",
    "        print(\"Inside phone constructor\")\n",
    "        self.__price = price\n",
    "        self.brand = brand\n",
    "        self.camera = camera\n",
    "    \n",
    "    # getter method\n",
    "    def show(self):\n",
    "        print(self.__price)\n",
    "\n",
    "class SmartPhone(Phone):\n",
    "    def check(self):\n",
    "        print(self.__price)\n",
    "\n",
    "smartphone = SmartPhone(50000, \"Apple\", 13)\n",
    "print(smartphone.brand)\n",
    "# smartphone.check() # will throw error\n",
    "smartphone.show()"
   ]
  },
  {
   "cell_type": "code",
   "execution_count": null,
   "metadata": {},
   "outputs": [],
   "source": [
    "# # Example 4: Guess the output\n",
    "# class Parent:\n",
    "#     def __init__(self, num):\n",
    "#         self.__num = num\n",
    "\n",
    "#     # getter method\n",
    "#     def get_num(self):\n",
    "#         return self.__num\n",
    "    \n",
    "# class Child(Parent):\n",
    "\n",
    "#     def show(self):\n",
    "#         print(\"This is in child class\")\n",
    "\n",
    "# son = Child(100)\n",
    "# print(son.get_num())\n",
    "# son.show()"
   ]
  },
  {
   "cell_type": "code",
   "execution_count": 19,
   "metadata": {},
   "outputs": [],
   "source": [
    "# # Example 5: Guess the output\n",
    "# class Parent:\n",
    "#     def __init__(self, num):\n",
    "#         self.__num = num\n",
    "\n",
    "#     def get_num(self):\n",
    "#         return self.__num\n",
    "    \n",
    "# class Child(Parent):\n",
    "    \n",
    "#     def __init__(self, val, num):\n",
    "#         self.__val = val\n",
    "\n",
    "#     def get_val(self):\n",
    "#         return self.__val\n",
    "    \n",
    "# son = Child(100, 10)\n",
    "# print(\"Parent: Num:\", son.get_num())\n",
    "# print(\"Child: Val:\", son.get_val())"
   ]
  },
  {
   "cell_type": "code",
   "execution_count": 21,
   "metadata": {},
   "outputs": [],
   "source": [
    "# # Example 6: Guess the output\n",
    "# class A:\n",
    "#     def __init__(self):\n",
    "#         self.var1 = 100\n",
    "\n",
    "#     def display1(self, var1):\n",
    "#         print(\"Class A:\", self.var1)\n",
    "\n",
    "# class B(A):\n",
    "\n",
    "#     def display2(self, var1):\n",
    "#         print(\"Class B:\", self.var1)\n",
    "\n",
    "# obj = B()\n",
    "# obj.display1(200)"
   ]
  },
  {
   "cell_type": "markdown",
   "metadata": {},
   "source": [
    "#### **Method Overriding**\n",
    "\n",
    "Method overriding is a feature in object-oriented programming that allows a subclass (child class) to provide a specific implementation for a method that is already defined in its superclass (parent class). The overridden method in the child class must have the same name, parameters, and return type as the method in the parent class.\n"
   ]
  },
  {
   "cell_type": "code",
   "execution_count": 23,
   "metadata": {},
   "outputs": [
    {
     "name": "stdout",
     "output_type": "stream",
     "text": [
      "Inside phone constructor\n",
      "Buying a smartphone\n"
     ]
    }
   ],
   "source": [
    "class Phone:\n",
    "    def __init__(self, price, brand, camera):\n",
    "        print(\"Inside phone constructor\")\n",
    "        self.__price = price\n",
    "        self.brand = brand\n",
    "        self.camera = camera\n",
    "\n",
    "    def buy(self):\n",
    "        print(\"Buying a phone\")\n",
    "\n",
    "class SmartPhone(Phone):\n",
    "    def buy(self):\n",
    "        print(\"Buying a smartphone\")\n",
    "\n",
    "smartphone = SmartPhone(50000, \"Apple\", 13)\n",
    "smartphone.buy()"
   ]
  },
  {
   "cell_type": "markdown",
   "metadata": {},
   "source": [
    "#### **`super()` Keyword**\n",
    "\n",
    "The `super()` keyword is used in Python to call methods or access attributes from a **parent class** (also known as the superclass) in the context of a subclass (child class). It provides a way for a child class to refer to and invoke methods or constructors from its parent class, particularly when overriding methods.\n",
    "\n",
    "\n",
    "**Key Uses of `super()`:**\n",
    "\n",
    "1. **Calling the Parent Class's Method:**  \n",
    "   When a method in a child class overrides a method in a parent class, `super()` allows you to call the parent class's version of the method.\n",
    "\n",
    "2. **Accessing Parent Class's Constructor:**  \n",
    "   In a child class, `super()` can be used to call the parent class's `__init__()` constructor, enabling the child class to initialize inherited attributes."
   ]
  },
  {
   "cell_type": "code",
   "execution_count": 24,
   "metadata": {},
   "outputs": [
    {
     "name": "stdout",
     "output_type": "stream",
     "text": [
      "Inside phone constructor\n",
      "Buying a smartphone.\n",
      "Buying a phone\n"
     ]
    }
   ],
   "source": [
    "class Phone:\n",
    "    def __init__(self, price, brand, camera):\n",
    "        print(\"Inside phone constructor\")\n",
    "        self.__price = price\n",
    "        self.brand = brand\n",
    "        self.camera = camera\n",
    "\n",
    "    def buy(self):\n",
    "        print(\"Buying a phone\")\n",
    "\n",
    "\n",
    "class SmartPhone(Phone):\n",
    "    def buy(self):\n",
    "        print(\"Buying a smartphone.\")\n",
    "        # Syntax to call the buy method of parent class\n",
    "        super().buy()\n",
    "\n",
    "smartphone = SmartPhone(50000, \"Apple\", 13)\n",
    "smartphone.buy()"
   ]
  },
  {
   "cell_type": "code",
   "execution_count": 25,
   "metadata": {},
   "outputs": [
    {
     "name": "stdout",
     "output_type": "stream",
     "text": [
      "Inside phone constructor\n",
      "Inside smartphone constructor\n",
      "Android\n",
      "Samsung\n"
     ]
    }
   ],
   "source": [
    "# super -> constructor\n",
    "class Phone:\n",
    "    def __init__(self, price, brand, camera):\n",
    "        self.price = price\n",
    "        self.brand = brand\n",
    "        self.camera = camera\n",
    "\n",
    "class SmartPhone(Phone):\n",
    "    def __init__(self, price, brand, camera, os, ram):\n",
    "        print(\"Inside phone constructor\")\n",
    "        super().__init__(price, brand, camera)\n",
    "        self.os = os\n",
    "        self.ram = ram\n",
    "        print(\"Inside smartphone constructor\")\n",
    "\n",
    "smartphone = SmartPhone(50000, \"Samsung\", 12, \"Android\", 4)\n",
    "\n",
    "print(smartphone.os)\n",
    "print(smartphone.brand)"
   ]
  },
  {
   "cell_type": "markdown",
   "metadata": {},
   "source": [
    "#### **Inheritance in Summary**\n",
    "- A class can inherit from another class.\n",
    "- Inheritance improves code reuse.\n",
    "- Constructor, attributes, methods get inherited to the child class.\n",
    "- The parent has no access to the child class.\n",
    "- Private properties of parent are not accessible directly in child class.\n",
    "- Child class can override the attributes or methods. This is called method overriding.\n",
    "- `super()` is an inbuilt function which is used to invoke the parent class methods and constructor."
   ]
  },
  {
   "cell_type": "code",
   "execution_count": null,
   "metadata": {},
   "outputs": [],
   "source": [
    "# # Guess the output\n",
    "# class Parent:\n",
    "#     def __init__(self, num):\n",
    "#         self.__num = num\n",
    "\n",
    "#     def get_num(self):\n",
    "#         return self.__num\n",
    "    \n",
    "# class Child(Parent):\n",
    "#     def __init__(self, num, val):\n",
    "#         super().__init__(num)\n",
    "#         self.__val = val\n",
    "\n",
    "#     def get_val(self):\n",
    "#         return self.__val\n",
    "    \n",
    "# son = Child(100, 200)\n",
    "# print(son.get_num())\n",
    "# print(son.get_val())"
   ]
  },
  {
   "cell_type": "code",
   "execution_count": null,
   "metadata": {},
   "outputs": [],
   "source": [
    "# # Guess the output\n"
   ]
  },
  {
   "cell_type": "code",
   "execution_count": null,
   "metadata": {},
   "outputs": [],
   "source": []
  },
  {
   "cell_type": "code",
   "execution_count": null,
   "metadata": {},
   "outputs": [],
   "source": []
  }
 ],
 "metadata": {
  "kernelspec": {
   "display_name": "py310",
   "language": "python",
   "name": "python3"
  },
  "language_info": {
   "codemirror_mode": {
    "name": "ipython",
    "version": 3
   },
   "file_extension": ".py",
   "mimetype": "text/x-python",
   "name": "python",
   "nbconvert_exporter": "python",
   "pygments_lexer": "ipython3",
   "version": "3.10.14"
  }
 },
 "nbformat": 4,
 "nbformat_minor": 2
}
