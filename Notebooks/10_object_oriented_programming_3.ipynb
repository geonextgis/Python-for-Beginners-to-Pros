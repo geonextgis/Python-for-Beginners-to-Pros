{
 "cells": [
  {
   "cell_type": "markdown",
   "metadata": {},
   "source": [
    "# **Object Oriented Programming (Part 3)**"
   ]
  },
  {
   "cell_type": "markdown",
   "metadata": {},
   "source": [
    "## **Class Relationship**\n",
    "\n",
    "In Python, class relationships refer to how classes are related to one another and how they interact in an object-oriented programming context. Here are two primary types of relationships:\n",
    "\n",
    "1. **Aggregation**: Represents a **\"has-a\"** relationship where the contained object can exist independently of the container.  \n",
    "\n",
    "2. **Inheritance**: Represents an **\"is-a\"** relationship where a child class inherits properties and behaviors from a parent class."
   ]
  },
  {
   "cell_type": "markdown",
   "metadata": {},
   "source": [
    "### **Aggregation (Has-a relationship)**\n",
    "\n",
    "<img src=\"https://media.geeksforgeeks.org/wp-content/uploads/20220520133409/UMLDiagram.jpg\" width=\"60%\">"
   ]
  },
  {
   "cell_type": "code",
   "execution_count": 45,
   "metadata": {},
   "outputs": [
    {
     "name": "stdout",
     "output_type": "stream",
     "text": [
      "Roorkee, Haridwar-247667, India\n",
      "Mumbai, Maharashtra-400001, India\n"
     ]
    }
   ],
   "source": [
    "# Example\n",
    "class Customer:\n",
    "    def __init__(self, name, gender, address):\n",
    "        self.name = name\n",
    "        self.gender = gender\n",
    "        self.address = address\n",
    "\n",
    "    def print_address(self):\n",
    "        print(f\"{self.address.get_city()}, {self.address.state}-{self.address.pin}, {self.address.country}\")\n",
    "\n",
    "    def edit_profile(self, new_name, new_city, new_pin, new_state):\n",
    "        self.name = new_name\n",
    "        self.address.edit_addresss(new_city, new_pin, new_state)\n",
    "\n",
    "class Address:\n",
    "    def __init__(self, city, pin, state, country):\n",
    "        self.__city = city # what about private attribute\n",
    "        self.pin = pin\n",
    "        self.state = state\n",
    "        self.country = country\n",
    "\n",
    "    def get_city(self):\n",
    "        return self.__city\n",
    "    \n",
    "    def edit_addresss(self, new_city, new_pin, new_state):\n",
    "        self.__city = new_city\n",
    "        self.pin = new_pin\n",
    "        self.state = new_state\n",
    "\n",
    "address1 = Address(city=\"Roorkee\", pin=247667, state=\"Haridwar\", country=\"India\")\n",
    "customer1 = Customer(name=\"Krishnagopal Halde\", gender=\"Male\", address=address1)\n",
    "customer1.print_address()\n",
    "\n",
    "customer1.edit_profile(\"Akshat Goel\", \"Mumbai\", 400001, \"Maharashtra\")\n",
    "customer1.print_address()"
   ]
  },
  {
   "cell_type": "markdown",
   "metadata": {},
   "source": [
    "**Brief Explanation of Aggregation in the Example:**\n",
    "\n",
    "- **Aggregation** is demonstrated by the `Customer` class **\"having an\" Address** as part of its attributes (`address`).\n",
    "- The `Customer` object does not directly define or manage the properties of the `Address`. Instead, it uses an independent `Address` object.\n",
    "- Changes to the `Address` (via `edit_addresss`) affect the `Customer` object because the `Customer` holds a reference to the `Address` object.\n",
    "\n",
    "**Key Points:**\n",
    "1. **Independent `Address` Object:**  \n",
    "   The `Address` object (`address1`) exists separately and is passed to the `Customer` constructor.\n",
    "\n",
    "2. **Interaction with `Address`:**  \n",
    "   - The `Customer` uses methods like `get_city()` and `edit_addresss()` from the `Address` class to retrieve and modify its data.\n",
    "   - Modifications to the `Address` reflect automatically in the `Customer` as they share the same object.\n",
    "\n",
    "3. **Workflow:**  \n",
    "   - Initially, the address is set to `\"Roorkee, Haridwar-247667, India\"`.\n",
    "   - After calling `edit_profile`, the `Address` object is updated to `\"Mumbai, Maharashtra-400001, India\"`, and `Customer` reflects this change.\n"
   ]
  },
  {
   "cell_type": "markdown",
   "metadata": {},
   "source": [
    "### **Inheritence**\n",
    "\n",
    "Inheritance is a fundamental concept of object-oriented programming (OOP) that allows one class (the child or derived class) to acquire the properties and behaviors of another class (the parent or base class). This enables code reuse, hierarchy creation, and easy extension of existing functionality.\n",
    "\n",
    "<img src=\"https://miro.medium.com/v2/resize:fit:1400/0*5bscj-Hxw0AKkrzj.png\" width=\"40%\">\n",
    "\n",
    "**Key Features of Inheritance:**\n",
    "\n",
    "1. **Code Reusability:**  \n",
    "   Common features can be defined in the parent class and reused in child classes.\n",
    "   \n",
    "2. **Hierarchy:**  \n",
    "   Inheritance establishes a \"is-a\" relationship between classes, e.g., a `Dog` \"is-a\" type of `Animal`.\n",
    "\n",
    "3. **Customization:**  \n",
    "   Child classes can override or extend the methods and attributes of the parent class.\n",
    "\n",
    "4. **Multiple and Multilevel Inheritance:**  \n",
    "   Python supports:\n",
    "   - **Single Inheritance:** One parent, one child.\n",
    "   - **Multiple Inheritance:** One child class inherits from multiple parent classes.\n",
    "   - **Multilevel Inheritance:** A child class inherits from another child class.\n",
    "\n",
    "**Benefits of Inheritance**\n",
    "- Simplifies code by reducing redundancy.\n",
    "- Promotes modularity and maintainability.\n",
    "- Enables polymorphism, allowing dynamic method overriding.\n",
    "\n",
    "**Limitations**\n",
    "- Overuse of inheritance can make code harder to debug and maintain.\n",
    "- Alternatives like composition might be more suitable in certain scenarios."
   ]
  },
  {
   "cell_type": "code",
   "execution_count": 46,
   "metadata": {},
   "outputs": [
    {
     "name": "stdout",
     "output_type": "stream",
     "text": [
      "User's name: Krishnagopal Halder\n",
      "User's gender: Male\n",
      "login successfull!\n",
      "Student's name: Krishnagopal Halder\n",
      "Student's gender: Male\n"
     ]
    }
   ],
   "source": [
    "# Example\n",
    "# Parent class\n",
    "class User:\n",
    "\n",
    "    def __init__(self, name, gender):\n",
    "        self.name = name\n",
    "        self.gender = gender\n",
    "\n",
    "    def login(self):\n",
    "        print(\"login successfull!\")\n",
    "\n",
    "# Child class\n",
    "class Student(User):\n",
    "\n",
    "    def enroll(self):\n",
    "        print(\"Enroll in the course.\")\n",
    "\n",
    "user1 = User(\"Krishnagopal Halder\", \"Male\")\n",
    "print(\"User's name:\", user1.name)\n",
    "print(\"User's gender:\", user1.gender)\n",
    "\n",
    "student1 = Student(\"Krishnagopal Halder\", \"Male\")\n",
    "student1.login()\n",
    "print(\"Student's name:\", student1.name)\n",
    "print(\"Student's gender:\", student1.gender)"
   ]
  },
  {
   "cell_type": "markdown",
   "metadata": {},
   "source": [
    "#### **Class Diagram**\n",
    "<img src=\"https://www.researchgate.net/publication/349182437/figure/fig2/AS:989911003967490@1613024583970/Class-diagram-and-inheritance.png\" width=\"40%\">"
   ]
  },
  {
   "cell_type": "markdown",
   "metadata": {},
   "source": [
    "#### **What Gets Inherited?**\n",
    "\n",
    "When a child class inherits from a parent class, the following components are inherited:\n",
    "\n",
    "1. **Constructor**: The `__init__` method (constructor) of the parent class is inherited by the child class.\n",
    "     - **Behavior:** \n",
    "       - If the child class does not define its own constructor, it will use the parent class's constructor.\n",
    "       - If the child class defines its own constructor, it **overrides** the parent class's constructor.\n",
    "  \n",
    "2. **Non Private Attributes**: Attributes of the parent class that are not marked as private (e.g., no double underscores like `__attr`) are inherited by the child class.\n",
    "    - **Behavior:** These attributes can be accessed and modified in the child class.\n",
    "  \n",
    "3. **Non Private Methods**: Methods of the parent class that are not private (i.e., without double underscores like `__method`) are inherited by the child class.\n",
    "   - **Behavior:**\n",
    "     - The child class can call these methods directly.\n",
    "     - The child class can **override** these methods by redefining them.\n"
   ]
  },
  {
   "cell_type": "code",
   "execution_count": 47,
   "metadata": {},
   "outputs": [
    {
     "name": "stdout",
     "output_type": "stream",
     "text": [
      "Buying a phone\n"
     ]
    }
   ],
   "source": [
    "# Constructor example 1 ( If the child class does not define its own constructor)\n",
    "# Parent class\n",
    "class Phone:\n",
    "    def __init__(self, price, brand, camera):\n",
    "        self.price = price\n",
    "        self.brand = brand\n",
    "        self.camera = camera\n",
    "\n",
    "    def buy(self):\n",
    "        print(\"Buying a phone\")\n",
    "\n",
    "# Child class\n",
    "class Smartphone(Phone):\n",
    "    pass\n",
    "\n",
    "smartphone = Smartphone(50000, \"Apple\", 48)\n",
    "smartphone.buy()"
   ]
  },
  {
   "cell_type": "code",
   "execution_count": 48,
   "metadata": {},
   "outputs": [
    {
     "name": "stdout",
     "output_type": "stream",
     "text": [
      "Inside Smartphone constructor\n"
     ]
    }
   ],
   "source": [
    "# Constructor example 2 ( If the child class defines its own constructor)\n",
    "# Parent class\n",
    "class Phone:\n",
    "    def __init__(self, price, brand, camera):\n",
    "        self.price = price\n",
    "        self.brand = brand\n",
    "        self.camera = camera\n",
    "\n",
    "class Smartphone(Phone):\n",
    "    def __init__(self, os, ram):\n",
    "        self.os = os\n",
    "        self.ram = ram\n",
    "        print(\"Inside Smartphone constructor\")\n",
    "\n",
    "smartphone = Smartphone(\"Android\", 8)\n",
    "# smartphone.brand # will throw error"
   ]
  },
  {
   "cell_type": "code",
   "execution_count": 49,
   "metadata": {},
   "outputs": [
    {
     "name": "stdout",
     "output_type": "stream",
     "text": [
      "Inside phone constructor\n",
      "Apple\n",
      "50000\n"
     ]
    }
   ],
   "source": [
    "# Example 3 (Child can't access private members of the class)\n",
    "\n",
    "class Phone:\n",
    "    def __init__(self, price, brand, camera):\n",
    "        print(\"Inside phone constructor\")\n",
    "        self.__price = price\n",
    "        self.brand = brand\n",
    "        self.camera = camera\n",
    "    \n",
    "    # getter method\n",
    "    def show(self):\n",
    "        print(self.__price)\n",
    "\n",
    "class SmartPhone(Phone):\n",
    "    def check(self):\n",
    "        print(self.__price)\n",
    "\n",
    "smartphone = SmartPhone(50000, \"Apple\", 13)\n",
    "print(smartphone.brand)\n",
    "# smartphone.check() # will throw error\n",
    "smartphone.show()"
   ]
  },
  {
   "cell_type": "code",
   "execution_count": 50,
   "metadata": {},
   "outputs": [],
   "source": [
    "# # Example 4: Guess the output\n",
    "# class Parent:\n",
    "#     def __init__(self, num):\n",
    "#         self.__num = num\n",
    "\n",
    "#     # getter method\n",
    "#     def get_num(self):\n",
    "#         return self.__num\n",
    "    \n",
    "# class Child(Parent):\n",
    "\n",
    "#     def show(self):\n",
    "#         print(\"This is in child class\")\n",
    "\n",
    "# son = Child(100)\n",
    "# print(son.get_num())\n",
    "# son.show()"
   ]
  },
  {
   "cell_type": "code",
   "execution_count": 51,
   "metadata": {},
   "outputs": [],
   "source": [
    "# # Example 5: Guess the output\n",
    "# class Parent:\n",
    "#     def __init__(self, num):\n",
    "#         self.__num = num\n",
    "\n",
    "#     def get_num(self):\n",
    "#         return self.__num\n",
    "    \n",
    "# class Child(Parent):\n",
    "    \n",
    "#     def __init__(self, val, num):\n",
    "#         self.__val = val\n",
    "\n",
    "#     def get_val(self):\n",
    "#         return self.__val\n",
    "    \n",
    "# son = Child(100, 10)\n",
    "# print(\"Parent: Num:\", son.get_num())\n",
    "# print(\"Child: Val:\", son.get_val())"
   ]
  },
  {
   "cell_type": "code",
   "execution_count": 52,
   "metadata": {},
   "outputs": [],
   "source": [
    "# # Example 6: Guess the output\n",
    "# class A:\n",
    "#     def __init__(self):\n",
    "#         self.var1 = 100\n",
    "\n",
    "#     def display1(self, var1):\n",
    "#         print(\"Class A:\", self.var1)\n",
    "\n",
    "# class B(A):\n",
    "\n",
    "#     def display2(self, var1):\n",
    "#         print(\"Class B:\", self.var1)\n",
    "\n",
    "# obj = B()\n",
    "# obj.display1(200)"
   ]
  },
  {
   "cell_type": "markdown",
   "metadata": {},
   "source": [
    "#### **Method Overriding**\n",
    "\n",
    "Method overriding is a feature in object-oriented programming that allows a subclass (child class) to provide a specific implementation for a method that is already defined in its superclass (parent class). The overridden method in the child class must have the same name, parameters, and return type as the method in the parent class.\n"
   ]
  },
  {
   "cell_type": "code",
   "execution_count": 53,
   "metadata": {},
   "outputs": [
    {
     "name": "stdout",
     "output_type": "stream",
     "text": [
      "Inside phone constructor\n",
      "Buying a smartphone\n"
     ]
    }
   ],
   "source": [
    "class Phone:\n",
    "    def __init__(self, price, brand, camera):\n",
    "        print(\"Inside phone constructor\")\n",
    "        self.__price = price\n",
    "        self.brand = brand\n",
    "        self.camera = camera\n",
    "\n",
    "    def buy(self):\n",
    "        print(\"Buying a phone\")\n",
    "\n",
    "class SmartPhone(Phone):\n",
    "    def buy(self):\n",
    "        print(\"Buying a smartphone\")\n",
    "\n",
    "smartphone = SmartPhone(50000, \"Apple\", 13)\n",
    "smartphone.buy()"
   ]
  },
  {
   "cell_type": "markdown",
   "metadata": {},
   "source": [
    "#### **`super()` Keyword**\n",
    "\n",
    "The `super()` keyword is used in Python to call methods or access attributes from a **parent class** (also known as the superclass) in the context of a subclass (child class). It provides a way for a child class to refer to and invoke methods or constructors from its parent class, particularly when overriding methods.\n",
    "\n",
    "\n",
    "**Key Uses of `super()`:**\n",
    "\n",
    "1. **Calling the Parent Class's Method:**  \n",
    "   When a method in a child class overrides a method in a parent class, `super()` allows you to call the parent class's version of the method.\n",
    "\n",
    "2. **Accessing Parent Class's Constructor:**  \n",
    "   In a child class, `super()` can be used to call the parent class's `__init__()` constructor, enabling the child class to initialize inherited attributes."
   ]
  },
  {
   "cell_type": "code",
   "execution_count": 54,
   "metadata": {},
   "outputs": [
    {
     "name": "stdout",
     "output_type": "stream",
     "text": [
      "Inside phone constructor\n",
      "Buying a smartphone.\n",
      "Buying a phone\n"
     ]
    }
   ],
   "source": [
    "class Phone:\n",
    "    def __init__(self, price, brand, camera):\n",
    "        print(\"Inside phone constructor\")\n",
    "        self.__price = price\n",
    "        self.brand = brand\n",
    "        self.camera = camera\n",
    "\n",
    "    def buy(self):\n",
    "        print(\"Buying a phone\")\n",
    "\n",
    "\n",
    "class SmartPhone(Phone):\n",
    "    def buy(self):\n",
    "        print(\"Buying a smartphone.\")\n",
    "        # Syntax to call the buy method of parent class\n",
    "        super().buy()\n",
    "\n",
    "smartphone = SmartPhone(50000, \"Apple\", 13)\n",
    "smartphone.buy()"
   ]
  },
  {
   "cell_type": "code",
   "execution_count": 55,
   "metadata": {},
   "outputs": [
    {
     "name": "stdout",
     "output_type": "stream",
     "text": [
      "Inside phone constructor\n",
      "Inside smartphone constructor\n",
      "Android\n",
      "Samsung\n"
     ]
    }
   ],
   "source": [
    "# super -> constructor\n",
    "class Phone:\n",
    "    def __init__(self, price, brand, camera):\n",
    "        self.price = price\n",
    "        self.brand = brand\n",
    "        self.camera = camera\n",
    "\n",
    "class SmartPhone(Phone):\n",
    "    def __init__(self, price, brand, camera, os, ram):\n",
    "        print(\"Inside phone constructor\")\n",
    "        super().__init__(price, brand, camera)\n",
    "        self.os = os\n",
    "        self.ram = ram\n",
    "        print(\"Inside smartphone constructor\")\n",
    "\n",
    "smartphone = SmartPhone(50000, \"Samsung\", 12, \"Android\", 4)\n",
    "\n",
    "print(smartphone.os)\n",
    "print(smartphone.brand)"
   ]
  },
  {
   "cell_type": "markdown",
   "metadata": {},
   "source": [
    "#### **Inheritance in Summary**\n",
    "- A class can inherit from another class.\n",
    "- Inheritance improves code reuse.\n",
    "- Constructor, attributes, methods get inherited to the child class.\n",
    "- The parent has no access to the child class.\n",
    "- Private properties of parent are not accessible directly in child class.\n",
    "- Child class can override the attributes or methods. This is called method overriding.\n",
    "- `super()` is an inbuilt function which is used to invoke the parent class methods and constructor."
   ]
  },
  {
   "cell_type": "code",
   "execution_count": 56,
   "metadata": {},
   "outputs": [],
   "source": [
    "# # Guess the output\n",
    "# class Parent:\n",
    "#     def __init__(self, num):\n",
    "#         self.__num = num\n",
    "\n",
    "#     def get_num(self):\n",
    "#         return self.__num\n",
    "    \n",
    "# class Child(Parent):\n",
    "#     def __init__(self, num, val):\n",
    "#         super().__init__(num)\n",
    "#         self.__val = val\n",
    "\n",
    "#     def get_val(self):\n",
    "#         return self.__val\n",
    "    \n",
    "# son = Child(100, 200)\n",
    "# print(son.get_num())\n",
    "# print(son.get_val())"
   ]
  },
  {
   "cell_type": "code",
   "execution_count": 57,
   "metadata": {},
   "outputs": [],
   "source": [
    "# # Guess the output\n",
    "# class Parent:\n",
    "#     def __init__(self):\n",
    "#         self.num = 100\n",
    "\n",
    "# class Child(Parent):\n",
    "#     def __init__(self):\n",
    "#         super().__init__()\n",
    "#         self.var = 200\n",
    "\n",
    "#     def show(self):\n",
    "#         print(self.num)\n",
    "#         print(self.var)\n",
    "\n",
    "# son = Child()\n",
    "# son.show()"
   ]
  },
  {
   "cell_type": "code",
   "execution_count": 58,
   "metadata": {},
   "outputs": [],
   "source": [
    "# # Guess the output\n",
    "# class Parent:\n",
    "#     def __init__(self):\n",
    "#         self.__num = 100\n",
    "\n",
    "#     def show(self):\n",
    "#         print(\"Parent:\", self.__num)\n",
    "\n",
    "# class Child(Parent):\n",
    "#     def __init__(self):\n",
    "#         super().__init__()\n",
    "#         self.__var = 10\n",
    "\n",
    "#     def show(self):\n",
    "#         print(\"Child:\", self.__var)\n",
    "\n",
    "# obj = Child()\n",
    "# obj.show()"
   ]
  },
  {
   "cell_type": "code",
   "execution_count": 59,
   "metadata": {},
   "outputs": [],
   "source": [
    "# # Guess the output\n",
    "# class Parent:\n",
    "#     def __init__(self):\n",
    "#         self.__num = 100\n",
    "\n",
    "#     def show(self):\n",
    "#         print(\"Parent:\", self.__num)\n",
    "\n",
    "# class Child(Parent):\n",
    "#     def __init__(self):\n",
    "#         super().__init__()\n",
    "#         self.__var = 10\n",
    "\n",
    "#     def show(self):\n",
    "#         print(\"Child:\", self.__var)\n",
    "\n",
    "\n",
    "# obj = Child()\n",
    "# obj.show()"
   ]
  },
  {
   "cell_type": "markdown",
   "metadata": {},
   "source": [
    "#### **Types of Inheritance**\n",
    "<img src=\"https://i.pinimg.com/originals/4e/d9/b2/4ed9b2b640e3e64ed2ae4fbf6a480c75.jpg\" width=\"40%\">\n",
    "\n",
    "Inheritance in Python allows a class (child class) to derive properties and behaviors from another class (parent class). Python supports several types of inheritance:\n",
    "\n",
    "**1. Single Inheritance**\n",
    "- **Definition:** A single child class inherits from a single parent class.\n",
    "- **Usage:** Simplifies code reuse and enhances modularity.\n",
    "\n",
    "\n",
    "**2. Multiple Inheritance**\n",
    "- **Definition:** A child class inherits from more than one parent class.\n",
    "- **Usage:** Useful when a class needs to inherit functionality from multiple classes.\n",
    "- **Method Resolution Order (MRO):** Determines the order in which methods are called in the inheritance hierarchy.\n",
    "\n",
    "\n",
    "**3. Multilevel Inheritance**\n",
    "- **Definition:** A child class inherits from a parent class, and another child class inherits from this child class.\n",
    "- **Usage:** Creates a chain of inheritance.\n",
    "\n",
    "**4. Hierarchical Inheritance**\n",
    "- **Definition:** Multiple child classes inherit from a single parent class.\n",
    "- **Usage:** Useful for creating subclasses with shared base functionality.\n",
    "\n",
    "**5. Hybrid Inheritance**\n",
    "- **Definition:** A combination of two or more types of inheritance (e.g., multiple and multilevel inheritance).\n",
    "- **Usage:** Allows for flexible and complex hierarchies.\n",
    "\n",
    "\n",
    "**Summary Table**\n",
    "\n",
    "| **Type of Inheritance** | **Description**                           | **Example**             |\n",
    "|--------------------------|-------------------------------------------|-------------------------|\n",
    "| Single                  | One parent, one child                     | `A → B`                |\n",
    "| Multiple                | Multiple parents, one child               | `A, B → C`             |\n",
    "| Multilevel              | Chain of inheritance                      | `A → B → C`            |\n",
    "| Hierarchical            | One parent, multiple children             | `A → B, C`             |\n",
    "| Hybrid                  | Combination of multiple inheritance types | Complex combinations   |\n",
    "\n",
    "Each type of inheritance is suited for specific use cases and offers various levels of code reuse and modularity."
   ]
  },
  {
   "cell_type": "code",
   "execution_count": 60,
   "metadata": {},
   "outputs": [
    {
     "name": "stdout",
     "output_type": "stream",
     "text": [
      "Buying a phone\n"
     ]
    }
   ],
   "source": [
    "# Single inheritance\n",
    "class Phone:\n",
    "    def __init__(self, price, brand, camera):\n",
    "        self.price = price\n",
    "        self.brand = brand\n",
    "        self.camera = camera\n",
    "\n",
    "    def buy(self):\n",
    "        print(\"Buying a phone\")\n",
    "\n",
    "class SmartPhone(Phone):\n",
    "    pass\n",
    "\n",
    "SmartPhone(50000, \"Apple\", 13).buy()"
   ]
  },
  {
   "cell_type": "code",
   "execution_count": 61,
   "metadata": {},
   "outputs": [
    {
     "name": "stdout",
     "output_type": "stream",
     "text": [
      "Inside phone constructor\n",
      "Buying a phone\n",
      "Product customer review\n"
     ]
    }
   ],
   "source": [
    "# Multilevel inheritance\n",
    "class Product:\n",
    "    def review(self):\n",
    "        print(\"Product customer review\")\n",
    "\n",
    "class Phone(Product):\n",
    "    def __init__(self, price, brand, camera):\n",
    "        print(\"Inside phone constructor\")\n",
    "        self.__price = price\n",
    "        self.brand = brand\n",
    "        self.camera = camera\n",
    "\n",
    "    def buy(self):\n",
    "        print(\"Buying a phone\")\n",
    "\n",
    "class SmartPhone(Phone):\n",
    "    pass\n",
    "\n",
    "smartphone = SmartPhone(50000, \"Apple\", 13)\n",
    "smartphone.buy()\n",
    "smartphone.review()"
   ]
  },
  {
   "cell_type": "code",
   "execution_count": 62,
   "metadata": {},
   "outputs": [
    {
     "name": "stdout",
     "output_type": "stream",
     "text": [
      "Buying a phone.\n",
      "Buying a phone.\n"
     ]
    }
   ],
   "source": [
    "# Hierarchical inheritance\n",
    "class Phone:\n",
    "    def __init__(self, price, brand, camera):\n",
    "        self.__price = price\n",
    "        self.brand = brand\n",
    "        self.camera = camera\n",
    "    \n",
    "    def buy(self):\n",
    "        print(\"Buying a phone.\")\n",
    "\n",
    "class SmartPhone(Phone):\n",
    "    pass\n",
    "\n",
    "class FeaturePhone(Phone):\n",
    "    pass\n",
    "\n",
    "SmartPhone(50000, \"Apple\", 13).buy()\n",
    "FeaturePhone(5000, \"Nokia\", 2).buy()"
   ]
  },
  {
   "cell_type": "code",
   "execution_count": 63,
   "metadata": {},
   "outputs": [
    {
     "name": "stdout",
     "output_type": "stream",
     "text": [
      "Inside price constructor\n",
      "Buying a phone\n",
      "Customer review\n"
     ]
    }
   ],
   "source": [
    "# Multiple inheritance\n",
    "class Phone:\n",
    "    def __init__(self, price, brand, camera):\n",
    "        print(\"Inside price constructor\")\n",
    "        self.__price = price\n",
    "        self.brand = brand\n",
    "        self.camera = camera\n",
    "\n",
    "    def buy(self):\n",
    "        print(\"Buying a phone\")\n",
    "\n",
    "class Product:\n",
    "    def review(self):\n",
    "        print(\"Customer review\")\n",
    "\n",
    "class SmartPhone(Phone, Product):\n",
    "    pass\n",
    "\n",
    "smartphone = SmartPhone(50000, \"Apple\", 13)\n",
    "smartphone.buy()\n",
    "smartphone.review()"
   ]
  },
  {
   "cell_type": "markdown",
   "metadata": {},
   "source": [
    "**The Diamond Problem**\n",
    "\n",
    "The **diamond problem** arises in **multiple inheritance**, where a class inherits from two classes that both inherit from a common base class. It creates ambiguity about which path should be followed when invoking methods or accessing attributes from the common base class.\n",
    "\n",
    "\n",
    "**Why is it Called the Diamond Problem?**\n",
    "The inheritance hierarchy forms a diamond shape:\n",
    "\n",
    "```\n",
    "      A\n",
    "     / \\\n",
    "    B   C\n",
    "     \\ /\n",
    "      D\n",
    "```\n",
    "\n",
    "- **Class A:** The common base class.\n",
    "- **Classes B and C:** Intermediate classes that inherit from A.\n",
    "- **Class D:** The child class that inherits from both B and C.\n",
    "\n",
    "When a method in `D` calls a method or accesses an attribute from `A`, it's ambiguous whether the call should go through `B` or `C`.\n",
    "\n",
    "\n",
    "**Method Resolution Order (MRO)**\n",
    "\n",
    "To resolve the diamond problem, Python uses the **Method Resolution Order (MRO)**. The MRO determines the order in which classes are searched for methods or attributes.\n",
    "\n",
    "Python uses the **C3 linearization algorithm** (also called **C3 superclass linearization**) to compute the MRO. The MRO ensures:\n",
    "1. **Consistency**: A method is called from the first valid class found in the order.\n",
    "2. **No Ambiguity**: Python resolves the order of calls without ambiguity.\n",
    "3. **Breadth-First Resolution**: The child class is searched first, followed by its parents (left to right), and then their parents."
   ]
  },
  {
   "cell_type": "code",
   "execution_count": 64,
   "metadata": {},
   "outputs": [
    {
     "name": "stdout",
     "output_type": "stream",
     "text": [
      "Inside phone constructor\n",
      "Product buy method\n"
     ]
    }
   ],
   "source": [
    "# The diamond problem\n",
    "class Phone:\n",
    "    def __init__(self, price, brand, camera):\n",
    "        print(\"Inside phone constructor\")\n",
    "        self.__price = price\n",
    "        self.brand = brand\n",
    "        self.camera = camera\n",
    "\n",
    "    def buy(self):\n",
    "        print(\"Buying a phone\")\n",
    "\n",
    "class Product:\n",
    "    def buy(self):\n",
    "        print(\"Product buy method\")\n",
    "\n",
    "# Method resolution order\n",
    "class SmartPhone(Product, Phone):\n",
    "    pass\n",
    "\n",
    "smartphone = SmartPhone(50000, \"Apple\", 13)\n",
    "smartphone.buy()"
   ]
  },
  {
   "cell_type": "code",
   "execution_count": 65,
   "metadata": {},
   "outputs": [],
   "source": [
    "# # Guess the output\n",
    "# class A:\n",
    "#     def m1(self):\n",
    "#         return 20\n",
    "    \n",
    "# class B(A):\n",
    "#     def m1(self):\n",
    "#         return 30\n",
    "#     def m2(self):\n",
    "#         return 40\n",
    "    \n",
    "# class C(B):\n",
    "#     def m2(self):\n",
    "#         return 20\n",
    "    \n",
    "# obj1 = A()\n",
    "# obj2 = B()\n",
    "# obj3 = C()\n",
    "# print(obj1.m1() + obj3.m1() + obj3.m2())"
   ]
  },
  {
   "cell_type": "code",
   "execution_count": 66,
   "metadata": {},
   "outputs": [],
   "source": [
    "# # Guess the output\n",
    "# class A:\n",
    "#     def m1(self):\n",
    "#         return 20\n",
    "    \n",
    "# class B(A):\n",
    "#     def m1(self):\n",
    "#         val = super().m1()+30\n",
    "#         return val\n",
    "    \n",
    "# class C(B):\n",
    "#     def m1(self):\n",
    "#         val = self.m1()+20\n",
    "#         return val\n",
    "    \n",
    "# obj = C()\n",
    "# print(obj.m1())"
   ]
  },
  {
   "cell_type": "markdown",
   "metadata": {},
   "source": [
    "## **Polymorphism**\n",
    "\n",
    "**Polymorphism** is a concept in object-oriented programming that allows objects of different classes to be treated as objects of a common superclass. It enables a single interface (method or function) to operate on different types of objects.\n",
    "\n",
    "\n",
    "**Key Points:**\n",
    "1. **\"Many forms\":** The term \"polymorphism\" means \"many forms.\" A single method or function behaves differently based on the object or class it is acting upon.\n",
    "2. **Dynamic Behavior:** The actual implementation executed is determined at runtime, making Python a dynamically-typed and polymorphic language.\n",
    "\n",
    "\n",
    "\n",
    "**Types of Polymorphism**\n",
    "\n",
    "**1. Method Overriding (Runtime Polymorphism)**\n",
    "- **Definition:** A subclass provides a specific implementation for a method already defined in its parent class.\n",
    "\n",
    "**2. Method Overloading (Static Polymorphism)**\n",
    "- **Definition:** A method in a class is defined with different parameter configurations. However, Python doesn't support true method overloading. It can be emulated using default arguments or variable-length arguments.\n",
    "\n",
    "**3. Operator Overloading**\n",
    "- **Definition:** Operators like `+`, `*`, etc., behave differently depending on the operands. This is implemented using special methods (dunder methods).\n",
    "\n",
    "**4. Polymorphism with Functions and Objects**\n",
    "- **Definition:** A single function can operate on objects of different classes, provided they share a common interface.\n",
    "\n",
    "**Advantages of Polymorphism**\n",
    "1. **Code Reusability:** Same interface can work with different data types or classes.\n",
    "2. **Flexibility:** New functionality can be added without altering existing code.\n",
    "3. **Extensibility:** Objects can evolve while maintaining the same interface.\n",
    "\n",
    "\n",
    "**Summary Table**\n",
    "\n",
    "| **Type**                  | **Example**                                 |\n",
    "|---------------------------|---------------------------------------------|\n",
    "| **Method Overriding**      | Subclasses redefining parent class methods. |\n",
    "| **Method Overloading**     | Same method name with different parameters (emulated in Python). |\n",
    "| **Operator Overloading**   | Operators working differently based on operand type. |\n",
    "| **Polymorphism with Functions** | Functions accepting objects of different classes. |\n",
    "\n",
    "Polymorphism enables flexibility and dynamic behavior in Python, making it a core concept in object-oriented programming."
   ]
  },
  {
   "cell_type": "code",
   "execution_count": 67,
   "metadata": {},
   "outputs": [],
   "source": [
    "# # Method overloading\n",
    "# class Shape:\n",
    "\n",
    "#     def area(self, radius):\n",
    "#         return 3.14*radius*radius\n",
    "    \n",
    "#     def area(self, l, b):\n",
    "#         return l*b\n",
    "    \n",
    "# s = Shape()\n",
    "\n",
    "# s.shape(2)\n",
    "# s.area(3, 4)"
   ]
  },
  {
   "cell_type": "code",
   "execution_count": 68,
   "metadata": {},
   "outputs": [
    {
     "name": "stdout",
     "output_type": "stream",
     "text": [
      "12.56\n",
      "12\n"
     ]
    }
   ],
   "source": [
    "# Alternative way of method overloading in python\n",
    "class Shape:\n",
    "    def area(self, a, b=0):\n",
    "        if b == 0:\n",
    "            return 3.14*a*a\n",
    "        else:\n",
    "            return a*b\n",
    "        \n",
    "s = Shape()\n",
    "\n",
    "print(s.area(2))\n",
    "print(s.area(3, 4))"
   ]
  },
  {
   "cell_type": "code",
   "execution_count": 69,
   "metadata": {},
   "outputs": [
    {
     "data": {
      "text/plain": [
       "'Hello World'"
      ]
     },
     "execution_count": 69,
     "metadata": {},
     "output_type": "execute_result"
    }
   ],
   "source": [
    "# Operator overloading\n",
    "\"Hello\" + \" World\" # '+' operator is used for concatenation"
   ]
  },
  {
   "cell_type": "code",
   "execution_count": 70,
   "metadata": {},
   "outputs": [
    {
     "data": {
      "text/plain": [
       "9"
      ]
     },
     "execution_count": 70,
     "metadata": {},
     "output_type": "execute_result"
    }
   ],
   "source": [
    "4 + 5 # '+' operator is used for addition"
   ]
  },
  {
   "cell_type": "code",
   "execution_count": 71,
   "metadata": {},
   "outputs": [
    {
     "data": {
      "text/plain": [
       "[1, 2, 3, 4, 5]"
      ]
     },
     "execution_count": 71,
     "metadata": {},
     "output_type": "execute_result"
    }
   ],
   "source": [
    "[1, 2, 3] + [4, 5] # '+' operator is used for merginge"
   ]
  },
  {
   "cell_type": "markdown",
   "metadata": {},
   "source": [
    "## **Abstraction**\n",
    "\n",
    "**Abstraction** is an object-oriented programming (OOP) concept that focuses on **hiding the implementation details** of a feature while exposing only the necessary functionalities. It allows developers to work with high-level interfaces and simplifies the process of designing and using complex systems.\n",
    "\n",
    "**Key Characteristics of Abstraction**\n",
    "\n",
    "1. **Hiding Details:**\n",
    "   - The user doesn't need to know how the functionality is implemented; they only interact with the interface.\n",
    "   - This reduces complexity and enhances security by restricting access to sensitive code.\n",
    "\n",
    "2. **High-Level Interfaces:**\n",
    "   - Only the essential features of an object are shown, while the internal implementation is hidden.\n",
    "\n",
    "3. **Implemented Using Abstract Classes and Interfaces:**\n",
    "   - Abstract classes are blueprints for other classes.\n",
    "   - They cannot be instantiated directly and are meant to be inherited.\n",
    "\n",
    "\n",
    "**How Abstraction Works in Python**\n",
    "\n",
    "Python provides abstraction through the use of:\n",
    "1. **Abstract Base Classes (ABCs):**\n",
    "   - Defined using the `abc` module.\n",
    "   - Classes with one or more abstract methods are abstract classes.\n",
    "2. **Abstract Methods:**\n",
    "   - Methods declared but not implemented in an abstract class.\n",
    "\n",
    "**Advantages of Abstraction**\n",
    "\n",
    "1. **Reduces Complexity:**\n",
    "   - Users interact with the essential features without worrying about the implementation.\n",
    "2. **Improves Code Reusability:**\n",
    "   - Abstract classes and methods can be reused across different projects.\n",
    "3. **Promotes Flexibility:**\n",
    "   - Allows developers to change implementations without altering the interface.\n",
    "4. **Enhances Security:**\n",
    "   - Hides sensitive or unnecessary details from the end user.\n",
    "\n",
    "**Summary**\n",
    "\n",
    "| **Concept**                | **Description**                                          |\n",
    "|----------------------------|----------------------------------------------------------|\n",
    "| **Abstraction**             | Hiding implementation details and exposing functionalities. |\n",
    "| **Abstract Class**          | A class with abstract methods that acts as a blueprint.  |\n",
    "| **Abstract Method**         | A method declared in an abstract class but not implemented. |\n",
    "| **Concrete Class**          | A class that implements the abstract methods.           |\n",
    "\n",
    "**Abstraction** helps to design robust systems by defining clear interfaces, hiding implementation details, and enabling developers to focus on high-level interactions."
   ]
  },
  {
   "cell_type": "code",
   "execution_count": 72,
   "metadata": {},
   "outputs": [],
   "source": [
    "from abc import ABC, abstractmethod\n",
    "\n",
    "class BankApp(ABC):\n",
    "    def database(self):\n",
    "        print(\"Connected to database\")\n",
    "\n",
    "    @abstractmethod\n",
    "    def security(self):\n",
    "        pass\n",
    "\n",
    "    @abstractmethod\n",
    "    def display(self):\n",
    "        pass"
   ]
  },
  {
   "cell_type": "code",
   "execution_count": 73,
   "metadata": {},
   "outputs": [],
   "source": [
    "class MobileApp(BankApp):\n",
    "\n",
    "    def mobile_login(self):\n",
    "        print(\"login into mobile\")\n",
    "\n",
    "    def security(self):\n",
    "        print(\"mobile security\")\n",
    "\n",
    "    def display(self):\n",
    "        print(\"display\")"
   ]
  },
  {
   "cell_type": "code",
   "execution_count": 74,
   "metadata": {},
   "outputs": [],
   "source": [
    "mob = MobileApp()"
   ]
  },
  {
   "cell_type": "code",
   "execution_count": 75,
   "metadata": {},
   "outputs": [
    {
     "name": "stdout",
     "output_type": "stream",
     "text": [
      "mobile security\n",
      "display\n"
     ]
    }
   ],
   "source": [
    "mob.security()\n",
    "mob.display()"
   ]
  }
 ],
 "metadata": {
  "kernelspec": {
   "display_name": "py310",
   "language": "python",
   "name": "python3"
  },
  "language_info": {
   "codemirror_mode": {
    "name": "ipython",
    "version": 3
   },
   "file_extension": ".py",
   "mimetype": "text/x-python",
   "name": "python",
   "nbconvert_exporter": "python",
   "pygments_lexer": "ipython3",
   "version": "3.10.14"
  }
 },
 "nbformat": 4,
 "nbformat_minor": 2
}
