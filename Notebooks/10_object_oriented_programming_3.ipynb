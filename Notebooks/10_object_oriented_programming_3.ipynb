{
 "cells": [
  {
   "cell_type": "markdown",
   "metadata": {},
   "source": [
    "# **Object Oriented Programming (Part 3)**"
   ]
  },
  {
   "cell_type": "markdown",
   "metadata": {},
   "source": [
    "## **Class Relationship**\n",
    "\n",
    "In Python, class relationships refer to how classes are related to one another and how they interact in an object-oriented programming context. Here are two primary types of relationships:\n",
    "\n",
    "1. **Aggregation**: Represents a **\"has-a\"** relationship where the contained object can exist independently of the container.  \n",
    "\n",
    "2. **Inheritance**: Represents an **\"is-a\"** relationship where a child class inherits properties and behaviors from a parent class."
   ]
  },
  {
   "cell_type": "markdown",
   "metadata": {},
   "source": [
    "### **Aggregation (Has-a relationship)**"
   ]
  },
  {
   "cell_type": "code",
   "execution_count": 10,
   "metadata": {},
   "outputs": [
    {
     "name": "stdout",
     "output_type": "stream",
     "text": [
      "Roorkee, Haridwar-247667, India\n",
      "Mumbai, Maharashtra-400001, India\n"
     ]
    }
   ],
   "source": [
    "# Example\n",
    "class Customer:\n",
    "    def __init__(self, name, gender, address):\n",
    "        self.name = name\n",
    "        self.gender = gender\n",
    "        self.address = address\n",
    "\n",
    "    def print_address(self):\n",
    "        print(f\"{self.address.get_city()}, {self.address.state}-{self.address.pin}, {self.address.country}\")\n",
    "\n",
    "    def edit_profile(self, new_name, new_city, new_pin, new_state):\n",
    "        self.name = new_name\n",
    "        self.address.edit_addresss(new_city, new_pin, new_state)\n",
    "\n",
    "class Address:\n",
    "    def __init__(self, city, pin, state, country):\n",
    "        self.__city = city # what about private attribute\n",
    "        self.pin = pin\n",
    "        self.state = state\n",
    "        self.country = country\n",
    "\n",
    "    def get_city(self):\n",
    "        return self.__city\n",
    "    \n",
    "    def edit_addresss(self, new_city, new_pin, new_state):\n",
    "        self.__city = new_city\n",
    "        self.pin = new_pin\n",
    "        self.state = new_state\n",
    "\n",
    "address1 = Address(city=\"Roorkee\", pin=247667, state=\"Haridwar\", country=\"India\")\n",
    "customer1 = Customer(name=\"Krishnagopal Halde\", gender=\"Male\", address=address1)\n",
    "customer1.print_address()\n",
    "\n",
    "customer1.edit_profile(\"Akshat Goel\", \"Mumbai\", 400001, \"Maharashtra\")\n",
    "customer1.print_address()"
   ]
  },
  {
   "cell_type": "markdown",
   "metadata": {},
   "source": [
    "**Brief Explanation of Aggregation in the Example:**\n",
    "\n",
    "- **Aggregation** is demonstrated by the `Customer` class **\"having an\" Address** as part of its attributes (`address`).\n",
    "- The `Customer` object does not directly define or manage the properties of the `Address`. Instead, it uses an independent `Address` object.\n",
    "- Changes to the `Address` (via `edit_addresss`) affect the `Customer` object because the `Customer` holds a reference to the `Address` object.\n",
    "\n",
    "**Key Points:**\n",
    "1. **Independent `Address` Object:**  \n",
    "   The `Address` object (`address1`) exists separately and is passed to the `Customer` constructor.\n",
    "\n",
    "2. **Interaction with `Address`:**  \n",
    "   - The `Customer` uses methods like `get_city()` and `edit_addresss()` from the `Address` class to retrieve and modify its data.\n",
    "   - Modifications to the `Address` reflect automatically in the `Customer` as they share the same object.\n",
    "\n",
    "3. **Workflow:**  \n",
    "   - Initially, the address is set to `\"Roorkee, Haridwar-247667, India\"`.\n",
    "   - After calling `edit_profile`, the `Address` object is updated to `\"Mumbai, Maharashtra-400001, India\"`, and `Customer` reflects this change.\n"
   ]
  }
 ],
 "metadata": {
  "kernelspec": {
   "display_name": "py310",
   "language": "python",
   "name": "python3"
  },
  "language_info": {
   "codemirror_mode": {
    "name": "ipython",
    "version": 3
   },
   "file_extension": ".py",
   "mimetype": "text/x-python",
   "name": "python",
   "nbconvert_exporter": "python",
   "pygments_lexer": "ipython3",
   "version": "3.10.14"
  }
 },
 "nbformat": 4,
 "nbformat_minor": 2
}
