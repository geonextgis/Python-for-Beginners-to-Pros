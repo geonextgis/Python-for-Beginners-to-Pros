{
 "cells": [
  {
   "cell_type": "markdown",
   "metadata": {
    "tags": [
     "parameters"
    ]
   },
   "source": [
    "# **Python Strings**\n",
    "In Python, a string is a sequence of characters used to represent text. Strings are enclosed in quotes, either single (`'`), double (`\"`), triple single (`'''`), or triple double (`\"\"\"`). They are immutable, meaning they cannot be changed after creation. Strings can be concatenated, sliced, and have various methods for manipulation like `.lower()`, `.upper()`, and `.split()`. They also support formatting through f-strings and the `format()` method."
   ]
  },
  {
   "cell_type": "markdown",
   "metadata": {},
   "source": [
    "## **Creating String**"
   ]
  },
  {
   "cell_type": "code",
   "execution_count": 1,
   "metadata": {},
   "outputs": [
    {
     "name": "stdout",
     "output_type": "stream",
     "text": [
      "Hello\n"
     ]
    }
   ],
   "source": [
    "# Single-line strings\n",
    "myStr = 'Hello'\n",
    "myStr = \"Hello\"\n",
    "\n",
    "# Multi-line strings\n",
    "myStr = '''Hello'''\n",
    "myStr = \"\"\"Hello\"\"\"\n",
    "\n",
    "# Typecasting\n",
    "myStr = str(myStr)\n",
    "\n",
    "print(myStr)"
   ]
  },
  {
   "cell_type": "markdown",
   "metadata": {},
   "source": [
    "The format `\"It's raining outside.\"` demonstrates the use of single quotes inside a string enclosed in double quotes. This is useful for including an apostrophe in the text without needing an escape character."
   ]
  },
  {
   "cell_type": "code",
   "execution_count": 2,
   "metadata": {},
   "outputs": [
    {
     "data": {
      "text/plain": [
       "\"It's raining outside.\""
      ]
     },
     "execution_count": 2,
     "metadata": {},
     "output_type": "execute_result"
    }
   ],
   "source": [
    "\"It's raining outside.\""
   ]
  },
  {
   "cell_type": "markdown",
   "metadata": {},
   "source": [
    "## **Accessing Substrings from a String**\n",
    "\n",
    "In Python, both positive and negative indexing are used to access elements in sequences such as strings, lists, and tuples.\n",
    "\n",
    "- **Positive Indexing:** Positive indexing starts from 0, with the first element of the sequence having an index of 0, the second element an index of 1, and so on.\n",
    "\n",
    "- **Negative Indexing:** Negative indexing starts from -1, with the last element of the sequence having an index of -1, the second-to-last element an index of -2, and so on."
   ]
  },
  {
   "cell_type": "code",
   "execution_count": 3,
   "metadata": {},
   "outputs": [
    {
     "name": "stdout",
     "output_type": "stream",
     "text": [
      "h\n",
      "w\n"
     ]
    }
   ],
   "source": [
    "# Positive Indexing\n",
    "myStr = \"hello world\"\n",
    "print(myStr[0])\n",
    "print(myStr[6])\n",
    "# print(myStr[42]) # outputs error"
   ]
  },
  {
   "cell_type": "code",
   "execution_count": 4,
   "metadata": {},
   "outputs": [
    {
     "name": "stdout",
     "output_type": "stream",
     "text": [
      "d\n",
      "w\n"
     ]
    }
   ],
   "source": [
    "# Negative Indexing\n",
    "print(myStr[-1])\n",
    "print(myStr[-5])\n",
    "# print(myStr[-67]) # outputs error"
   ]
  },
  {
   "cell_type": "code",
   "execution_count": 5,
   "metadata": {},
   "outputs": [
    {
     "name": "stdout",
     "output_type": "stream",
     "text": [
      "hello\n",
      "ello\n",
      "hello world\n",
      "hlo\n",
      "dlrow olleh\n"
     ]
    }
   ],
   "source": [
    "# Slicing\n",
    "strSlice = myStr[:5]\n",
    "print(strSlice)\n",
    "print(myStr[1:5])\n",
    "print(myStr[:])\n",
    "print(myStr[0:6:2]) # With steps\n",
    "print(myStr[::-1]) # Reverse string"
   ]
  },
  {
   "cell_type": "markdown",
   "metadata": {},
   "source": [
    "\n",
    "When slicing with negative indexing in Python, the start index should be greater than the stop index for the slice to include elements from left to right in the sequence. This is because negative indexing counts from the end of the sequence."
   ]
  },
  {
   "cell_type": "code",
   "execution_count": 6,
   "metadata": {},
   "outputs": [
    {
     "name": "stdout",
     "output_type": "stream",
     "text": [
      "world\n",
      "dlrow\n"
     ]
    }
   ],
   "source": [
    "print(myStr[-5:])\n",
    "print(myStr[-1:-6:-1])"
   ]
  },
  {
   "cell_type": "markdown",
   "metadata": {},
   "source": [
    "## **Editing and Deleting Strings**\n",
    "Strings in Python are immutable, which means once they are created, they cannot be changed. However, you can create new strings based on modifications to existing ones. Additionally, while you cannot delete a part of a string, you can delete the entire string."
   ]
  },
  {
   "cell_type": "code",
   "execution_count": 7,
   "metadata": {},
   "outputs": [],
   "source": [
    "myStr = \"hello world\"\n",
    "# myStr[0] = \"H\" # outputs error"
   ]
  },
  {
   "cell_type": "code",
   "execution_count": 8,
   "metadata": {},
   "outputs": [],
   "source": [
    "# Delete a string\n",
    "del myStr"
   ]
  },
  {
   "cell_type": "code",
   "execution_count": 9,
   "metadata": {},
   "outputs": [],
   "source": [
    "# # Quick question\n",
    "# # Guess the output of this code cell\n",
    "# myStr = \"hello world\"\n",
    "# del myStr[-1:-5:-2]\n",
    "# print(myStr)"
   ]
  },
  {
   "cell_type": "markdown",
   "metadata": {},
   "source": [
    "## **Operations on Strings**\n",
    "Python allows various types of operations on strings, including arithmetic, relational, logical operations, loops, and membership operations.\n"
   ]
  },
  {
   "cell_type": "markdown",
   "metadata": {},
   "source": [
    "### Arithmetic Operations\n",
    "\n",
    "1. **Concatenation**: Combining two strings using the `+` operator.\n",
    "2. **Repetition**: Repeating a string multiple times using the `*` operator."
   ]
  },
  {
   "cell_type": "code",
   "execution_count": 10,
   "metadata": {},
   "outputs": [
    {
     "name": "stdout",
     "output_type": "stream",
     "text": [
      "Hello World\n",
      "**************************************************\n"
     ]
    }
   ],
   "source": [
    "# Concatenation\n",
    "print(\"Hello\" + \" \" + \"World\")\n",
    "\n",
    "# Repetition\n",
    "print(\"*\" * 50)"
   ]
  },
  {
   "cell_type": "markdown",
   "metadata": {},
   "source": [
    "### Relational Operations\n",
    "\n",
    "Relational operations compare strings lexicographically (based on the Unicode value of each character).\n",
    "\n",
    "1. **Equality (`==`)**\n",
    "\n",
    "2. **Inequality (`!=`)**\n",
    "\n",
    "3. **Greater than (`>`)**\n",
    "\n",
    "4. **Less than (`<`)**\n",
    "\n",
    "5. **Greater than or equal to (`>=`)**\n",
    "\n",
    "6. **Less than or equal to (`<=`)**"
   ]
  },
  {
   "cell_type": "code",
   "execution_count": 11,
   "metadata": {},
   "outputs": [
    {
     "data": {
      "text/plain": [
       "False"
      ]
     },
     "execution_count": 11,
     "metadata": {},
     "output_type": "execute_result"
    }
   ],
   "source": [
    "\"delhi\" == \"mumbai\""
   ]
  },
  {
   "cell_type": "code",
   "execution_count": 12,
   "metadata": {},
   "outputs": [
    {
     "data": {
      "text/plain": [
       "False"
      ]
     },
     "execution_count": 12,
     "metadata": {},
     "output_type": "execute_result"
    }
   ],
   "source": [
    "\"mumbai\" > \"pune\""
   ]
  },
  {
   "cell_type": "markdown",
   "metadata": {},
   "source": [
    "🤔 **Explanation:** <br>\n",
    "The output of `\"mumbai\" > \"pune\"` is `False` because string comparison in Python is done lexicographically, meaning it compares strings based on the Unicode values of their characters. It follows the same rules as alphabetical ordering in dictionaries.\n",
    "\n",
    "**Lexicographical Comparison:**<br>\n",
    "\n",
    "When comparing `\"mumbai\"` and `\"pune\"`, Python compares each character from the start until it finds a difference:\n",
    "\n",
    "1. Compare the first characters: `'m'` and `'p'`.\n",
    "2. The Unicode value of `'m'` (109) is less than the Unicode value of `'p'` (112).\n",
    "\n",
    "Since `'m'` is less than `'p'`, `\"mumbai\"` is considered less than `\"pune\"` lexicographically, and thus `\"mumbai\" > \"pune\"` evaluates to `False`."
   ]
  },
  {
   "cell_type": "code",
   "execution_count": 13,
   "metadata": {},
   "outputs": [
    {
     "data": {
      "text/plain": [
       "False"
      ]
     },
     "execution_count": 13,
     "metadata": {},
     "output_type": "execute_result"
    }
   ],
   "source": [
    "\"Pune\" > \"pune\""
   ]
  },
  {
   "cell_type": "markdown",
   "metadata": {},
   "source": [
    "🤔 **Explanation:** <br>\n",
    "\n",
    "The output of `\"Pune\" > \"pune\"` is `False` because of the way Python handles lexicographical comparisons, which are based on the Unicode values of the characters. In Unicode, uppercase letters have lower values than lowercase letters. When comparing `\"Pune\"` and `\"pune\"`, Python compares each character from the start until it finds a difference:\n",
    "\n",
    "1. Compare the first characters: `'P'` and `'p'`.\n",
    "2. The Unicode value of `'P'` (80) is less than the Unicode value of `'p'` (112).\n",
    "\n",
    "Since `'P'` is less than `'p'`, `\"Pune\"` is considered less than `\"pune\"` lexicographically, and thus `\"Pune\" > \"pune\"` evaluates to `False`.\n"
   ]
  },
  {
   "cell_type": "markdown",
   "metadata": {},
   "source": [
    "### Logical Operations"
   ]
  },
  {
   "cell_type": "code",
   "execution_count": 14,
   "metadata": {},
   "outputs": [
    {
     "data": {
      "text/plain": [
       "'world'"
      ]
     },
     "execution_count": 14,
     "metadata": {},
     "output_type": "execute_result"
    }
   ],
   "source": [
    "\"hello\" and \"world\""
   ]
  },
  {
   "cell_type": "markdown",
   "metadata": {},
   "source": [
    "🤔 **Explanation:** <br>\n",
    "\n",
    "The expression `\"hello\" and \"world\"` in Python evaluates to `\"world\"` due to the way the `and` logical operator functions. In Python, the `and` operator returns the first falsy value it encounters or the last value if all values are truthy. Both `\"hello\"` and `\"world\"` are non-empty strings, and non-empty strings are considered truthy in Boolean contexts. Since both operands are truthy, the `and` operator returns the last value, which is `\"world\"`. This behavior ensures that if any operand in the chain is falsy, it stops evaluating further and returns that falsy value; otherwise, it returns the last operand, which in this case is `\"world\"`."
   ]
  },
  {
   "cell_type": "code",
   "execution_count": 15,
   "metadata": {},
   "outputs": [
    {
     "data": {
      "text/plain": [
       "'hello'"
      ]
     },
     "execution_count": 15,
     "metadata": {},
     "output_type": "execute_result"
    }
   ],
   "source": [
    "\"hello\" or \"world\""
   ]
  },
  {
   "cell_type": "markdown",
   "metadata": {},
   "source": [
    "🤔 **Explanation:**<br>\n",
    "\n",
    "The expression `\"hello\" or \"world\"` in Python evaluates to `\"hello\"` due to the behavior of the `or` logical operator. In Python, the `or` operator returns the first truthy value it encounters or the last value if all are falsy. In this expression, `\"hello\"` is a non-empty string, which is considered truthy in a Boolean context. Because `\"hello\"` is truthy, the `or` operator does not need to evaluate the second operand, `\"world\"`, and immediately returns `\"hello\"`. This mechanism ensures that the `or` operator returns the first truthy value found, which in this case is `\"hello\"`, making the entire expression evaluate to `\"hello\"`."
   ]
  },
  {
   "cell_type": "code",
   "execution_count": 16,
   "metadata": {},
   "outputs": [
    {
     "data": {
      "text/plain": [
       "''"
      ]
     },
     "execution_count": 16,
     "metadata": {},
     "output_type": "execute_result"
    }
   ],
   "source": [
    "\"\" and \"world\""
   ]
  },
  {
   "cell_type": "markdown",
   "metadata": {},
   "source": [
    "🤔 **Explanation:**<br>\n",
    "\n",
    "The expression `\"\" and \"world\"` in Python evaluates to `\"\"` because of how the `and` logical operator works. In Python, the `and` operator returns the first falsy value it encounters or the last value if all operands are truthy. In this case, `\"\"` is an empty string, which is considered falsy in a Boolean context. As a result, when evaluating the expression `\"\" and \"world\"`, Python immediately encounters the falsy value `\"\"` and returns it without evaluating the second operand, `\"world\"`. This behavior ensures that the `and` operator stops at the first falsy value and returns it, making the entire expression evaluate to `\"\"`."
   ]
  },
  {
   "cell_type": "code",
   "execution_count": 17,
   "metadata": {},
   "outputs": [
    {
     "data": {
      "text/plain": [
       "'world'"
      ]
     },
     "execution_count": 17,
     "metadata": {},
     "output_type": "execute_result"
    }
   ],
   "source": [
    "\"\" or \"world\""
   ]
  },
  {
   "cell_type": "markdown",
   "metadata": {},
   "source": [
    "🤔 **Explanation:** <br>\n",
    "\n",
    "The expression `\"\" or \"world\"` in Python evaluates to `\"world\"` due to the behavior of the `or` logical operator. In Python, the `or` operator returns the first truthy value it encounters or the last value if all operands are falsy. In this case, `\"\"` is an empty string, which is considered falsy in a Boolean context. When evaluating the expression `\"\" or \"world\"`, Python first encounters the falsy value `\"\"` and then moves on to evaluate the next operand, `\"world\"`, which is a non-empty string and therefore truthy. Since `\"world\"` is the first truthy value in the expression, the `or` operator returns `\"world\"`. This demonstrates how the `or` operator ensures that the first truthy value is returned, making the entire expression evaluate to `\"world\"`."
   ]
  },
  {
   "cell_type": "code",
   "execution_count": 18,
   "metadata": {},
   "outputs": [
    {
     "name": "stdout",
     "output_type": "stream",
     "text": [
      "True\n",
      "False\n"
     ]
    }
   ],
   "source": [
    "print(not \"\")\n",
    "print(not \"hello\")"
   ]
  },
  {
   "cell_type": "markdown",
   "metadata": {},
   "source": [
    "### Loops on Strings\n",
    "Strings in Python are iterable, meaning you can loop through each character in a string using different types of loops. This allows you to perform operations or process each character individually."
   ]
  },
  {
   "cell_type": "code",
   "execution_count": 19,
   "metadata": {},
   "outputs": [
    {
     "name": "stdout",
     "output_type": "stream",
     "text": [
      "h\n",
      "e\n",
      "l\n",
      "l\n",
      "o\n"
     ]
    }
   ],
   "source": [
    "for i in \"hello\":\n",
    "    print(i)"
   ]
  },
  {
   "cell_type": "code",
   "execution_count": 20,
   "metadata": {},
   "outputs": [],
   "source": [
    "# # Quick question\n",
    "# # Guess the output of this code cell\n",
    "# for i in \"delhi\":\n",
    "#     print(\"pune\")"
   ]
  },
  {
   "cell_type": "markdown",
   "metadata": {},
   "source": [
    "### Membership Operations\n",
    "\n",
    "Membership operations in Python allow you to check whether a substring exists within another string. These operations are done using the `in` and `not in` operators."
   ]
  },
  {
   "cell_type": "code",
   "execution_count": 21,
   "metadata": {},
   "outputs": [
    {
     "data": {
      "text/plain": [
       "True"
      ]
     },
     "execution_count": 21,
     "metadata": {},
     "output_type": "execute_result"
    }
   ],
   "source": [
    "\"D\" in \"Delhi\""
   ]
  },
  {
   "cell_type": "code",
   "execution_count": 22,
   "metadata": {},
   "outputs": [
    {
     "data": {
      "text/plain": [
       "True"
      ]
     },
     "execution_count": 22,
     "metadata": {},
     "output_type": "execute_result"
    }
   ],
   "source": [
    "\"d\" not in \"Delhi\""
   ]
  },
  {
   "cell_type": "markdown",
   "metadata": {},
   "source": [
    "## **String Functions**"
   ]
  },
  {
   "cell_type": "markdown",
   "metadata": {},
   "source": [
    "### Common Functions\n",
    "\n",
    "Python provides several built-in functions to perform operations on strings. Four commonly used functions are `len()`, `max()`, `min()`, and `sorted()`.\n",
    "\n",
    "1. `len()`: The `len()` function returns the number of characters in a string.\n",
    "\n",
    "2. `max()`: The `max()` function returns the character with the highest Unicode value from the string. If the string is empty, it raises a `ValueError`.\n",
    "\n",
    "3. `min()`: The `min()` function returns the character with the lowest Unicode value from the string. If the string is empty, it raises a `ValueError`.\n",
    "   \n",
    "4. `sorted()`: The `sorted()` function returns a list of characters from the string, sorted in ascending order based on their Unicode values."
   ]
  },
  {
   "cell_type": "code",
   "execution_count": 23,
   "metadata": {},
   "outputs": [
    {
     "name": "stdout",
     "output_type": "stream",
     "text": [
      "5\n",
      "o\n",
      "H\n",
      "['H', 'e', 'l', 'l', 'o']\n",
      "['o', 'l', 'l', 'e', 'H']\n"
     ]
    }
   ],
   "source": [
    "myStr = \"Hello\"\n",
    "\n",
    "print(len(myStr))\n",
    "print(max(myStr))\n",
    "print(min(myStr))\n",
    "print(sorted(myStr)) # Sorted in ascending order\n",
    "print(sorted(myStr, reverse=True)) # Sorted in descending order"
   ]
  },
  {
   "cell_type": "markdown",
   "metadata": {},
   "source": [
    "### Capitalize/Title/Upper/Lower/Swapcase\n",
    "\n",
    "1. `capitalize()`: Capitalizes the first character of the string and converts all other characters to lowercase.\n",
    "\n",
    "2. `title()`: Capitalizes the first character of each word in the string and converts all other characters to lowercase.\n",
    "\n",
    "3. `upper()`: Converts all characters in the string to uppercase.\n",
    "\n",
    "4. `lower()`: Converts all characters in the string to lowercase.\n",
    "\n",
    "5. `swapcase()`: Swaps the case of all characters in the string; converts uppercase characters to lowercase and vice versa."
   ]
  },
  {
   "cell_type": "code",
   "execution_count": 24,
   "metadata": {},
   "outputs": [
    {
     "name": "stdout",
     "output_type": "stream",
     "text": [
      "Hello world\n",
      "Hello World\n",
      "HELLO WORLD\n",
      "hello world\n",
      "hEllO wOrlD\n"
     ]
    }
   ],
   "source": [
    "myStr = \"HeLLo WoRLd\"\n",
    "\n",
    "print(myStr.capitalize())\n",
    "print(myStr.title())\n",
    "print(myStr.upper())\n",
    "print(myStr.lower())\n",
    "print(myStr.swapcase())"
   ]
  },
  {
   "cell_type": "markdown",
   "metadata": {},
   "source": [
    "### Count/Find/Index\n",
    "\n",
    "1. `count()`: Returns the number of occurrences of a specified substring in the string.\n",
    "\n",
    "2. `find()`: Returns the lowest index of the specified substring if it is found in the string; otherwise, it returns `-1`.\n",
    "\n",
    "3. `index()`: Returns the lowest index of the specified substring if it is found in the string; otherwise, it raises a `ValueError`."
   ]
  },
  {
   "cell_type": "code",
   "execution_count": 25,
   "metadata": {},
   "outputs": [
    {
     "name": "stdout",
     "output_type": "stream",
     "text": [
      "2\n",
      "8\n",
      "8\n"
     ]
    }
   ],
   "source": [
    "myStr = \"My name is Krishnagopal\"\n",
    "\n",
    "print(myStr.count(\"i\"))\n",
    "print(myStr.find(\"is\"))\n",
    "print(myStr.index(\"is\"))"
   ]
  },
  {
   "cell_type": "markdown",
   "metadata": {},
   "source": [
    "### Endswith/Startswith\n",
    "1. `endswith()`: Checks if the string ends with a specified suffix. It returns `True` if the string ends with the suffix, and `False` otherwise.\n",
    "\n",
    "2. `startswith()`: Checks if the string starts with a specified prefix. It returns `True` if the string starts with the prefix, and `False` otherwise."
   ]
  },
  {
   "cell_type": "code",
   "execution_count": 26,
   "metadata": {},
   "outputs": [
    {
     "name": "stdout",
     "output_type": "stream",
     "text": [
      "True\n",
      "False\n",
      "True\n",
      "False\n"
     ]
    }
   ],
   "source": [
    "print(myStr.startswith(\"My\"))\n",
    "print(myStr.startswith(\"name\"))\n",
    "\n",
    "print(myStr.endswith(\"l\"))\n",
    "print(myStr.endswith(\"is\"))"
   ]
  },
  {
   "cell_type": "markdown",
   "metadata": {},
   "source": [
    "### Format\n",
    "The `format()` method in Python is used to format strings by embedding values within them. It allows you to insert and format values into a string using curly braces `{}` as placeholders."
   ]
  },
  {
   "cell_type": "code",
   "execution_count": 27,
   "metadata": {},
   "outputs": [
    {
     "data": {
      "text/plain": [
       "'My name is Krishnagopal Halder'"
      ]
     },
     "execution_count": 27,
     "metadata": {},
     "output_type": "execute_result"
    }
   ],
   "source": [
    "first_name = \"Krishnagopal\"\n",
    "last_name = \"Halder\"\n",
    "\n",
    "\"My name is {} {}\".format(first_name, last_name)"
   ]
  },
  {
   "cell_type": "markdown",
   "metadata": {},
   "source": [
    "### isalnum/isalpha/isdigit/isidentifier\n",
    "1. `isalnum()`: Returns `True` if all characters in the string are alphanumeric (i.e., letters and digits) and there is at least one character; otherwise, it returns `False`.\n",
    "\n",
    "2. `isalpha()`: Returns `True` if all characters in the string are alphabetic (i.e., letters) and there is at least one character; otherwise, it returns `False`.\n",
    "\n",
    "3. `isdigit()`: Returns `True` if all characters in the string are digits and there is at least one character; otherwise, it returns `False`.\n",
    "\n",
    "4. `isidentifier()`: Returns `True` if the string is a valid identifier (i.e., it starts with a letter or an underscore and consists of letters, digits, or underscores), and `False` otherwise."
   ]
  },
  {
   "cell_type": "code",
   "execution_count": 28,
   "metadata": {},
   "outputs": [
    {
     "name": "stdout",
     "output_type": "stream",
     "text": [
      "True\n",
      "True\n",
      "True\n",
      "True\n",
      "False\n"
     ]
    }
   ],
   "source": [
    "print(\"Alpha123\".isalnum())\n",
    "print(\"Krishnagopal\".isalpha())\n",
    "print(\"3214\".isdigit())\n",
    "print(\"fist_name\".isidentifier())\n",
    "print(\"1first_name\".isidentifier())"
   ]
  },
  {
   "cell_type": "markdown",
   "metadata": {},
   "source": [
    "### Split/Join\n",
    "Here’s a brief overview of the `split()` and `join()` string methods in Python:\n",
    "\n",
    "1. `split()`\n",
    "- **Description**: Splits a string into a list of substrings based on a specified delimiter (separator). By default, it splits on any whitespace and removes extra whitespace.\n",
    "- **Syntax**: `string.split(separator, maxsplit)`\n",
    "  - `separator` (optional): The delimiter on which to split the string. If not specified, whitespace is used.\n",
    "  - `maxsplit` (optional): The maximum number of splits to perform. The default value `-1` means \"all occurrences.\"\n",
    "\n",
    "2. `join()`\n",
    "- **Description**: Joins elements of an iterable (such as a list or tuple) into a single string, with a specified separator between each element.\n",
    "- **Syntax**: `separator.join(iterable)`\n",
    "  - `separator`: The string used as a separator between elements of the iterable.\n",
    "  - `iterable`: The iterable whose elements will be joined into a single string.\n",
    "\n"
   ]
  },
  {
   "cell_type": "code",
   "execution_count": 29,
   "metadata": {},
   "outputs": [
    {
     "name": "stdout",
     "output_type": "stream",
     "text": [
      "['My', 'name', 'is', 'Krishnagopal', 'Halder']\n",
      "['My name ', ' Kr', 'hnagopal Halder']\n"
     ]
    }
   ],
   "source": [
    "myStr = \"My name is Krishnagopal Halder\"\n",
    "\n",
    "print(myStr.split())\n",
    "print(myStr.split(\"is\"))"
   ]
  },
  {
   "cell_type": "code",
   "execution_count": 30,
   "metadata": {},
   "outputs": [
    {
     "name": "stdout",
     "output_type": "stream",
     "text": [
      "My name is Krishnagopal Halder\n",
      "My-name-is-Krishnagopal-Halder\n"
     ]
    }
   ],
   "source": [
    "print(\" \".join(['My', 'name', 'is', 'Krishnagopal', 'Halder']))\n",
    "print(\"-\".join(['My', 'name', 'is', 'Krishnagopal', 'Halder']))"
   ]
  },
  {
   "cell_type": "markdown",
   "metadata": {},
   "source": [
    "### Replace\n",
    "The `replace()` method is used to replace occurrences of a specified substring with another substring within a string. \n",
    "\n",
    "- **Usage**: This method is useful for replacing parts of a string with another string.\n",
    "- **Syntax**: `string.replace(old, new, count)`\n",
    "  - `old`: The substring to be replaced.\n",
    "  - `new`: The substring to replace the old substring with.\n",
    "  - `count` (optional): The maximum number of occurrences to replace. If not specified, all occurrences are replaced."
   ]
  },
  {
   "cell_type": "code",
   "execution_count": 31,
   "metadata": {},
   "outputs": [
    {
     "data": {
      "text/plain": [
       "'My name is Krishna'"
      ]
     },
     "execution_count": 31,
     "metadata": {},
     "output_type": "execute_result"
    }
   ],
   "source": [
    "myStr.replace(\"Krishnagopal Halder\", \"Krishna\")"
   ]
  },
  {
   "cell_type": "markdown",
   "metadata": {},
   "source": [
    "### Strip\n",
    "The `strip()` method is used to remove leading and trailing whitespace (or specified characters) from a string.\n",
    "\n",
    "- **Usage**: This method is useful for cleaning up strings by removing unwanted whitespace or specific characters from both ends of the string.\n",
    "- **Syntax**: `string.strip([chars])`\n",
    "  - `chars` (optional): A string specifying the set of characters to be removed. If not specified, the method removes whitespace by default.\n",
    "\n",
    "- **Variants**\n",
    "\n",
    "1. **`strip()`**: Removes characters from both ends of the string.\n",
    "2. **`lstrip()`**: Removes characters from the left end of the string.\n",
    "3. **`rstrip()`**: Removes characters from the right end of the string."
   ]
  },
  {
   "cell_type": "code",
   "execution_count": 32,
   "metadata": {},
   "outputs": [
    {
     "data": {
      "text/plain": [
       "'Krishnagopal Halder'"
      ]
     },
     "execution_count": 32,
     "metadata": {},
     "output_type": "execute_result"
    }
   ],
   "source": [
    "\"Krishnagopal Halder         \".strip()"
   ]
  },
  {
   "cell_type": "markdown",
   "metadata": {},
   "source": [
    "## **Exercises**"
   ]
  },
  {
   "cell_type": "code",
   "execution_count": 33,
   "metadata": {},
   "outputs": [],
   "source": [
    "# Find the length of a given string without using the len() function"
   ]
  },
  {
   "cell_type": "code",
   "execution_count": 34,
   "metadata": {},
   "outputs": [],
   "source": [
    "# Extract username from a given email. \n",
    "# Eg if the email is halder24krishnagopal@gmail.com \n",
    "# then the username should be halder24krishnagopal"
   ]
  },
  {
   "cell_type": "code",
   "execution_count": 35,
   "metadata": {},
   "outputs": [],
   "source": [
    "# Count the frequency of a particular character in a provided string. \n",
    "# Eg 'hello how are you' is the string, the frequency of h in this string is 2."
   ]
  },
  {
   "cell_type": "code",
   "execution_count": 36,
   "metadata": {},
   "outputs": [],
   "source": [
    "# Write a program which can remove a particular character from a string."
   ]
  },
  {
   "cell_type": "code",
   "execution_count": 37,
   "metadata": {},
   "outputs": [],
   "source": [
    "# Write a program that can check whether a given string is palindrome or not.\n",
    "# abba\n",
    "# malayalam"
   ]
  },
  {
   "cell_type": "code",
   "execution_count": 38,
   "metadata": {},
   "outputs": [],
   "source": [
    "# Write a program to count the number of words in a string without split()"
   ]
  },
  {
   "cell_type": "code",
   "execution_count": 39,
   "metadata": {},
   "outputs": [],
   "source": [
    "# Write a python program to convert a string to title case without using the title()"
   ]
  },
  {
   "cell_type": "code",
   "execution_count": 40,
   "metadata": {},
   "outputs": [],
   "source": [
    "# Write a program that can convert an integer to string."
   ]
  }
 ],
 "metadata": {
  "kernelspec": {
   "display_name": "py310",
   "language": "python",
   "name": "python3"
  },
  "language_info": {
   "codemirror_mode": {
    "name": "ipython",
    "version": 3
   },
   "file_extension": ".py",
   "mimetype": "text/x-python",
   "name": "python",
   "nbconvert_exporter": "python",
   "pygments_lexer": "ipython3",
   "version": "3.10.14"
  }
 },
 "nbformat": 4,
 "nbformat_minor": 2
}
