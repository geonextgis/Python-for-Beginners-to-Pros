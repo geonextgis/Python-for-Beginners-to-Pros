{
 "cells": [
  {
   "cell_type": "markdown",
   "metadata": {},
   "source": [
    "# **Object Oriented Programming (Part 1)**\n",
    "\n",
    "Object-Oriented Programming (OOP) is a programming paradigm based on the concept of \"objects,\" which can contain both data (in the form of fields, also known as attributes or properties) and code (in the form of methods, which are functions). OOP allows for the structuring of software in a way that models real-world entities, making the code more modular, flexible, and easier to maintain.\n",
    "\n",
    "In Object-Oriented Programming (OOP), we can build our own data types using **classes**. These user-defined data types (also known as **custom classes**) allow us to create objects that represent real-world entities or abstract concepts, with their own attributes (data) and methods (functions).\n",
    "\n",
    "For example, instead of relying solely on primitive data types like integers or strings, we can design a class to model more complex data, such as a `Person`, `Car`, or `BankAccount`. Each of these classes can encapsulate specific properties (e.g., name, balance, speed) and behaviors (e.g., withdraw money, accelerate, display information), enabling us to work with these objects in a structured and intuitive way.\n",
    "\n",
    "By defining our own data types, we extend the language’s capabilities and create reusable, modular components that can fit the needs of our particular application. This flexibility is one of the core strengths of OOP, promoting better code organization, readability, and maintainability.\n",
    "\n",
    "<img src=\"https://lh6.googleusercontent.com/yPsibbUh1aHOvi0U3-wtdlNpWWutbyYULv1PLkx0QlOOq81DiXVvPgvKVrtY7Ef1yZF5NLabXrHBjHL80lx9hTqR_64jGRFZdbR9FIs4LDR9RcEn1M9LX_D5i4fYKR4vNZA-dZ9R\" width=\"50%\">\n"
   ]
  },
  {
   "cell_type": "markdown",
   "metadata": {},
   "source": [
    "## **Class and Object**\n",
    "\n",
    "<img src=\"https://blog.kakaocdn.net/dn/cRfL7j/btrgJYeGDQP/r7GcNfnwCfJoBJwK4uhBw1/img.png\" width=\"50%\">\n",
    "\n",
    "In Object-Oriented Programming (OOP), **Class** and **Object** are fundamental concepts.\n",
    "\n",
    "**Class:** A **class** is a blueprint or template for creating objects. It defines a set of attributes (data) and methods (functions) that the objects created from the class will have.\n",
    "\n",
    "**Object:** An **object** is an instance of a class. When a class is defined, no memory is allocated until we create objects. Each object has its own values for the attributes defined in the class and can use the methods of the class.\n",
    "\n",
    "For example, when you work with Python’s built-in data types like lists, strings, or integers, you’re actually working with objects of classes predefined in Python. These objects have their own methods and properties.\n",
    "\n",
    "Let’s analyze the following code:"
   ]
  },
  {
   "cell_type": "code",
   "execution_count": 1,
   "metadata": {},
   "outputs": [
    {
     "name": "stdout",
     "output_type": "stream",
     "text": [
      "<class 'list'>\n"
     ]
    }
   ],
   "source": [
    "L = [1, 2, 3]\n",
    "print(type(L))  # Output: <class 'list'>\n",
    "# L.upper()       # This will raise an AttributeError"
   ]
  },
  {
   "cell_type": "markdown",
   "metadata": {},
   "source": [
    "\n",
    "- `L = [1, 2, 3]`: Here, `L` is an **object** of the class `list`. The class `list` is the blueprint for Python’s list data structure, and `L` is an instance (or object) of this class.\n",
    "- `print(type(L))`: This statement prints the type of `L`, which is `<class 'list'>`. This tells us that `L` is an object of the class `list`.\n",
    "- `L.upper()`: This will raise an `AttributeError` because the `list` class does not have a method called `upper`. The `upper()` method exists for `str` (string) objects, not for lists.\n"
   ]
  },
  {
   "cell_type": "markdown",
   "metadata": {},
   "source": [
    "## **Creating Class and Object**"
   ]
  },
  {
   "cell_type": "code",
   "execution_count": 2,
   "metadata": {},
   "outputs": [],
   "source": [
    "# We should write class name in Pascal Case\n",
    "# Write a class to represent an ATM system\n",
    "class ATM:\n",
    "    # constructor (special function)\n",
    "    def __init__(self):\n",
    "        self.pin = \"\"\n",
    "        self.balance = 0\n",
    "        self.menu()\n",
    "\n",
    "    def menu(self):\n",
    "        user_input = input(\n",
    "            \"\"\"\n",
    "            Hi how can I help you?\n",
    "            1. Press 1 to create pin\n",
    "            2. Press 2 to change pin\n",
    "            3. Press 3 to check balance\n",
    "            4. Press 4 to withdraw\n",
    "            5. Anything else to exit\n",
    "            \"\"\")\n",
    "\n",
    "        if user_input == \"1\":\n",
    "            self.create_pin()\n",
    "\n",
    "        elif user_input == \"2\":\n",
    "            self.change_pin()\n",
    "\n",
    "        elif user_input == \"3\":\n",
    "            self.check_balance()\n",
    "\n",
    "        elif user_input == \"4\":\n",
    "            self.withdraw()\n",
    "\n",
    "        else:\n",
    "            exit()\n",
    "        \n",
    "    def create_pin(self):\n",
    "        user_pin = input(\"Enter your PIN:\")\n",
    "        self.pin = user_pin\n",
    "\n",
    "        user_balance = int(input(\"Enter balance:\"))\n",
    "        self.balance = user_balance\n",
    "\n",
    "        print(\"PIN created successfully!\")\n",
    "        self.menu()\n",
    "\n",
    "    def change_pin(self):\n",
    "        old_pin = input(\"Enter old PIN:\")\n",
    "\n",
    "        if old_pin == self.pin:\n",
    "            # Let user change the PIN\n",
    "            new_pin = input(\"Enter new PIN:\")\n",
    "            self.pin = new_pin\n",
    "            print(\"PIN change successfully.\")\n",
    "            self.menu()\n",
    "\n",
    "        else:\n",
    "            print(\"You entered incorrect PIN.\")\n",
    "            self.menu()\n",
    "\n",
    "    def check_balance(self):\n",
    "        user_pin = input(\"Enter your PIN:\")\n",
    "        if user_pin == self.pin:\n",
    "            print(\"Your balance is \", self.balance)\n",
    "\n",
    "        else:\n",
    "            print(\"You entered incorrect PIN.\")\n",
    "\n",
    "    def withdraw(self):\n",
    "        user_pin = input(\"Enter your PIN:\")\n",
    "        if user_pin == self.pin:\n",
    "            amount = int(input(\"Enter the amount\"))\n",
    "            if amount <= self.balance:\n",
    "                self.balance = self.balance - amount\n",
    "                print(\"Withdrawl successfull. New balance is \", self.balance)\n",
    "\n",
    "            else:\n",
    "                print(\"Your account has insufficient balance.\")\n",
    "\n",
    "        else:\n",
    "            print(\"You entered incorrect PIN.\")\n",
    "\n",
    "        self.menu()"
   ]
  },
  {
   "cell_type": "code",
   "execution_count": 3,
   "metadata": {},
   "outputs": [],
   "source": [
    "# Create an object of the ATM class\n",
    "# obj = ATM()\n",
    "# print(type(obj))"
   ]
  },
  {
   "cell_type": "markdown",
   "metadata": {},
   "source": [
    "## **Class Diagram**\n",
    "Here’s the class diagram for the given `ATM` system, following the conventions where class names are written in **Pascal Case**:\n",
    "\n",
    "**ATM Class Diagram**\n",
    "\n",
    "```\n",
    "+---------------------+\n",
    "|        ATM          |\n",
    "+---------------------+\n",
    "| - pin: str          |\n",
    "| - balance: int      |\n",
    "+---------------------+\n",
    "| + __init__()        |\n",
    "| + menu()            |\n",
    "| + create_pin()      |\n",
    "| + change_pin()      |\n",
    "| + check_balance()   |\n",
    "| + withdraw()        |\n",
    "+---------------------+\n",
    "```\n",
    "\n",
    "**Explanation:**\n",
    "\n",
    "- **ATM** is the class name.\n",
    "- **Attributes (fields)**:\n",
    "  - `pin`: A private attribute that stores the user's PIN. It's initialized as an empty string.\n",
    "  - `balance`: A private attribute that stores the user's account balance. It's initialized as `0`.\n",
    "  \n",
    "- **Methods (operations)**:\n",
    "  - `__init__()`: The constructor, which initializes the `pin` and `balance` attributes and calls the `menu()` method.\n",
    "  - `menu()`: Displays a menu with options for creating a PIN, changing a PIN, checking balance, withdrawing money, or exiting the program.\n",
    "  - `create_pin()`: Allows the user to create a PIN and set an initial balance.\n",
    "  - `change_pin()`: Allows the user to change the current PIN if the old PIN is correctly provided.\n",
    "  - `check_balance()`: Prompts the user to enter their PIN and displays the account balance if the PIN is correct.\n",
    "  - `withdraw()`: Prompts the user for their PIN and withdraws the specified amount from the account if the PIN is correct and there are sufficient funds.\n",
    "\n",
    "In class diagrams, **\"+\"** and **\"-\"** symbols represent the visibility (or access control) of the class members (attributes and methods). Here's what they mean:\n",
    "\n",
    "- **\"+\" (Public):**\n",
    "  - This indicates that the attribute or method is **public**, meaning it can be accessed from outside the class. In Python, all attributes and methods are public by default unless otherwise specified.\n",
    "\n",
    "- **\"-\" (Private):**\n",
    "  - This indicates that the attribute or method is **private**, meaning it is only accessible from within the class itself and not from outside the class. In Python, you can make an attribute or method private by using a leading double underscore (`__`), though it's more of a convention in Python as the language doesn't enforce strict private access."
   ]
  },
  {
   "cell_type": "markdown",
   "metadata": {},
   "source": [
    "## **Methods vs Functions**\n",
    "In Python, the terms **methods** and **functions** are often used interchangeably, but they have distinct meanings based on their context.\n",
    "\n",
    "1. **Functions:**\n",
    "   - A **function** is a block of reusable code that performs a specific task. It can exist independently and is not associated with any particular object.\n",
    "   - Functions are defined using the `def` keyword and can take inputs (parameters) and return outputs (values).\n",
    "\n",
    "2. **Methods:**\n",
    "   - A **method** is similar to a function but is associated with an object (an instance of a class). In other words, a method is a function that \"belongs to\" an object.\n",
    "   - Methods are called on objects and can access and modify the data (attributes) within the object they belong to.\n",
    "   - Methods are defined inside a class and must take at least one parameter (`self`), which refers to the instance of the class."
   ]
  },
  {
   "cell_type": "code",
   "execution_count": 4,
   "metadata": {},
   "outputs": [],
   "source": [
    "L = [1, 2, 3]\n",
    "len(L) # function -> because it is outside the 'list' class\n",
    "L.append(4) # method -> because it is inside the 'list' class"
   ]
  },
  {
   "cell_type": "markdown",
   "metadata": {},
   "source": [
    "## **Magic Methods (a.k.a Dunder Methods)**\n",
    "**Magic methods** in Python, also known as **dunder (double underscore) methods**, are special methods that allow you to define how objects of a class should behave in certain operations. They have names that begin and end with double underscores (`__`), such as `__init__`, `__str__`, `__add__`, etc.\n",
    "\n",
    "Magic methods are used to implement the behavior of operators, object construction, type conversion, and other operations. Python automatically invokes these methods in specific situations, making them very powerful for customizing the behavior of objects.\n",
    "\n",
    "**Common Magic Methods:**\n",
    "\n",
    "1. **`__init__(self, ...)`** (Constructor)\n",
    "   - Called when a new instance of a class is created. It is used to initialize the object's state.\n",
    "\n",
    "2. **`__str__(self)`** (String Representation)\n",
    "   - Called when `str()` or `print()` is used on an object. It defines the human-readable string representation of the object.\n",
    "\n",
    "3. **`__len__(self)`** (Length of Object)\n",
    "   - Called when `len()` is used on an object. It defines how the object should respond when its length is queried."
   ]
  },
  {
   "cell_type": "markdown",
   "metadata": {},
   "source": [
    "## **Concept of `self`**\n",
    "In Python, the **`self`** keyword is used in the context of **class** and **instance methods**. It refers to the current instance of the class and allows access to the instance's attributes and methods.\n",
    "\n",
    "**Characteristics:**\n",
    "- `self` is a reference to the current instance of the class.\n",
    "- It is used to access attributes and methods associated with that instance.\n",
    "- `self` is passed automatically to instance methods in Python.\n",
    "- It’s a convention to name the first parameter of instance methods `self`, but any name can technically be used (though not recommended)."
   ]
  },
  {
   "cell_type": "code",
   "execution_count": 5,
   "metadata": {},
   "outputs": [],
   "source": [
    "# Write a class to represent an ATM system\n",
    "class ATM:\n",
    "    def __init__(self):\n",
    "        self.pin = \"\"\n",
    "        self.balance = 0\n",
    "        print(\"Address of self:\", id(self))\n",
    "        # self.menu()\n",
    "\n",
    "    def menu(self):\n",
    "        user_input = input(\n",
    "            \"\"\"\n",
    "            Hi how can I help you?\n",
    "            1. Press 1 to create pin\n",
    "            2. Press 2 to change pin\n",
    "            3. Press 3 to check balance\n",
    "            4. Press 4 to withdraw\n",
    "            5. Anything else to exit\n",
    "            \"\"\")\n",
    "\n",
    "        if user_input == \"1\":\n",
    "            self.create_pin()\n",
    "        else:\n",
    "            exit()\n",
    "        \n",
    "    def create_pin(self):\n",
    "        user_pin = input(\"Enter your PIN:\")\n",
    "        self.pin = user_pin\n",
    "\n",
    "        user_balance = int(input(\"Enter balance:\"))\n",
    "        self.balance = user_balance\n",
    "\n",
    "        print(\"PIN created successfully!\")\n",
    "        self.menu()"
   ]
  },
  {
   "cell_type": "code",
   "execution_count": 6,
   "metadata": {},
   "outputs": [
    {
     "name": "stdout",
     "output_type": "stream",
     "text": [
      "Address of self: 1612526022864\n",
      "Address of the object: 1612526022864\n"
     ]
    }
   ],
   "source": [
    "# Create an object of the ATM class\n",
    "obj = ATM()\n",
    "print(\"Address of the object:\", id(obj))"
   ]
  },
  {
   "cell_type": "code",
   "execution_count": 7,
   "metadata": {},
   "outputs": [
    {
     "name": "stdout",
     "output_type": "stream",
     "text": [
      "Address of self: 1612526020272\n",
      "Address of the object 2: 1612526020272\n"
     ]
    }
   ],
   "source": [
    "# Create another object of the ATM class\n",
    "obj2 = ATM()\n",
    "print(\"Address of the object 2:\", id(obj2))"
   ]
  },
  {
   "cell_type": "code",
   "execution_count": 8,
   "metadata": {},
   "outputs": [],
   "source": [
    "# class Fraction"
   ]
  },
  {
   "cell_type": "markdown",
   "metadata": {},
   "source": [
    "## **Build Custom Class**"
   ]
  },
  {
   "cell_type": "code",
   "execution_count": 9,
   "metadata": {},
   "outputs": [],
   "source": [
    "# Create a 'Fraction' class to represent fractions and perform arithmetic operations\n",
    "class Fraction:\n",
    "\n",
    "    # Parameterized Constructor: Initializes the numerator and denominator\n",
    "    def __init__(self, x, y):\n",
    "        self.num = x  # Numerator of the fraction\n",
    "        self.den = y  # Denominator of the fraction\n",
    "\n",
    "    # String representation of the fraction (e.g., '3/4')\n",
    "    def __str__(self):\n",
    "        return \"{}/{}\".format(self.num, self.den)\n",
    "\n",
    "    # Addition of two fractions\n",
    "    def __add__(self, other):\n",
    "        new_num = self.num * other.den + other.num * self.den\n",
    "        new_den = self.den * other.den\n",
    "\n",
    "        return \"{}/{}\".format(new_num, new_den)\n",
    "\n",
    "    # Subtraction of two fractions\n",
    "    def __sub__(self, other):\n",
    "        new_num = self.num * other.den - other.num * self.den\n",
    "        new_den = self.den * other.den\n",
    "\n",
    "        return \"{}/{}\".format(new_num, new_den)\n",
    "\n",
    "    # Multiplication of two fractions\n",
    "    def __mul__(self, other):\n",
    "        new_num = self.num * other.num\n",
    "        new_den = self.den * other.den\n",
    "\n",
    "        return \"{}/{}\".format(new_num, new_den)\n",
    "\n",
    "    # Division of two fractions\n",
    "    def __truediv__(self, other):\n",
    "        new_num = self.num * other.den\n",
    "        new_den = self.den * other.num\n",
    "\n",
    "        return \"{}/{}\".format(new_num, new_den)\n",
    "\n",
    "    # Convert the fraction to decimal\n",
    "    def convert_to_decimals(self):\n",
    "        return self.num / self.den"
   ]
  },
  {
   "cell_type": "code",
   "execution_count": 10,
   "metadata": {},
   "outputs": [
    {
     "name": "stdout",
     "output_type": "stream",
     "text": [
      "Fraction 1 object: 2/4\n",
      "Fraction 2 object: 4/6\n",
      "Addition of two fractions: 28/24\n",
      "Subtraction of two fractions: -4/24\n",
      "Multiplication of two fractions: 8/24\n",
      "Division of two fractions: 12/16\n",
      "Decimal representation of Fraction 1: 0.5\n",
      "Decimal representation of Fraction 2: 0.6666666666666666\n"
     ]
    }
   ],
   "source": [
    "# Create two fraction objects\n",
    "fraction1 = Fraction(2, 4)\n",
    "fraction2 = Fraction(4, 6)\n",
    "\n",
    "print(\"Fraction 1 object:\", fraction1)\n",
    "print(\"Fraction 2 object:\", fraction2)\n",
    "print(\"Addition of two fractions:\", fraction1 + fraction2)\n",
    "print(\"Subtraction of two fractions:\", fraction1 - fraction2)\n",
    "print(\"Multiplication of two fractions:\", fraction1 * fraction2)\n",
    "print(\"Division of two fractions:\", fraction1 / fraction2)\n",
    "print(\"Decimal representation of Fraction 1:\", fraction1.convert_to_decimals())\n",
    "print(\"Decimal representation of Fraction 2:\", fraction2.convert_to_decimals())"
   ]
  }
 ],
 "metadata": {
  "kernelspec": {
   "display_name": "py310",
   "language": "python",
   "name": "python3"
  },
  "language_info": {
   "codemirror_mode": {
    "name": "ipython",
    "version": 3
   },
   "file_extension": ".py",
   "mimetype": "text/x-python",
   "name": "python",
   "nbconvert_exporter": "python",
   "pygments_lexer": "ipython3",
   "version": "3.10.14"
  }
 },
 "nbformat": 4,
 "nbformat_minor": 2
}
