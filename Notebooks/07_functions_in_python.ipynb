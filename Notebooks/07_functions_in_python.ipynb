{
 "cells": [
  {
   "cell_type": "markdown",
   "metadata": {},
   "source": [
    "# **Functions in Python**\n",
    "\n",
    "In Python, functions are blocks of reusable code that perform a specific task. Functions help to organize code, avoid repetition, and improve modularity. They allow you to define a piece of logic once and use it multiple times throughout your program.\n",
    "\n",
    "<img src=\"https://encrypted-tbn0.gstatic.com/images?q=tbn:ANd9GcSGoN9-PHKz5ePpBqH7Mly_4QXMmNp35Tccew&s\" width=\"50%\">\n",
    "\n",
    "**Abstraction** and **decomposition** are two key concepts in programming that help manage complexity, especially when using functions.\n",
    "\n",
    "1. **Abstraction**:\n",
    "Abstraction is the process of **hiding the complex details** of a task and exposing only the essential features or functionalities. In the context of functions, abstraction means creating a function that performs a specific task without requiring the user of the function to know how it works internally.\n",
    "\n",
    "2. **Decomposition**:\n",
    "Decomposition is the process of **breaking down a large problem** into smaller, more manageable parts. In the context of functions, it involves splitting a complex task into simpler sub-tasks, where each sub-task can be handled by a separate function. This approach makes code easier to understand, test, and maintain."
   ]
  },
  {
   "cell_type": "markdown",
   "metadata": {},
   "source": [
    "## **Syntax of a Function**\n",
    "The syntax of a function in Python includes the function header, the function body, and optionally a return statement. Here's a breakdown of the structure:\n",
    "\n",
    "<img src=\"https://media.geeksforgeeks.org/wp-content/uploads/20220721172423/51.png\" width=\"50%\">"
   ]
  },
  {
   "cell_type": "code",
   "execution_count": 1,
   "metadata": {},
   "outputs": [
    {
     "data": {
      "text/plain": [
       "False"
      ]
     },
     "execution_count": 1,
     "metadata": {},
     "output_type": "execute_result"
    }
   ],
   "source": [
    "# Write a simple function to check whether a number is even or not\n",
    "def is_even(i):\n",
    "    \"\"\"Optional docstrings which tells us about the function, things like what inputs are required, what will the function return\n",
    "\n",
    "    Args:\n",
    "        i (int): The input number to check.\n",
    "\n",
    "    Returns:\n",
    "        bool: True if the number is even, False otherwise.\n",
    "    \"\"\"\n",
    "\n",
    "    if i % 2 == 0:\n",
    "        return True\n",
    "    else:\n",
    "        return False\n",
    "\n",
    "# Check the function (Function calling)\n",
    "is_even(3)"
   ]
  },
  {
   "cell_type": "markdown",
   "metadata": {},
   "source": [
    "The syntax of a function in Python includes the function header, the function body, and optionally a return statement. Here's a breakdown of \n",
    "\n",
    "Explanation:<br>\n",
    "- **`def`**: This keyword is used to define a new function.\n",
    "- **`function_name`**: This is the name you give to the function. It follows the same naming conventions as variables (e.g., no spaces, cannot start with a number).\n",
    "- **`parameters`**: These are the inputs the function can take (optional). If there are multiple parameters, they are separated by commas.\n",
    "- **`:`**: A colon marks the end of the function header and indicates that the function body will follow.\n",
    "- **Docstring** (Optional): A triple-quoted string that describes the purpose of the function. It helps document the code.\n",
    "- **Function body**: This is the indented block of code that contains the logic of the function. It can have any number of statements.\n",
    "- **`return`**: This keyword is used to return a value from the function (optional). If omitted, the function returns `None` by default."
   ]
  },
  {
   "cell_type": "code",
   "execution_count": 2,
   "metadata": {},
   "outputs": [
    {
     "name": "stdout",
     "output_type": "stream",
     "text": [
      "Optional docstrings which tells us about the function, things like what inputs are required, what will the function return\n",
      "\n",
      "    Args:\n",
      "        i (int): The input number to check.\n",
      "\n",
      "    Returns:\n",
      "        bool: True if the number is even, False otherwise.\n",
      "    \n"
     ]
    }
   ],
   "source": [
    "# Print the ddcumentation of a function\n",
    "print(is_even.__doc__)"
   ]
  },
  {
   "cell_type": "markdown",
   "metadata": {},
   "source": [
    "## **Two Point of Views**\n",
    "\n",
    "- Function Creator's View:\n",
    "  - **Clarity and modularity**: Design the function to be reusable, well-organized, and easy to understand.\n",
    "  - **Robustness**: Handle different input cases and ensure reliable performance with proper documentation.\n",
    "\n",
    "- Function User's View:\n",
    "  - **Simplicity**: The function should be easy to use with clear inputs and outputs.\n",
    "  - **Reliability**: The user expects the function to work correctly without needing to know its internal workings."
   ]
  },
  {
   "cell_type": "code",
   "execution_count": 3,
   "metadata": {},
   "outputs": [
    {
     "name": "stdout",
     "output_type": "stream",
     "text": [
      "Are you Mad?\n"
     ]
    }
   ],
   "source": [
    "# Modify the function to handle invalid data types gracefully without throwing an error\n",
    "def is_even(i):\n",
    "    \"\"\"Optional docstrings which tells us about the function, things like what inputs are required, what will the function return\n",
    "\n",
    "    Args:\n",
    "        i (int): The input number to check.\n",
    "\n",
    "    Returns:\n",
    "        bool: True if the number is even, False otherwise.\n",
    "    \"\"\"\n",
    "\n",
    "    if type(i) == int:\n",
    "        if i % 2 == 0:\n",
    "            return True\n",
    "        else:\n",
    "            return False\n",
    "    else:\n",
    "        print(\"Are you Mad?\")\n",
    "\n",
    "# Check the function (Function calling)\n",
    "is_even(\"y\")"
   ]
  },
  {
   "cell_type": "markdown",
   "metadata": {},
   "source": [
    "## **Parameters** vs **Arguments**\n",
    "\n",
    "- **Parameters** are the variables listed inside the function's definition. They act as placeholders for the values that the function expects to receive.\n",
    "  \n",
    "  Example:\n",
    "  ```python\n",
    "  def greet(name):  # 'name' is a parameter\n",
    "      print(f\"Hello, {name}!\")\n",
    "  ```\n",
    "\n",
    "- **Arguments** are the actual values passed to the function when it is called. These values are assigned to the corresponding parameters.\n",
    "\n",
    "  Example:\n",
    "  ```python\n",
    "  greet(\"Alice\")  # \"Alice\" is an argument\n",
    "  ```\n",
    "\n",
    "**Key Differences:**\n",
    "- **Parameters** are used when defining a function.\n",
    "- **Arguments** are the actual values supplied to the function during execution."
   ]
  },
  {
   "cell_type": "markdown",
   "metadata": {},
   "source": [
    "## **Types of Arguments**\n",
    "\n",
    "In Python, there are several types of arguments that can be passed to a function. These include:\n",
    "\n",
    "1. **Default Arguments**:\n",
    "A default argument in Python is an argument that takes a default value if no value is provided for it when the function is called. If the caller does not provide a corresponding argument during the function call, the default value is used."
   ]
  },
  {
   "cell_type": "code",
   "execution_count": 4,
   "metadata": {},
   "outputs": [
    {
     "name": "stdout",
     "output_type": "stream",
     "text": [
      "Hello, Aditi! You are 18 years old.\n"
     ]
    }
   ],
   "source": [
    "# Example\n",
    "def greet(name, age=18): # Default argument for 'age'\n",
    "    print(f\"Hello, {name}! You are {age} years old.\")\n",
    "\n",
    "greet(\"Aditi\")  # Only 'name' is provided; 'age' uses its default value of 18"
   ]
  },
  {
   "cell_type": "markdown",
   "metadata": {},
   "source": [
    "2. **Positional Arguments**: Positional arguments are arguments that are passed to a function in the correct positional order, meaning the first argument is assigned to the first parameter, the second argument to the second parameter, and so on. The order in which arguments are passed matters, and they must match the function parameters' positions."
   ]
  },
  {
   "cell_type": "code",
   "execution_count": 5,
   "metadata": {},
   "outputs": [
    {
     "name": "stdout",
     "output_type": "stream",
     "text": [
      "Hello, Aditi! You are 18 years old.\n"
     ]
    }
   ],
   "source": [
    "# Example\n",
    "def greet(name, age):\n",
    "    print(f\"Hello, {name}! You are {age} years old.\")\n",
    "\n",
    "# Calling the function with positional arguments\n",
    "greet(\"Aditi\", 18)  # Output: Hello, Aditi! You are 18 years old."
   ]
  },
  {
   "cell_type": "markdown",
   "metadata": {},
   "source": [
    "3. **Keyword Arguments**: Keyword arguments are arguments that are passed to a function using the name of the parameter explicitly, allowing you to assign values to specific parameters regardless of their order in the function definition. This makes the function call more readable and flexible."
   ]
  },
  {
   "cell_type": "code",
   "execution_count": 6,
   "metadata": {},
   "outputs": [
    {
     "name": "stdout",
     "output_type": "stream",
     "text": [
      "Hello, Aditi! You are 18 years old.\n"
     ]
    }
   ],
   "source": [
    "# Example\n",
    "def greet(name, age):\n",
    "    print(f\"Hello, {name}! You are {age} years old.\")\n",
    "\n",
    "# Calling the function with keyword arguments\n",
    "greet(age=18, name=\"Aditi\")"
   ]
  },
  {
   "cell_type": "markdown",
   "metadata": {},
   "source": [
    "## **args** vs **kwargs**\n",
    "\n",
    "In Python, `*args` and `**kwargs` are used in function definitions to allow the function to accept an arbitrary number of arguments. They are particularly useful when you don't know how many arguments will be passed to the function.\n",
    "\n",
    "**1. `*args` (Non-keyword variable-length arguments)**:\n",
    "- `*args` allows a function to accept any number of positional arguments. These arguments are passed as a tuple inside the function.\n",
    "\n",
    "\n",
    "- Key Points about `*args`:\n",
    "  - You can pass any number of positional arguments.\n",
    "  - Inside the function, `args` is treated as a tuple.\n",
    "  - The `*` is required before the parameter name (`args` can be replaced with any name, e.g., `*numbers`)."
   ]
  },
  {
   "cell_type": "code",
   "execution_count": 7,
   "metadata": {},
   "outputs": [
    {
     "data": {
      "text/plain": [
       "4.0"
      ]
     },
     "execution_count": 7,
     "metadata": {},
     "output_type": "execute_result"
    }
   ],
   "source": [
    "# Write a function to calculate average of n numbers\n",
    "def average(*args):\n",
    "\n",
    "    sum_of_nums = 0\n",
    "    for i in args:\n",
    "        sum_of_nums += i\n",
    "\n",
    "    return sum_of_nums / len(args)\n",
    "\n",
    "# Call the function\n",
    "average(2, 4, 6)"
   ]
  },
  {
   "cell_type": "markdown",
   "metadata": {},
   "source": [
    "**2. `**kwargs` (Keyword variable-length arguments)**:\n",
    "- `**kwargs` allows a function to accept any number of keyword arguments. These arguments are passed as a dictionary inside the function.\n",
    "\n",
    "- Key Points about `**kwargs`:\n",
    "  - You can pass any number of keyword arguments.\n",
    "  - Inside the function, `kwargs` is treated as a dictionary where the keys are parameter names, and the values are the corresponding arguments.\n",
    "  - The `**` is required before the parameter name (`kwargs` can be replaced with any name, e.g., `**info`).\n"
   ]
  },
  {
   "cell_type": "code",
   "execution_count": 8,
   "metadata": {},
   "outputs": [
    {
     "name": "stdout",
     "output_type": "stream",
     "text": [
      "name: Aditi\n",
      "age: 18\n",
      "city: Bonn\n",
      "country: Germany\n"
     ]
    }
   ],
   "source": [
    "# Write a function to display the information of a person\n",
    "def display_info(**kwargs):\n",
    "\n",
    "    for key, value in kwargs.items():\n",
    "        print(f\"{key}: {value}\")\n",
    "\n",
    "display_info(name=\"Aditi\", age=18, city=\"Bonn\", country=\"Germany\")"
   ]
  },
  {
   "cell_type": "markdown",
   "metadata": {},
   "source": [
    "**3. Combining `*args` and `**kwargs`:**\n",
    "   - We can also write a function that combines normal parameters, `*args`, and `**kwargs`. But in this case, the parameters must follow a specific order:\n",
    "\n",
    "     1. **Regular Parameters**: Required positional parameters come first.\n",
    "     2. **`*args`**: Allows for additional positional arguments (as a tuple) and must be placed after regular parameters.\n",
    "     3. **Default Parameters**: Parameters with default values follow `*args`.\n",
    "     4. **`**kwargs`**: Allows for additional keyword arguments (as a dictionary) and must be placed last.\n"
   ]
  },
  {
   "cell_type": "code",
   "execution_count": 9,
   "metadata": {},
   "outputs": [
    {
     "name": "stdout",
     "output_type": "stream",
     "text": [
      "Name: Sundar Pichai\n",
      "Age: 48\n",
      "Company: Google\n",
      "Hobbies:\n",
      "\tWatching Cricket\n",
      "\tListening Music\n",
      "email: pichaiS@gmail.com\n",
      "phone: 123456789\n"
     ]
    }
   ],
   "source": [
    "# Example\n",
    "def employee_info(name, age, *args, company=\"Google\", **kwargs):\n",
    "    \"\"\"\n",
    "    Display the information about an employee.\n",
    "\n",
    "    Args:\n",
    "        name (str): The employee's name\n",
    "        age (int): The employee's age\n",
    "        *args: Additional positional arguments (e.g., hobbies).\n",
    "        company (str, optional): Company name. Defaults to \"Google\".\n",
    "        **kwargs: Additional keyword arguments (e.g., address, skills).\n",
    "\n",
    "    Returns:\n",
    "        None\n",
    "    \"\"\"\n",
    "\n",
    "    # Print the normal parameters\n",
    "    print(f\"Name: {name}\")\n",
    "    print(f\"Age: {age}\")\n",
    "\n",
    "    # Print the default parameter\n",
    "    print(f\"Company: {company}\")\n",
    "\n",
    "    # Print additional positional arguments\n",
    "    if args:\n",
    "        print(\"Hobbies:\")\n",
    "        for i in args:\n",
    "            print(f\"\\t{i}\")\n",
    "\n",
    "    # Print additional keyword arguments\n",
    "    if kwargs:\n",
    "        for key, value in kwargs.items():\n",
    "            print(f\"{key}: {value}\")\n",
    "\n",
    "# Call the function\n",
    "employee_info(\"Sundar Pichai\", 48, \"Watching Cricket\", \"Listening Music\", \n",
    "              email=\"pichaiS@gmail.com\", phone=123456789)"
   ]
  }
 ],
 "metadata": {
  "kernelspec": {
   "display_name": "py310",
   "language": "python",
   "name": "python3"
  },
  "language_info": {
   "codemirror_mode": {
    "name": "ipython",
    "version": 3
   },
   "file_extension": ".py",
   "mimetype": "text/x-python",
   "name": "python",
   "nbconvert_exporter": "python",
   "pygments_lexer": "ipython3",
   "version": "3.10.14"
  }
 },
 "nbformat": 4,
 "nbformat_minor": 2
}
