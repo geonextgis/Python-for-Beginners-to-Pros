{
 "cells": [
  {
   "cell_type": "markdown",
   "metadata": {},
   "source": [
    "# **Functions in Python**\n",
    "\n",
    "In Python, functions are blocks of reusable code that perform a specific task. Functions help to organize code, avoid repetition, and improve modularity. They allow you to define a piece of logic once and use it multiple times throughout your program.\n",
    "\n",
    "<img src=\"https://data-flair.training/blogs/wp-content/uploads/sites/2/2018/01/Python-Functions.jpg\" width=\"50%\">\n",
    "\n",
    "**Abstraction** and **decomposition** are two key concepts in programming that help manage complexity, especially when using functions.\n",
    "\n",
    "1. **Abstraction**:\n",
    "Abstraction is the process of **hiding the complex details** of a task and exposing only the essential features or functionalities. In the context of functions, abstraction means creating a function that performs a specific task without requiring the user of the function to know how it works internally.\n",
    "\n",
    "2. **Decomposition**:\n",
    "Decomposition is the process of **breaking down a large problem** into smaller, more manageable parts. In the context of functions, it involves splitting a complex task into simpler sub-tasks, where each sub-task can be handled by a separate function. This approach makes code easier to understand, test, and maintain."
   ]
  },
  {
   "cell_type": "markdown",
   "metadata": {},
   "source": [
    "## **Syntax of a Function**\n",
    "The syntax of a function in Python includes the function header, the function body, and optionally a return statement. Here's a breakdown of the structure:\n",
    "\n",
    "<img src=\"https://media.geeksforgeeks.org/wp-content/uploads/20220721172423/51.png\" width=\"50%\">"
   ]
  },
  {
   "cell_type": "code",
   "execution_count": 1,
   "metadata": {},
   "outputs": [
    {
     "data": {
      "text/plain": [
       "False"
      ]
     },
     "execution_count": 1,
     "metadata": {},
     "output_type": "execute_result"
    }
   ],
   "source": [
    "# Write a simple function to check whether a number is even or not\n",
    "def is_even(i):\n",
    "    \"\"\"\n",
    "    Optional docstrings which tells us about the function, things like what inputs are required, what will the function return.\n",
    "\n",
    "    Args:\n",
    "        i (int): The input number to check.\n",
    "\n",
    "    Returns:\n",
    "        bool: True if the number is even, False otherwise.\n",
    "    \"\"\"\n",
    "\n",
    "    if i % 2 == 0:\n",
    "        return True\n",
    "    else:\n",
    "        return False\n",
    "\n",
    "# Check the function (Function calling)\n",
    "is_even(3)"
   ]
  },
  {
   "cell_type": "markdown",
   "metadata": {},
   "source": [
    "<!-- The syntax of a function in Python includes the function header, the function body, and optionally a return statement. Here's a breakdown of \n",
    "\n",
    "Explanation:<br>\n",
    "- **`def`**: This keyword is used to define a new function.\n",
    "- **`function_name`**: This is the name you give to the function. It follows the same naming conventions as variables (e.g., no spaces, cannot start with a number).\n",
    "- **`parameters`**: These are the inputs the function can take (optional). If there are multiple parameters, they are separated by commas.\n",
    "- **`:`**: A colon marks the end of the function header and indicates that the function body will follow.\n",
    "- **Docstring** (Optional): A triple-quoted string that describes the purpose of the function. It helps document the code.\n",
    "- **Function body**: This is the indented block of code that contains the logic of the function. It can have any number of statements.\n",
    "- **`return`**: This keyword is used to return a value from the function (optional). If omitted, the function returns `None` by default. -->"
   ]
  },
  {
   "cell_type": "code",
   "execution_count": 2,
   "metadata": {},
   "outputs": [
    {
     "name": "stdout",
     "output_type": "stream",
     "text": [
      "\n",
      "    Optional docstrings which tells us about the function, things like what inputs are required, what will the function return.\n",
      "\n",
      "    Args:\n",
      "        i (int): The input number to check.\n",
      "\n",
      "    Returns:\n",
      "        bool: True if the number is even, False otherwise.\n",
      "    \n"
     ]
    }
   ],
   "source": [
    "# Print the ddcumentation of a function\n",
    "print(is_even.__doc__)"
   ]
  },
  {
   "cell_type": "markdown",
   "metadata": {},
   "source": [
    "## **Two Point of Views**\n",
    "\n",
    "- Function Creator's View:\n",
    "  - **Clarity and modularity**: Design the function to be reusable, well-organized, and easy to understand.\n",
    "  - **Robustness**: Handle different input cases and ensure reliable performance with proper documentation.\n",
    "\n",
    "- Function User's View:\n",
    "  - **Simplicity**: The function should be easy to use with clear inputs and outputs.\n",
    "  - **Reliability**: The user expects the function to work correctly without needing to know its internal workings."
   ]
  },
  {
   "cell_type": "code",
   "execution_count": 3,
   "metadata": {},
   "outputs": [
    {
     "name": "stdout",
     "output_type": "stream",
     "text": [
      "Are you Mad?\n"
     ]
    }
   ],
   "source": [
    "# Modify the function to handle invalid data types gracefully without throwing an error\n",
    "def is_even(i):\n",
    "    \"\"\"Optional docstrings which tells us about the function, things like what inputs are required, what will the function return\n",
    "\n",
    "    Args:\n",
    "        i (int): The input number to check.\n",
    "\n",
    "    Returns:\n",
    "        bool: True if the number is even, False otherwise.\n",
    "    \"\"\"\n",
    "\n",
    "    if type(i) == int:\n",
    "        if i % 2 == 0:\n",
    "            return True\n",
    "        else:\n",
    "            return False\n",
    "    else:\n",
    "        print(\"Are you Mad?\")\n",
    "\n",
    "# Check the function (Function calling)\n",
    "is_even(\"y\")"
   ]
  },
  {
   "cell_type": "markdown",
   "metadata": {},
   "source": [
    "## **Parameters** vs **Arguments**\n",
    "\n",
    "- **Parameters** are the variables listed inside the function's definition. They act as placeholders for the values that the function expects to receive.\n",
    "  \n",
    "  Example:\n",
    "  ```python\n",
    "  def greet(name):  # 'name' is a parameter\n",
    "      print(f\"Hello, {name}!\")\n",
    "  ```\n",
    "\n",
    "- **Arguments** are the actual values passed to the function when it is called. These values are assigned to the corresponding parameters.\n",
    "\n",
    "  Example:\n",
    "  ```python\n",
    "  greet(\"Alice\")  # \"Alice\" is an argument\n",
    "  ```\n",
    "\n",
    "**Key Differences:**\n",
    "- **Parameters** are used when defining a function.\n",
    "- **Arguments** are the actual values supplied to the function during execution."
   ]
  },
  {
   "cell_type": "markdown",
   "metadata": {},
   "source": [
    "## **Types of Arguments**\n",
    "\n",
    "In Python, there are several types of arguments that can be passed to a function. These include:\n",
    "\n",
    "1. **Default Arguments**:\n",
    "A default argument in Python is an argument that takes a default value if no value is provided for it when the function is called. If the caller does not provide a corresponding argument during the function call, the default value is used."
   ]
  },
  {
   "cell_type": "code",
   "execution_count": 4,
   "metadata": {},
   "outputs": [
    {
     "name": "stdout",
     "output_type": "stream",
     "text": [
      "Hello, Aditi! You are 18 years old.\n"
     ]
    }
   ],
   "source": [
    "# Example\n",
    "def greet(name, age=18): # Default argument for 'age'\n",
    "    print(f\"Hello, {name}! You are {age} years old.\")\n",
    "\n",
    "greet(\"Aditi\")  # Only 'name' is provided; 'age' uses its default value of 18"
   ]
  },
  {
   "cell_type": "markdown",
   "metadata": {},
   "source": [
    "2. **Positional Arguments**: Positional arguments are arguments that are passed to a function in the correct positional order, meaning the first argument is assigned to the first parameter, the second argument to the second parameter, and so on. The order in which arguments are passed matters, and they must match the function parameters' positions."
   ]
  },
  {
   "cell_type": "code",
   "execution_count": 5,
   "metadata": {},
   "outputs": [
    {
     "name": "stdout",
     "output_type": "stream",
     "text": [
      "Hello, Aditi! You are 18 years old.\n"
     ]
    }
   ],
   "source": [
    "# Example\n",
    "def greet(name, age):\n",
    "    print(f\"Hello, {name}! You are {age} years old.\")\n",
    "\n",
    "# Calling the function with positional arguments\n",
    "greet(\"Aditi\", 18)  # Output: Hello, Aditi! You are 18 years old."
   ]
  },
  {
   "cell_type": "markdown",
   "metadata": {},
   "source": [
    "3. **Keyword Arguments**: Keyword arguments are arguments that are passed to a function using the name of the parameter explicitly, allowing you to assign values to specific parameters regardless of their order in the function definition. This makes the function call more readable and flexible."
   ]
  },
  {
   "cell_type": "code",
   "execution_count": 6,
   "metadata": {},
   "outputs": [
    {
     "name": "stdout",
     "output_type": "stream",
     "text": [
      "Hello, Aditi! You are 18 years old.\n"
     ]
    }
   ],
   "source": [
    "# Example\n",
    "def greet(name, age):\n",
    "    print(f\"Hello, {name}! You are {age} years old.\")\n",
    "\n",
    "# Calling the function with keyword arguments\n",
    "greet(age=18, name=\"Aditi\")"
   ]
  },
  {
   "cell_type": "markdown",
   "metadata": {},
   "source": [
    "## **`*args`** vs **`**kwargs`**\n",
    "\n",
    "In Python, `*args` and `**kwargs` are used in function definitions to allow the function to accept an arbitrary number of arguments. They are particularly useful when you don't know how many arguments will be passed to the function.\n",
    "\n",
    "**1. `*args` (Non-keyword variable-length arguments)**:\n",
    "- `*args` allows a function to accept any number of positional arguments. These arguments are passed as a tuple inside the function.\n",
    "\n",
    "\n",
    "- Key Points about `*args`:\n",
    "  - You can pass any number of positional arguments.\n",
    "  - Inside the function, `args` is treated as a tuple.\n",
    "  - The `*` is required before the parameter name (`args` can be replaced with any name, e.g., `*numbers`)."
   ]
  },
  {
   "cell_type": "code",
   "execution_count": 7,
   "metadata": {},
   "outputs": [
    {
     "data": {
      "text/plain": [
       "4.0"
      ]
     },
     "execution_count": 7,
     "metadata": {},
     "output_type": "execute_result"
    }
   ],
   "source": [
    "# Write a function to calculate average of n numbers\n",
    "def average(*args):\n",
    "\n",
    "    sum_of_nums = 0\n",
    "    for i in args:\n",
    "        sum_of_nums += i\n",
    "\n",
    "    return sum_of_nums / len(args)\n",
    "\n",
    "# Call the function\n",
    "average(2, 4, 6)"
   ]
  },
  {
   "cell_type": "markdown",
   "metadata": {},
   "source": [
    "**2. `**kwargs` (Keyword variable-length arguments)**:\n",
    "- `**kwargs` allows a function to accept any number of keyword arguments. These arguments are passed as a dictionary inside the function.\n",
    "\n",
    "- Key Points about `**kwargs`:\n",
    "  - You can pass any number of keyword arguments.\n",
    "  - Inside the function, `kwargs` is treated as a dictionary where the keys are parameter names, and the values are the corresponding arguments.\n",
    "  - The `**` is required before the parameter name (`kwargs` can be replaced with any name, e.g., `**info`).\n"
   ]
  },
  {
   "cell_type": "code",
   "execution_count": 8,
   "metadata": {},
   "outputs": [
    {
     "name": "stdout",
     "output_type": "stream",
     "text": [
      "name: Aditi\n",
      "age: 18\n",
      "city: Bonn\n",
      "country: Germany\n"
     ]
    }
   ],
   "source": [
    "# Write a function to display the information of a person\n",
    "def display_info(**kwargs):\n",
    "\n",
    "    for key, value in kwargs.items():\n",
    "        print(f\"{key}: {value}\")\n",
    "\n",
    "display_info(name=\"Aditi\", age=18, city=\"Bonn\", country=\"Germany\")"
   ]
  },
  {
   "cell_type": "markdown",
   "metadata": {},
   "source": [
    "**3. Combining `*args` and `**kwargs`:**\n",
    "   - We can also write a function that combines normal parameters, `*args`, and `**kwargs`. But in this case, the parameters must follow a specific order:\n",
    "\n",
    "     1. **Regular Parameters**: Required positional parameters come first.\n",
    "     2. **`*args`**: Allows for additional positional arguments (as a tuple) and must be placed after regular parameters.\n",
    "     3. **Default Parameters**: Parameters with default values follow `*args`.\n",
    "     4. **`**kwargs`**: Allows for additional keyword arguments (as a dictionary) and must be placed last.\n"
   ]
  },
  {
   "cell_type": "code",
   "execution_count": 9,
   "metadata": {},
   "outputs": [
    {
     "name": "stdout",
     "output_type": "stream",
     "text": [
      "Name: Sundar Pichai\n",
      "Age: 48\n",
      "Company: Google\n",
      "Hobbies:\n",
      "\tWatching Cricket\n",
      "\tListening Music\n",
      "email: pichaiS@gmail.com\n",
      "phone: 123456789\n"
     ]
    }
   ],
   "source": [
    "# Example\n",
    "def employee_info(name, age, *args, company=\"Google\", **kwargs):\n",
    "    \"\"\"\n",
    "    Display the information about an employee.\n",
    "\n",
    "    Args:\n",
    "        name (str): The employee's name\n",
    "        age (int): The employee's age\n",
    "        *args: Additional positional arguments (e.g., hobbies).\n",
    "        company (str, optional): Company name. Defaults to \"Google\".\n",
    "        **kwargs: Additional keyword arguments (e.g., address, skills).\n",
    "\n",
    "    Returns:\n",
    "        None\n",
    "    \"\"\"\n",
    "\n",
    "    # Print the normal parameters\n",
    "    print(f\"Name: {name}\")\n",
    "    print(f\"Age: {age}\")\n",
    "\n",
    "    # Print the default parameter\n",
    "    print(f\"Company: {company}\")\n",
    "\n",
    "    # Print additional positional arguments\n",
    "    if args:\n",
    "        print(\"Hobbies:\")\n",
    "        for i in args:\n",
    "            print(f\"\\t{i}\")\n",
    "\n",
    "    # Print additional keyword arguments\n",
    "    if kwargs:\n",
    "        for key, value in kwargs.items():\n",
    "            print(f\"{key}: {value}\")\n",
    "\n",
    "# Call the function\n",
    "employee_info(\"Sundar Pichai\", 48, \"Watching Cricket\", \"Listening Music\", \n",
    "              email=\"pichaiS@gmail.com\", phone=123456789)"
   ]
  },
  {
   "cell_type": "markdown",
   "metadata": {},
   "source": [
    "## **How Functions are Executed in Memory?**\n",
    "\n",
    "When a function runs, here’s what happens in simple terms:\n",
    "\n",
    "1. **Function Call**: When you call a function, a special \"box\" (called a stack frame) is created to hold everything the function needs, like its inputs (parameters) and temporary variables.\n",
    "\n",
    "2. **Memory Use**: The function uses two main areas in memory:\n",
    "   - **Stack**: For storing its inputs and local variables (small, short-term things).\n",
    "   - **Heap**: For bigger, longer-lasting things like objects or large data (if needed).\n",
    "\n",
    "3. **Running the Function**: The computer follows the instructions in the function, using the data in the stack to do its job.\n",
    "\n",
    "4. **Finishing Up**: When the function is done, it gives back a result (if needed) and removes the \"box\" (stack frame) it used, so the memory is freed up for the next function.\n",
    "\n",
    "5. **Memory Cleanup**: If the function made any big objects or data, the computer may clean them up later to free up space (in some languages, this happens automatically). \n",
    "\n",
    "So, the function gets its own space to work, does its job, and then cleans up when it’s done. To visualize the concept, please try this website: https://pythontutor.com/"
   ]
  },
  {
   "cell_type": "code",
   "execution_count": 10,
   "metadata": {},
   "outputs": [
    {
     "data": {
      "text/plain": [
       "False"
      ]
     },
     "execution_count": 10,
     "metadata": {},
     "output_type": "execute_result"
    }
   ],
   "source": [
    "# Try the tool with this function\n",
    "# Write a simple function to check whether a number is even or not\n",
    "def is_even(i):\n",
    "\n",
    "    if i % 2 == 0:\n",
    "        return True\n",
    "    else:\n",
    "        return False\n",
    "\n",
    "# Check the function (Function calling)\n",
    "is_even(3)"
   ]
  },
  {
   "cell_type": "markdown",
   "metadata": {},
   "source": [
    "## **Functions with No Return Statement**\n",
    "When a function doesn't have a `return` statement, it still runs and does its tasks, but it **doesn’t send any value back** to where it was called. In most programming languages, such functions automatically return a special value, like `None` in Python, or they just complete without returning anything in other languages like C or Java.\n",
    "\n",
    "**What Happens:**<br>\n",
    "1. **Execution**: The function runs and performs its operations just like any other function.\n",
    "2. **No Return**: If there’s no `return` statement, the function simply finishes after its last instruction.\n",
    "3. **Default Return**: In languages like Python, the function automatically returns `None`, meaning \"nothing.\" In other languages, it may not return any value at all."
   ]
  },
  {
   "cell_type": "code",
   "execution_count": 11,
   "metadata": {},
   "outputs": [
    {
     "name": "stdout",
     "output_type": "stream",
     "text": [
      "None\n",
      "[1, 2, 3, 4]\n"
     ]
    }
   ],
   "source": [
    "L = [1, 2, 3]\n",
    "print(L.append(4))\n",
    "print(L)"
   ]
  },
  {
   "cell_type": "markdown",
   "metadata": {},
   "source": [
    "## **Variable Scope**\n",
    "\n",
    "Variable scope refers to the part of a program where a variable can be accessed or used. There are different scopes that determine where a variable is visible and how long it exists in memory.\n",
    "\n",
    "**Types of Variable Scope:**\n",
    "\n",
    "1. **Local Scope**:\n",
    "   - Variables defined inside a function or block are **local variables**.\n",
    "   - They can only be accessed within that function or block.\n",
    "   - Once the function finishes, the local variables are deleted from memory.\n",
    "\n",
    "2. **Global Scope**:\n",
    "   - Variables defined outside all functions or blocks are **global variables**.\n",
    "   - They can be accessed from anywhere in the program, including inside functions.\n",
    "   - Global variables exist throughout the program’s execution.\n"
   ]
  },
  {
   "cell_type": "code",
   "execution_count": 12,
   "metadata": {},
   "outputs": [
    {
     "name": "stdout",
     "output_type": "stream",
     "text": [
      "5\n",
      "6\n",
      "5\n"
     ]
    }
   ],
   "source": [
    "# Example-1\n",
    "def g(y): # 'y' is a local variable\n",
    "    print(x)\n",
    "    print(x+1)\n",
    "\n",
    "x = 5 # 'x' is a global variable\n",
    "g(x)\n",
    "print(x)"
   ]
  },
  {
   "cell_type": "markdown",
   "metadata": {},
   "source": [
    "- **`x`** is a **global variable**, accessible both inside and outside the function `g()`. It remains unchanged after the function call.\n",
    "- **`y`** is a **local variable** to the function `g()`, only available inside the function, but it is not used in this code.\n",
    "- Inside the function, `x` refers to the global `x`, since there's no local `x` defined in the function."
   ]
  },
  {
   "cell_type": "code",
   "execution_count": 13,
   "metadata": {},
   "outputs": [
    {
     "name": "stdout",
     "output_type": "stream",
     "text": [
      "2\n",
      "5\n"
     ]
    }
   ],
   "source": [
    "# Exmaple-2\n",
    "def f(y):\n",
    "    x = 1 # here, 'x' is a local variable\n",
    "    x += 1\n",
    "    print(x)\n",
    "\n",
    "x = 5 # here, 'x' is a global varialble. There is no relation with the variable 'x' in the local scope\n",
    "f(x)\n",
    "print(x)"
   ]
  },
  {
   "cell_type": "markdown",
   "metadata": {},
   "source": [
    "- **`x` (global)**: Defined outside the function (`x = 5`), accessible globally but not affected by the function `f()`.\n",
    "- **`x` (local)**: Defined inside the function (`x = 1`), exists only within the function `f()` and is independent of the global `x`."
   ]
  },
  {
   "cell_type": "code",
   "execution_count": 14,
   "metadata": {},
   "outputs": [],
   "source": [
    "# # Example-3\n",
    "# def h(y):\n",
    "#     x += 1\n",
    "\n",
    "# x = 5\n",
    "# h(x)\n",
    "# print(x)"
   ]
  },
  {
   "cell_type": "markdown",
   "metadata": {},
   "source": [
    "- **`x` (global)**: Defined outside the function (`x = 5`), intended to be accessible globally.\n",
    "- **`x` (local)**: Inside the function `h(y)`, there is an attempt to modify `x` using `x += 1`, but no local `x` is defined. This leads to an error because the function tries to modify the global `x` without declaring it as global inside the function. "
   ]
  },
  {
   "cell_type": "code",
   "execution_count": 15,
   "metadata": {},
   "outputs": [
    {
     "name": "stdout",
     "output_type": "stream",
     "text": [
      "6\n"
     ]
    }
   ],
   "source": [
    "# Example-3\n",
    "def h(y):\n",
    "    global x\n",
    "    x += 1\n",
    "\n",
    "x = 5\n",
    "h(x)\n",
    "print(x)"
   ]
  },
  {
   "cell_type": "markdown",
   "metadata": {},
   "source": [
    "- **`x` (global)**: The variable `x` is defined globally with `x = 5` and is accessed and modified inside the function `h(y)` using the `global` keyword. \n",
    "- **`x` (local)**: Inside the function `h(y)`, `x` is treated as a global variable because of the `global` keyword. This allows the function to modify the global `x`."
   ]
  },
  {
   "cell_type": "code",
   "execution_count": 16,
   "metadata": {},
   "outputs": [
    {
     "name": "stdout",
     "output_type": "stream",
     "text": [
      "in f(x): x = 4\n",
      "in main program scope: z = 4\n",
      "in main program scope: x = 3\n"
     ]
    }
   ],
   "source": [
    "# Example-4\n",
    "def f(x):\n",
    "    x = x + 1\n",
    "    print(\"in f(x): x =\", x)\n",
    "    return x\n",
    "\n",
    "x = 3\n",
    "z = f(x)\n",
    "print(\"in main program scope: z =\", z)\n",
    "print(\"in main program scope: x =\", x)"
   ]
  },
  {
   "cell_type": "markdown",
   "metadata": {},
   "source": [
    "## **Nested Functions**\n",
    "\n",
    "A **nested function** is a function that is defined inside another function. In Python (and many other programming languages), you can define functions inside other functions to create more modular and maintainable code. The inner function is encapsulated within the outer function, meaning it is only accessible within the outer function and not from the outside scope.\n",
    "\n",
    "**Key points about nested functions:**\n",
    "1. **Scope**: The inner function can access variables from the outer function, but the outer function cannot access the inner function's variables unless returned explicitly.\n",
    "2. **Encapsulation**: Nested functions are useful for hiding helper functions that are not meant to be accessed from outside.\n",
    "3. **Closures**: If the inner function captures the variables of the outer function and keeps them in memory after the outer function has finished executing, this is called a closure."
   ]
  },
  {
   "cell_type": "code",
   "execution_count": null,
   "metadata": {},
   "outputs": [
    {
     "name": "stdout",
     "output_type": "stream",
     "text": [
      "inside inner function\n",
      "inside outer function\n"
     ]
    }
   ],
   "source": [
    "# Example-1\n",
    "def outer_function():\n",
    "    def inner_function():\n",
    "        print(\"inside inner function\")\n",
    "    inner_function()\n",
    "    print(\"inside outer function\")\n",
    "\n",
    "outer_function()"
   ]
  },
  {
   "cell_type": "code",
   "execution_count": 24,
   "metadata": {},
   "outputs": [
    {
     "name": "stdout",
     "output_type": "stream",
     "text": [
      "in g(x): x = 4\n"
     ]
    }
   ],
   "source": [
    "# Example-2\n",
    "def g(x):\n",
    "    def h():\n",
    "        x = \"abc\"\n",
    "    x = x + 1\n",
    "    print(\"in g(x): x =\", x)\n",
    "    h()\n",
    "    return x\n",
    "\n",
    "x = 3\n",
    "z = g(x)"
   ]
  },
  {
   "cell_type": "code",
   "execution_count": null,
   "metadata": {},
   "outputs": [
    {
     "name": "stdout",
     "output_type": "stream",
     "text": [
      "in g(x): x = 4\n",
      "in h(x): x = 5\n",
      "in main program scope: x = 3\n",
      "in main program scope: z = 4\n"
     ]
    }
   ],
   "source": [
    "# Example-3\n",
    "def g(x):\n",
    "    def h(x):\n",
    "        x = x+1\n",
    "        print(\"in h(x): x =\", x)\n",
    "    x = x + 1\n",
    "    print(\"in g(x): x =\", x)\n",
    "    h(x)\n",
    "    return x\n",
    "\n",
    "x = 3\n",
    "z = g(x)\n",
    "print(\"in main program scope: x =\", x)\n",
    "print(\"in main program scope: z =\", z)"
   ]
  },
  {
   "cell_type": "markdown",
   "metadata": {},
   "source": [
    "## **Functions are 1st Class Citizens**\n",
    "\n",
    "In Python, functions are first-class citizens, meaning they are treated like any other object/datatype, such as integers, strings, or lists. This concept allows functions to be used flexibly and passed around within the code just like other objects."
   ]
  },
  {
   "cell_type": "code",
   "execution_count": 37,
   "metadata": {},
   "outputs": [
    {
     "name": "stdout",
     "output_type": "stream",
     "text": [
      "<class 'function'>\n",
      "1671436863952\n"
     ]
    }
   ],
   "source": [
    "# type and id\n",
    "def square(num):\n",
    "    return num**2\n",
    "\n",
    "print(type(square))\n",
    "print(id(square))"
   ]
  },
  {
   "cell_type": "code",
   "execution_count": 33,
   "metadata": {},
   "outputs": [
    {
     "name": "stdout",
     "output_type": "stream",
     "text": [
      "1671436864096\n",
      "9\n"
     ]
    }
   ],
   "source": [
    "# reassign\n",
    "x = square\n",
    "print(id(x))\n",
    "print(x(3))"
   ]
  },
  {
   "cell_type": "code",
   "execution_count": 35,
   "metadata": {},
   "outputs": [],
   "source": [
    "# deleting a function\n",
    "del square"
   ]
  },
  {
   "cell_type": "code",
   "execution_count": 39,
   "metadata": {},
   "outputs": [
    {
     "data": {
      "text/plain": [
       "9"
      ]
     },
     "execution_count": 39,
     "metadata": {},
     "output_type": "execute_result"
    }
   ],
   "source": [
    "# storing\n",
    "L = [1, 2, 3, 4, square]\n",
    "L[-1](3)"
   ]
  },
  {
   "cell_type": "code",
   "execution_count": 40,
   "metadata": {},
   "outputs": [
    {
     "data": {
      "text/plain": [
       "{<function __main__.square(num)>}"
      ]
     },
     "execution_count": 40,
     "metadata": {},
     "output_type": "execute_result"
    }
   ],
   "source": [
    "S = {square}\n",
    "S # Function is immutable as it can be stored in a set"
   ]
  },
  {
   "cell_type": "code",
   "execution_count": 41,
   "metadata": {},
   "outputs": [
    {
     "name": "stdout",
     "output_type": "stream",
     "text": [
      "7\n"
     ]
    }
   ],
   "source": [
    "# returning a function\n",
    "def f():\n",
    "    def x(a, b):\n",
    "        return a+b\n",
    "    return x\n",
    "\n",
    "val = f()(3, 4)\n",
    "print(val)"
   ]
  },
  {
   "cell_type": "code",
   "execution_count": 43,
   "metadata": {},
   "outputs": [
    {
     "name": "stdout",
     "output_type": "stream",
     "text": [
      "inside func_b\n",
      "inside func_a\n",
      "None\n"
     ]
    }
   ],
   "source": [
    "# function as argument\n",
    "def func_a():\n",
    "    print(\"inside func_a\")\n",
    "\n",
    "def func_b(z):\n",
    "    print(\"inside func_b\")\n",
    "    return z()\n",
    "\n",
    "print(func_b(func_a))"
   ]
  },
  {
   "cell_type": "markdown",
   "metadata": {},
   "source": [
    "## **Benefits of using a Function**\n",
    "\n",
    "1. **Code Reusability**: Define once, use multiple times, reducing redundancy.\n",
    "2. **Modularity**: Break complex tasks into smaller, manageable parts.\n",
    "3. **Abstraction**: Hide internal details; users only need to know what the function does.\n",
    "4. **Code Organization**: Group related tasks, making code easier to read and maintain.\n",
    "5. **Simplified Debugging/Testing**: Test individual functions independently.\n",
    "6. **Reduces Code Duplication**: Avoid repeated code by reusing functions.\n",
    "7. **Improved Maintainability**: Easier to update logic in one place.\n",
    "8. **Supports Recursion**: Solve problems by calling a function within itself.\n",
    "9. **Facilitates Functional Programming**: Enables higher-order functions and functional programming patterns."
   ]
  },
  {
   "cell_type": "markdown",
   "metadata": {},
   "source": [
    "## **Lambda Function**\n",
    "A **lambda function** in Python is a small, anonymous function defined using the `lambda` keyword. Unlike regular functions defined with `def`, lambda functions are typically used for short, simple operations and are defined in a single line.\n",
    "\n",
    "**Key characteristics:**\n",
    "- **Anonymous**: Lambda functions don't require a name.\n",
    "- **Single Expression**: They can contain only a single expression (no statements or multiple lines).\n",
    "- **Syntax**: \n",
    "  ```python\n",
    "  lambda arguments: expression\n",
    "  ```\n",
    "\n",
    "  <img src=\"https://media.licdn.com/dms/image/v2/D4D12AQEchdPSA86FdA/article-cover_image-shrink_720_1280/article-cover_image-shrink_720_1280/0/1687841327729?e=1736380800&v=beta&t=e95ll6lmE1Jh5zgkQRiTmvMQjoKlLOOvo-7Awb_uw6Y\" width=\"50%\"> "
   ]
  },
  {
   "cell_type": "code",
   "execution_count": 44,
   "metadata": {},
   "outputs": [
    {
     "data": {
      "text/plain": [
       "4"
      ]
     },
     "execution_count": 44,
     "metadata": {},
     "output_type": "execute_result"
    }
   ],
   "source": [
    "# x -> x^2\n",
    "square = lambda x: x**2\n",
    "square(2)"
   ]
  },
  {
   "cell_type": "code",
   "execution_count": 45,
   "metadata": {},
   "outputs": [
    {
     "data": {
      "text/plain": [
       "7"
      ]
     },
     "execution_count": 45,
     "metadata": {},
     "output_type": "execute_result"
    }
   ],
   "source": [
    "# x, y -> x+y\n",
    "sum_ot_two_numbers = lambda x, y: x + y\n",
    "sum_ot_two_numbers(5, 2)"
   ]
  },
  {
   "cell_type": "markdown",
   "metadata": {},
   "source": [
    "### **Difference between Lambda vs Normal Function**\n",
    "Here’s a concise comparison between **lambda** and **normal (def)** functions:\n",
    "\n",
    "1. **Syntax**:\n",
    "   - **Lambda**: `lambda args: expression` (one-liner)\n",
    "   - **Normal**: `def function_name(args):` (multi-line)\n",
    "\n",
    "2. **Name**:\n",
    "   - **Lambda**: Anonymous, unless assigned to a variable.\n",
    "   - **Normal**: Always named.\n",
    "\n",
    "3. **Use Case**:\n",
    "   - **Lambda**: For short, simple tasks.\n",
    "   - **Normal**: For complex, multi-step logic.\n",
    "\n",
    "4. **Expressions**:\n",
    "   - **Lambda**: Single expression only.\n",
    "   - **Normal**: Multiple statements allowed.\n",
    "\n",
    "5. **Readability**:\n",
    "   - **Lambda**: Compact, less readable for complex tasks.\n",
    "   - **Normal**: Clearer, especially for longer code.\n",
    "\n",
    "6. **Return**:\n",
    "   - **Lambda**: Implicit return.\n",
    "   - **Normal**: Explicit `return`.\n",
    "\n",
    "Lambda functions are best for short, throwaway tasks; normal functions are better for more complex or reusable code. Lambda functions are generally used with Higher Order Function (HOF)."
   ]
  },
  {
   "cell_type": "code",
   "execution_count": 46,
   "metadata": {},
   "outputs": [
    {
     "data": {
      "text/plain": [
       "False"
      ]
     },
     "execution_count": 46,
     "metadata": {},
     "output_type": "execute_result"
    }
   ],
   "source": [
    "# Check if a string has 'a'\n",
    "check_a = lambda s: 'a' in s\n",
    "check_a(\"Hello\")"
   ]
  },
  {
   "cell_type": "code",
   "execution_count": 48,
   "metadata": {},
   "outputs": [
    {
     "data": {
      "text/plain": [
       "'odd'"
      ]
     },
     "execution_count": 48,
     "metadata": {},
     "output_type": "execute_result"
    }
   ],
   "source": [
    "# Check a number whether it is odd or even\n",
    "odd_or_even = lambda num: \"even\" if num % 2 == 0 else \"odd\"\n",
    "odd_or_even(3)"
   ]
  },
  {
   "cell_type": "markdown",
   "metadata": {},
   "source": [
    "### **Higher Order Functions**\n",
    "A **Higher-Order Function** is a function that either:\n",
    "\n",
    "1. **Takes one or more functions as arguments**, or\n",
    "2. **Returns a function** as its result.\n",
    "\n",
    "In other words, higher-order functions operate on other functions, treating them as \"first-class citizens\" (objects that can be passed, returned, or assigned)."
   ]
  },
  {
   "cell_type": "code",
   "execution_count": 52,
   "metadata": {},
   "outputs": [
    {
     "name": "stdout",
     "output_type": "stream",
     "text": [
      "[1, 4, 9, 16, 25]\n"
     ]
    }
   ],
   "source": [
    "# Example\n",
    "def square(num):\n",
    "    return num**2\n",
    "\n",
    "def cube(num):\n",
    "    return x**3\n",
    "\n",
    "# Higher Order Function (HOF)\n",
    "def transform(f, L):\n",
    "    output = []\n",
    "    for i in L:\n",
    "        output.append(f(i))\n",
    "\n",
    "    print(output)\n",
    "\n",
    "L = [1, 2, 3, 4, 5]\n",
    "transform(square, L)"
   ]
  },
  {
   "cell_type": "code",
   "execution_count": 53,
   "metadata": {},
   "outputs": [
    {
     "name": "stdout",
     "output_type": "stream",
     "text": [
      "[1, 8, 27, 64, 125]\n"
     ]
    }
   ],
   "source": [
    "transform(lambda x: x**3, L)"
   ]
  },
  {
   "cell_type": "markdown",
   "metadata": {},
   "source": [
    "### **Map**\n",
    "The **`map()`** function in Python applies a given function to each item of an iterable (like a list or tuple) and returns an iterator (or map object) with the results.\n",
    "\n",
    "**Syntax:**\n",
    "```python\n",
    "map(function, iterable)\n",
    "```\n",
    "- **function**: The function to apply to each element.\n",
    "- **iterable**: The iterable (list, tuple, etc.) whose items will be passed into the function."
   ]
  },
  {
   "cell_type": "code",
   "execution_count": 54,
   "metadata": {},
   "outputs": [
    {
     "data": {
      "text/plain": [
       "[1, 4, 9, 16, 25, 36]"
      ]
     },
     "execution_count": 54,
     "metadata": {},
     "output_type": "execute_result"
    }
   ],
   "source": [
    "# Square of the items of a list\n",
    "list(map(lambda x: x**2, [1, 2, 3, 4, 5, 6]))"
   ]
  },
  {
   "cell_type": "code",
   "execution_count": 55,
   "metadata": {},
   "outputs": [
    {
     "data": {
      "text/plain": [
       "['odd', 'even', 'odd', 'even', 'odd']"
      ]
     },
     "execution_count": 55,
     "metadata": {},
     "output_type": "execute_result"
    }
   ],
   "source": [
    "# Odd/Even labelling of list items\n",
    "L = [1, 2, 3, 4, 5]\n",
    "list(map(lambda num: \"even\" if num%2 == 0 else \"odd\", L))"
   ]
  },
  {
   "cell_type": "code",
   "execution_count": 58,
   "metadata": {},
   "outputs": [
    {
     "data": {
      "text/plain": [
       "['Rahul', 'Aditi', 'Sneha']"
      ]
     },
     "execution_count": 58,
     "metadata": {},
     "output_type": "execute_result"
    }
   ],
   "source": [
    "# Fetch names from a list of dict\n",
    "users = [\n",
    "    {\n",
    "        \"name\": \"Rahul\",\n",
    "        \"age\": 15,\n",
    "        \"gender\": \"male\"\n",
    "\n",
    "    },\n",
    "    {\n",
    "        \"name\": \"Aditi\",\n",
    "        \"age\": 14,\n",
    "        \"gender\": \"female\"\n",
    "    },\n",
    "    {\n",
    "        \"name\": \"Sneha\",\n",
    "        \"age\": 13,\n",
    "        \"gender\": \"female\"\n",
    "    }\n",
    "]\n",
    "\n",
    "list(map(lambda user: user[\"name\"], users))"
   ]
  },
  {
   "cell_type": "markdown",
   "metadata": {},
   "source": [
    "### **Filter**\n",
    "The **`filter()`** function in Python is used to filter elements from an iterable (like a list or tuple) based on a condition defined in a function. It returns an iterator containing only the elements for which the function returns `True`.\n",
    "\n",
    "**Syntax:**\n",
    "```python\n",
    "filter(function, iterable)\n",
    "```\n",
    "- **function**: A function that tests each element and returns `True` or `False`.\n",
    "- **iterable**: The iterable (list, tuple, etc.) to be filtered."
   ]
  },
  {
   "cell_type": "code",
   "execution_count": 59,
   "metadata": {},
   "outputs": [
    {
     "data": {
      "text/plain": [
       "[6, 7]"
      ]
     },
     "execution_count": 59,
     "metadata": {},
     "output_type": "execute_result"
    }
   ],
   "source": [
    "# Number greater than 5\n",
    "L = [3, 4, 5, 6, 7]\n",
    "\n",
    "list(filter(lambda x: x > 5, L))"
   ]
  },
  {
   "cell_type": "code",
   "execution_count": 60,
   "metadata": {},
   "outputs": [
    {
     "data": {
      "text/plain": [
       "['apple']"
      ]
     },
     "execution_count": 60,
     "metadata": {},
     "output_type": "execute_result"
    }
   ],
   "source": [
    "# Fetch fruits starting with 'a'\n",
    "fruits = [\"apple\", \"guava\", \"cherry\"]\n",
    "\n",
    "list(filter(lambda x: x.startswith(\"a\"), fruits))"
   ]
  },
  {
   "cell_type": "markdown",
   "metadata": {},
   "source": [
    "### **Reduce**\n",
    "\n",
    "The **`reduce()`** function in Python is used to apply a binary function (a function that takes two arguments) cumulatively to the items of an iterable, reducing the iterable to a single accumulated value.\n",
    "\n",
    "It is part of the **`functools`** module, so you need to import it first.\n",
    "\n",
    "**Syntax:**\n",
    "```python\n",
    "from functools import reduce\n",
    "reduce(function, iterable, [initializer])\n",
    "```\n",
    "- **function**: A function that takes two arguments and performs an operation (like addition, multiplication, etc.).\n",
    "- **iterable**: The iterable (list, tuple, etc.) whose elements are processed.\n",
    "- **initializer** (optional): A value that is used to start the accumulation. If provided, it's used as the initial value; otherwise, the first element of the iterable is used.\n",
    "\n",
    "**How it works:**\n",
    "- **First**: It applies the function to the first two elements of the iterable.\n",
    "- **Next**: It applies the function to the result of the previous operation and the next element of the iterable.\n",
    "- **Repeat**: It continues this process until only one result remains."
   ]
  },
  {
   "cell_type": "code",
   "execution_count": 62,
   "metadata": {},
   "outputs": [
    {
     "data": {
      "text/plain": [
       "15"
      ]
     },
     "execution_count": 62,
     "metadata": {},
     "output_type": "execute_result"
    }
   ],
   "source": [
    "# Sum of all numbers\n",
    "from functools import reduce\n",
    "\n",
    "reduce(lambda x, y: x+y, [1, 2, 3, 4, 5])"
   ]
  },
  {
   "cell_type": "code",
   "execution_count": 66,
   "metadata": {},
   "outputs": [
    {
     "data": {
      "text/plain": [
       "5"
      ]
     },
     "execution_count": 66,
     "metadata": {},
     "output_type": "execute_result"
    }
   ],
   "source": [
    "# Find min\n",
    "reduce(lambda x, y: min(x, y), [23, 11, 45, 10, 5])"
   ]
  },
  {
   "cell_type": "code",
   "execution_count": 67,
   "metadata": {},
   "outputs": [
    {
     "data": {
      "text/plain": [
       "5"
      ]
     },
     "execution_count": 67,
     "metadata": {},
     "output_type": "execute_result"
    }
   ],
   "source": [
    "reduce(lambda x, y: x if x<y else y, [23, 11, 45, 10, 5])"
   ]
  },
  {
   "cell_type": "code",
   "execution_count": 68,
   "metadata": {},
   "outputs": [
    {
     "data": {
      "text/plain": [
       "45"
      ]
     },
     "execution_count": 68,
     "metadata": {},
     "output_type": "execute_result"
    }
   ],
   "source": [
    "# Find max\n",
    "reduce(lambda x, y: x if x>y else y, [23, 11, 45, 10, 5])"
   ]
  }
 ],
 "metadata": {
  "kernelspec": {
   "display_name": "py310",
   "language": "python",
   "name": "python3"
  },
  "language_info": {
   "codemirror_mode": {
    "name": "ipython",
    "version": 3
   },
   "file_extension": ".py",
   "mimetype": "text/x-python",
   "name": "python",
   "nbconvert_exporter": "python",
   "pygments_lexer": "ipython3",
   "version": "3.10.14"
  }
 },
 "nbformat": 4,
 "nbformat_minor": 2
}
