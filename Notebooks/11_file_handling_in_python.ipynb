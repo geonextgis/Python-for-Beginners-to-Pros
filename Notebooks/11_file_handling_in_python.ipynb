{
 "cells": [
  {
   "cell_type": "markdown",
   "id": "ca51af8f",
   "metadata": {},
   "source": [
    "# File Handling in Python\n",
    "In this notebook, we'll explore basic file handling operations as well as using the `os` and `glob` modules."
   ]
  },
  {
   "cell_type": "markdown",
   "id": "2c79ac79",
   "metadata": {},
   "source": [
    "## 1. Basic File Handling in Python"
   ]
  },
  {
   "cell_type": "code",
   "execution_count": null,
   "id": "58be2c4b",
   "metadata": {},
   "outputs": [],
   "source": [
    "# Writing to a file\n",
    "with open('sample.txt', 'w') as f:\n",
    "    f.write('Hello, World!\\n')\n",
    "    f.write('Welcome to file handling in Python.\\n')\n",
    "print(\"File written successfully.\")"
   ]
  },
  {
   "cell_type": "code",
   "execution_count": null,
   "id": "b4113714",
   "metadata": {},
   "outputs": [],
   "source": [
    "# Reading from a file\n",
    "with open('sample.txt', 'r') as f:\n",
    "    content = f.read()\n",
    "print(\"File content:\")\n",
    "print(content)"
   ]
  },
  {
   "cell_type": "code",
   "execution_count": null,
   "id": "160c5e4e",
   "metadata": {},
   "outputs": [],
   "source": [
    "# Appending to a file\n",
    "with open('sample.txt', 'a') as f:\n",
    "    f.write('Appending a new line!\\n')\n",
    "print(\"Line appended successfully.\")"
   ]
  },
  {
   "cell_type": "code",
   "execution_count": null,
   "id": "03000a75",
   "metadata": {},
   "outputs": [],
   "source": [
    "# Reading the file again\n",
    "with open('sample.txt', 'r') as f:\n",
    "    content = f.read()\n",
    "print(\"Updated file content:\")\n",
    "print(content)"
   ]
  },
  {
   "cell_type": "markdown",
   "id": "f978fd7a",
   "metadata": {},
   "source": [
    "## 2. Using the `os` Module"
   ]
  },
  {
   "cell_type": "code",
   "execution_count": null,
   "id": "1e5b07db",
   "metadata": {},
   "outputs": [],
   "source": [
    "import os\n",
    "\n",
    "# Get current working directory\n",
    "cwd = os.getcwd()\n",
    "print(f\"Current working directory: {cwd}\")"
   ]
  },
  {
   "cell_type": "code",
   "execution_count": null,
   "id": "8039bba3",
   "metadata": {},
   "outputs": [],
   "source": [
    "# List all files and directories in the current directory\n",
    "entries = os.listdir(cwd)\n",
    "print(\"Directory contents:\")\n",
    "for entry in entries:\n",
    "    print(entry)"
   ]
  },
  {
   "cell_type": "code",
   "execution_count": null,
   "id": "b2c154a1",
   "metadata": {},
   "outputs": [],
   "source": [
    "# Check if a file or directory exists\n",
    "file_exists = os.path.exists('sample.txt')\n",
    "print(f\"Does 'sample.txt' exist? {file_exists}\")"
   ]
  },
  {
   "cell_type": "code",
   "execution_count": null,
   "id": "fb0a74e4",
   "metadata": {},
   "outputs": [],
   "source": [
    "# Create a new directory\n",
    "new_dir = 'test_dir'\n",
    "if not os.path.exists(new_dir):\n",
    "    os.mkdir(new_dir)\n",
    "    print(f\"Directory '{new_dir}' created.\")\n",
    "else:\n",
    "    print(f\"Directory '{new_dir}' already exists.\")"
   ]
  },
  {
   "cell_type": "code",
   "execution_count": null,
   "id": "fda0f5a3",
   "metadata": {},
   "outputs": [],
   "source": [
    "# Rename a file\n",
    "os.rename('sample.txt', 'renamed_sample.txt')\n",
    "print(\"File renamed to 'renamed_sample.txt'.\")"
   ]
  },
  {
   "cell_type": "code",
   "execution_count": null,
   "id": "14881029",
   "metadata": {},
   "outputs": [],
   "source": [
    "# Remove a file\n",
    "os.remove('renamed_sample.txt')\n",
    "print(\"File 'renamed_sample.txt' removed.\")"
   ]
  },
  {
   "cell_type": "code",
   "execution_count": null,
   "id": "290ba559",
   "metadata": {},
   "outputs": [],
   "source": [
    "# Remove the directory\n",
    "os.rmdir('test_dir')\n",
    "print(f\"Directory '{new_dir}' removed.\")"
   ]
  },
  {
   "cell_type": "markdown",
   "id": "0157ab39",
   "metadata": {},
   "source": [
    "## 3. Using the `glob` Module"
   ]
  },
  {
   "cell_type": "code",
   "execution_count": null,
   "id": "5bf5069e",
   "metadata": {},
   "outputs": [],
   "source": [
    "import glob\n",
    "\n",
    "# Create some files for demonstration\n",
    "for i in range(3):\n",
    "    with open(f'file_{i}.txt', 'w') as f:\n",
    "        f.write(f\"This is file {i}\\n\")\n",
    "\n",
    "print(\"Demo files created: file_0.txt, file_1.txt, file_2.txt\")"
   ]
  },
  {
   "cell_type": "code",
   "execution_count": null,
   "id": "360bcc3a",
   "metadata": {},
   "outputs": [],
   "source": [
    "# Find all .txt files\n",
    "txt_files = glob.glob('*.txt')\n",
    "print(\"List of .txt files:\")\n",
    "print(txt_files)"
   ]
  },
  {
   "cell_type": "code",
   "execution_count": null,
   "id": "56de447a",
   "metadata": {},
   "outputs": [],
   "source": [
    "# You can also use wildcard patterns\n",
    "file_1_pattern = glob.glob('file_1.*')\n",
    "print(\"Files matching 'file_1.*':\")\n",
    "print(file_1_pattern)"
   ]
  },
  {
   "cell_type": "code",
   "execution_count": null,
   "id": "84b7bed1",
   "metadata": {},
   "outputs": [],
   "source": [
    "# Cleanup: remove demo files\n",
    "for file in txt_files:\n",
    "    os.remove(file)\n",
    "print(\"Demo files removed.\")"
   ]
  }
 ],
 "metadata": {
  "language_info": {
   "name": "python"
  }
 },
 "nbformat": 4,
 "nbformat_minor": 5
}
